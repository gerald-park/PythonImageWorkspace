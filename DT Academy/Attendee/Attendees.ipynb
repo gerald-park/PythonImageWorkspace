{
 "cells": [
  {
   "cell_type": "code",
   "execution_count": 46,
   "id": "fbbd8db1",
   "metadata": {
    "scrolled": true
   },
   "outputs": [
    {
     "data": {
      "text/html": [
       "<div>\n",
       "<style scoped>\n",
       "    .dataframe tbody tr th:only-of-type {\n",
       "        vertical-align: middle;\n",
       "    }\n",
       "\n",
       "    .dataframe tbody tr th {\n",
       "        vertical-align: top;\n",
       "    }\n",
       "\n",
       "    .dataframe thead th {\n",
       "        text-align: right;\n",
       "    }\n",
       "</style>\n",
       "<table border=\"1\" class=\"dataframe\">\n",
       "  <thead>\n",
       "    <tr style=\"text-align: right;\">\n",
       "      <th></th>\n",
       "      <th>Attendees</th>\n",
       "      <th>Companies</th>\n",
       "    </tr>\n",
       "    <tr>\n",
       "      <th>No</th>\n",
       "      <th></th>\n",
       "      <th></th>\n",
       "    </tr>\n",
       "  </thead>\n",
       "  <tbody>\n",
       "    <tr>\n",
       "      <th>1</th>\n",
       "      <td>Patty O’Furniture</td>\n",
       "      <td>Handmade Graphics</td>\n",
       "    </tr>\n",
       "    <tr>\n",
       "      <th>2</th>\n",
       "      <td>Paddy O’Furniture</td>\n",
       "      <td>Astonishing Studio</td>\n",
       "    </tr>\n",
       "    <tr>\n",
       "      <th>3</th>\n",
       "      <td>Olive Yew</td>\n",
       "      <td>Eclipse Rises Builders</td>\n",
       "    </tr>\n",
       "    <tr>\n",
       "      <th>4</th>\n",
       "      <td>Aida Bugg</td>\n",
       "      <td>Pane In The Glass</td>\n",
       "    </tr>\n",
       "    <tr>\n",
       "      <th>5</th>\n",
       "      <td>Maureen Biologist</td>\n",
       "      <td>Go Figure</td>\n",
       "    </tr>\n",
       "    <tr>\n",
       "      <th>...</th>\n",
       "      <td>...</td>\n",
       "      <td>...</td>\n",
       "    </tr>\n",
       "    <tr>\n",
       "      <th>151</th>\n",
       "      <td>Anne T. Dote</td>\n",
       "      <td>The Invisible Feather Hardware Store</td>\n",
       "    </tr>\n",
       "    <tr>\n",
       "      <th>152</th>\n",
       "      <td>Claude Strophobia</td>\n",
       "      <td>Homespun Co</td>\n",
       "    </tr>\n",
       "    <tr>\n",
       "      <th>153</th>\n",
       "      <td>Anne Gloindian</td>\n",
       "      <td>Flood Line Printing</td>\n",
       "    </tr>\n",
       "    <tr>\n",
       "      <th>154</th>\n",
       "      <td>Dulcie Veeta</td>\n",
       "      <td>Single Explicit</td>\n",
       "    </tr>\n",
       "    <tr>\n",
       "      <th>155</th>\n",
       "      <td>Abby Normal</td>\n",
       "      <td>The Fading Android</td>\n",
       "    </tr>\n",
       "  </tbody>\n",
       "</table>\n",
       "<p>155 rows × 2 columns</p>\n",
       "</div>"
      ],
      "text/plain": [
       "             Attendees                             Companies\n",
       "No                                                          \n",
       "1    Patty O’Furniture                     Handmade Graphics\n",
       "2    Paddy O’Furniture                    Astonishing Studio\n",
       "3            Olive Yew                Eclipse Rises Builders\n",
       "4            Aida Bugg                     Pane In The Glass\n",
       "5    Maureen Biologist                             Go Figure\n",
       "..                 ...                                   ...\n",
       "151       Anne T. Dote  The Invisible Feather Hardware Store\n",
       "152  Claude Strophobia                           Homespun Co\n",
       "153     Anne Gloindian                   Flood Line Printing\n",
       "154       Dulcie Veeta                       Single Explicit\n",
       "155        Abby Normal                    The Fading Android\n",
       "\n",
       "[155 rows x 2 columns]"
      ]
     },
     "execution_count": 46,
     "metadata": {},
     "output_type": "execute_result"
    }
   ],
   "source": [
    "import pandas as pd\n",
    "df = pd.read_excel(\"Attendees.xlsx\", engine = \"openpyxl\")\n",
    "df.set_index('No')"
   ]
  },
  {
   "cell_type": "code",
   "execution_count": 19,
   "id": "1949f5ad",
   "metadata": {},
   "outputs": [
    {
     "data": {
      "text/plain": [
       "No                           1\n",
       "Attendees    Patty O’Furniture\n",
       "Companies    Handmade Graphics\n",
       "Name: 0, dtype: object"
      ]
     },
     "execution_count": 19,
     "metadata": {},
     "output_type": "execute_result"
    }
   ],
   "source": [
    "df.iloc[0]"
   ]
  },
  {
   "cell_type": "code",
   "execution_count": 26,
   "id": "78b9c97f",
   "metadata": {
    "scrolled": true
   },
   "outputs": [
    {
     "data": {
      "text/plain": [
       "'Patty O’Furniture'"
      ]
     },
     "execution_count": 26,
     "metadata": {},
     "output_type": "execute_result"
    }
   ],
   "source": [
    "df.loc[0,'Attendees']"
   ]
  },
  {
   "cell_type": "markdown",
   "id": "098a818d",
   "metadata": {},
   "source": [
    "## Pyclip로 데이터 카피"
   ]
  },
  {
   "cell_type": "code",
   "execution_count": 103,
   "id": "34dc04fc",
   "metadata": {},
   "outputs": [],
   "source": [
    "import pyperclip\n",
    "import pyautogui\n"
   ]
  },
  {
   "cell_type": "code",
   "execution_count": 82,
   "id": "c4c60788",
   "metadata": {},
   "outputs": [],
   "source": [
    "w = pyautogui.getWindowsWithTitle('NameTag.pptx')[0]\n",
    "pyautogui.click(w.center)"
   ]
  },
  {
   "cell_type": "code",
   "execution_count": 187,
   "id": "9f334d94",
   "metadata": {},
   "outputs": [],
   "source": [
    "pyautogui.mouseInfo()"
   ]
  },
  {
   "cell_type": "markdown",
   "id": "af81507c",
   "metadata": {},
   "source": [
    "## 위치별 좌표 지정하기 "
   ]
  },
  {
   "cell_type": "code",
   "execution_count": 188,
   "id": "099250bc",
   "metadata": {},
   "outputs": [],
   "source": [
    "masterslide = [1093,289]\n",
    "newslide = [1080,394]\n",
    "number = [1318,475]\n",
    "name = [1713,634]\n",
    "company = [1805,784]"
   ]
  },
  {
   "cell_type": "markdown",
   "id": "e0b872b8",
   "metadata": {},
   "source": [
    "## New Slide만들기 "
   ]
  },
  {
   "cell_type": "code",
   "execution_count": 177,
   "id": "45081ceb",
   "metadata": {},
   "outputs": [],
   "source": [
    "pyautogui.moveTo(masterslide)\n",
    "pyautogui.click()\n",
    "pyautogui.sleep(0.5)\n",
    "pyautogui.doubleClick()\n",
    "pyautogui.hotkey(\"ctrl\", \"c\")\n",
    "pyautogui.hotkey(\"ctrl\", \"v\")\n",
    "#select new slide \n",
    "pyautogui.moveTo(newslide)\n",
    "pyautogui.click()"
   ]
  },
  {
   "cell_type": "code",
   "execution_count": 178,
   "id": "344747f6",
   "metadata": {},
   "outputs": [],
   "source": [
    "def create_new_slide():\n",
    "    pyautogui.moveTo(masterslide)\n",
    "    pyautogui.click()\n",
    "    pyautogui.sleep(0.5)\n",
    "    pyautogui.doubleClick()\n",
    "    pyautogui.hotkey(\"ctrl\", \"c\")\n",
    "    pyautogui.hotkey(\"ctrl\", \"v\")\n",
    "    #select new slide \n",
    "    pyautogui.moveTo(newslide)\n",
    "    pyautogui.click()"
   ]
  },
  {
   "cell_type": "code",
   "execution_count": 112,
   "id": "08f55549",
   "metadata": {},
   "outputs": [],
   "source": [
    "create_new_slide()\n",
    "pyautogui.moveTo(name)\n",
    "pyautogui.doubleClick()\n",
    "pyperclip.copy(df.loc[i,'Attendees'])\n",
    "pyautogui.hotkey(\"ctrl\", \"v\")"
   ]
  },
  {
   "cell_type": "code",
   "execution_count": 156,
   "id": "a14a1eaa",
   "metadata": {},
   "outputs": [],
   "source": [
    "def copy_name(i):\n",
    "    pyautogui.moveTo(name)\n",
    "    pyautogui.doubleClick()\n",
    "    pyperclip.copy(df.loc[i,'Attendees'])\n",
    "    pyautogui.hotkey(\"ctrl\", \"v\")\n",
    "    pyautogui.sleep(0.5)"
   ]
  },
  {
   "cell_type": "code",
   "execution_count": 157,
   "id": "48a390df",
   "metadata": {},
   "outputs": [],
   "source": [
    "def copy_comapny(i):\n",
    "    pyautogui.moveTo(company)\n",
    "    pyautogui.doubleClick()\n",
    "    pyperclip.copy(df.loc[i,'Companies'])\n",
    "    pyautogui.hotkey(\"ctrl\", \"v\")\n",
    "    pyautogui.sleep(0.5)"
   ]
  },
  {
   "cell_type": "code",
   "execution_count": 165,
   "id": "970abdae",
   "metadata": {},
   "outputs": [],
   "source": [
    "def copy_number(i):\n",
    "    pyautogui.moveTo(number)\n",
    "    pyautogui.doubleClick()\n",
    "    pyperclip.copy(str(df.loc[i,'No']))\n",
    "    pyautogui.hotkey(\"ctrl\", \"v\")\n",
    "    pyautogui.sleep(0.5)"
   ]
  },
  {
   "cell_type": "code",
   "execution_count": 174,
   "id": "15ec9c56",
   "metadata": {},
   "outputs": [],
   "source": [
    "create_new_slide()"
   ]
  },
  {
   "cell_type": "code",
   "execution_count": 189,
   "id": "84f3a5b6",
   "metadata": {},
   "outputs": [],
   "source": [
    "idx = 7 \n",
    "create_new_slide()\n",
    "copy_name(idx)\n",
    "copy_comapny(idx)\n",
    "copy_number(idx)"
   ]
  },
  {
   "cell_type": "code",
   "execution_count": 195,
   "id": "7532d3df",
   "metadata": {},
   "outputs": [
    {
     "data": {
      "text/plain": [
       "155"
      ]
     },
     "execution_count": 195,
     "metadata": {},
     "output_type": "execute_result"
    }
   ],
   "source": []
  },
  {
   "cell_type": "code",
   "execution_count": 196,
   "id": "05197c2a",
   "metadata": {},
   "outputs": [],
   "source": [
    "for idx in range(0,len(df)) :\n",
    "    create_new_slide()\n",
    "    copy_name(idx)\n",
    "    copy_comapny(idx)\n",
    "    copy_number(idx)"
   ]
  }
 ],
 "metadata": {
  "kernelspec": {
   "display_name": "Python 3 (ipykernel)",
   "language": "python",
   "name": "python3"
  },
  "language_info": {
   "codemirror_mode": {
    "name": "ipython",
    "version": 3
   },
   "file_extension": ".py",
   "mimetype": "text/x-python",
   "name": "python",
   "nbconvert_exporter": "python",
   "pygments_lexer": "ipython3",
   "version": "3.9.12"
  }
 },
 "nbformat": 4,
 "nbformat_minor": 5
}
