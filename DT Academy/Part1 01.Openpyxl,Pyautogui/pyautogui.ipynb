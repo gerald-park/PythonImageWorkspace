{
 "cells": [
  {
   "cell_type": "markdown",
   "id": "4a34c91e-9e64-4bfc-ae0a-04ae2b642c94",
   "metadata": {},
   "source": [
    "# 키보드 마우스 화면 조작하기\n",
    "pyautogui"
   ]
  },
  {
   "cell_type": "code",
   "execution_count": 1,
   "id": "f80a22c0",
   "metadata": {},
   "outputs": [],
   "source": [
    "import pyautogui"
   ]
  },
  {
   "cell_type": "markdown",
   "id": "b962a367-e686-4a8c-9ff7-3b5e612bbd50",
   "metadata": {},
   "source": [
    "현재 화면 스크린 사이즈 알기"
   ]
  },
  {
   "cell_type": "code",
   "execution_count": 2,
   "id": "9f0a5f5a-30f8-4fff-801b-35eaa5197972",
   "metadata": {},
   "outputs": [
    {
     "name": "stdout",
     "output_type": "stream",
     "text": [
      "Size(width=1920, height=1080)\n"
     ]
    }
   ],
   "source": [
    "size = pyautogui.size() # 현재 화면의 스크린 사이즈를 가져옴\n",
    "print(size) # 가로, 세로 크기를 알 수 있음 "
   ]
  },
  {
   "cell_type": "markdown",
   "id": "70074a5b-c6a6-40a8-a112-5773e49c49aa",
   "metadata": {},
   "source": [
    "## 마우스 조작하기"
   ]
  },
  {
   "cell_type": "markdown",
   "id": "3e106910-eee9-4501-8e5e-d25a36d98e66",
   "metadata": {},
   "source": [
    "### 마우스 좌표 이동\n",
    "pyautogui.moveTo(x, y) # 지정한 위치(가로 x, 세로 y)로 마우스를 이동"
   ]
  },
  {
   "cell_type": "code",
   "execution_count": 4,
   "id": "cfa4afd9-4baa-4c6f-b87c-5fdc2b621e86",
   "metadata": {},
   "outputs": [],
   "source": [
    "pyautogui.moveTo(500, 300)"
   ]
  },
  {
   "cell_type": "code",
   "execution_count": 5,
   "id": "6475ab5d",
   "metadata": {},
   "outputs": [],
   "source": [
    "pyautogui.moveTo(100, 100, duration=1.0)\n",
    "pyautogui.moveTo(200, 200, duration=1.0)\n",
    "pyautogui.moveTo(300, 300, duration=1.0)"
   ]
  },
  {
   "cell_type": "markdown",
   "id": "0c288019",
   "metadata": {},
   "source": [
    "상대 좌표로 이동"
   ]
  },
  {
   "cell_type": "code",
   "execution_count": 9,
   "id": "4d320f88-10e3-48d9-b17e-8d5950e92909",
   "metadata": {},
   "outputs": [
    {
     "name": "stdout",
     "output_type": "stream",
     "text": [
      "Point(x=1290, y=738)\n"
     ]
    }
   ],
   "source": [
    "pyautogui.move(100, 100, duration=0.5) # 100, 100 기준으로 +100, +100 -> 200, 200\n",
    "print(pyautogui.position()) # Point(x, y)"
   ]
  },
  {
   "cell_type": "code",
   "execution_count": 10,
   "id": "bcaf2ffc",
   "metadata": {},
   "outputs": [
    {
     "name": "stdout",
     "output_type": "stream",
     "text": [
      "661 693\n",
      "661 693\n"
     ]
    }
   ],
   "source": [
    "p = pyautogui.position()\n",
    "print(p[0], p[1]) # x, y\n",
    "print(p.x, p.y) # x, y"
   ]
  },
  {
   "cell_type": "markdown",
   "id": "76bd5906",
   "metadata": {},
   "source": [
    "## 마우스 액션"
   ]
  },
  {
   "cell_type": "markdown",
   "id": "aa6b557e",
   "metadata": {},
   "source": [
    "마우스 클릭하기\n",
    "그림판 실행은 windows -> paint"
   ]
  },
  {
   "cell_type": "code",
   "execution_count": 12,
   "id": "5301e4a7",
   "metadata": {},
   "outputs": [],
   "source": [
    "pyautogui.click(300, 500, duration=1) # 1초 동안 (300, 500) 좌표로 이동 후 마우스 클릭\n",
    "pyautogui.sleep(3) \n",
    "pyautogui.mouseDown()\n",
    "pyautogui.sleep(3) \n",
    "pyautogui.mouseUp()"
   ]
  },
  {
   "cell_type": "markdown",
   "id": "00f3dc5f",
   "metadata": {},
   "source": [
    "마우스 누르고 3초뒤에 떼기"
   ]
  },
  {
   "cell_type": "code",
   "execution_count": 13,
   "id": "c67ed4dc",
   "metadata": {},
   "outputs": [],
   "source": [
    "pyautogui.mouseDown()\n",
    "pyautogui.sleep(3) \n",
    "pyautogui.mouseUp()"
   ]
  },
  {
   "cell_type": "markdown",
   "id": "6b90f92a",
   "metadata": {},
   "source": [
    "더블클릭 -> 탐색기 폴더 열기 "
   ]
  },
  {
   "cell_type": "code",
   "execution_count": 17,
   "id": "95616afa",
   "metadata": {},
   "outputs": [],
   "source": [
    "pyautogui.click()\n",
    "pyautogui.sleep(0.25) \n",
    "pyautogui.doubleClick()"
   ]
  },
  {
   "cell_type": "markdown",
   "id": "99cbc360",
   "metadata": {},
   "source": [
    "1초동안 500번 클릭하기"
   ]
  },
  {
   "cell_type": "code",
   "execution_count": 18,
   "id": "fdaa8d08",
   "metadata": {},
   "outputs": [],
   "source": [
    "pyautogui.sleep(3) # 3초 대기\n",
    "pyautogui.click(clicks=500, duration = 1)"
   ]
  },
  {
   "cell_type": "code",
   "execution_count": null,
   "id": "555f2bc2",
   "metadata": {},
   "outputs": [],
   "source": [
    "pyautogui.sleep(1) # 1초 대기\n",
    "pyautogui.moveTo(200, 200)\n",
    "pyautogui.mouseDown() # 마우스 버튼 누른 상태\n",
    "pyautogui.moveTo(300, 300)\n",
    "pyautogui.mouseUp() # 마우스 버튼 뗀 상태"
   ]
  },
  {
   "cell_type": "code",
   "execution_count": 19,
   "id": "443a9848",
   "metadata": {},
   "outputs": [],
   "source": [
    "pyautogui.sleep(1) # 1초 대기\n",
    "pyautogui.rightClick()"
   ]
  },
  {
   "cell_type": "code",
   "execution_count": 21,
   "id": "93ce4537",
   "metadata": {},
   "outputs": [],
   "source": [
    "pyautogui.drag(100, 0, button = 'left') # 현재 위치 기준으로 x 100 만큼, y 0 만큼 드래그"
   ]
  },
  {
   "cell_type": "code",
   "execution_count": 22,
   "id": "b481706c",
   "metadata": {},
   "outputs": [
    {
     "name": "stdout",
     "output_type": "stream",
     "text": [
      "Point(x=1334, y=618)\n"
     ]
    }
   ],
   "source": [
    "print(pyautogui.position())\n",
    "pyautogui.moveTo(1114, 349)\n",
    "\n",
    "pyautogui.drag(100, 0, button = 'left', duration=0.25) # 너무 빠른 동작으로 drag 수행이 안될때는 duration 값 설정\n",
    "pyautogui.dragTo(200, 300,button = 'right', duration=0.25) # 절대 좌표 기준으로 x 1514, y 349 로 드래그\n",
    "\n"
   ]
  },
  {
   "cell_type": "code",
   "execution_count": 26,
   "id": "908dc24b",
   "metadata": {},
   "outputs": [],
   "source": [
    "pyautogui.scroll(300) # 양수이면 위 방향으로, 음수이면 아래 방향으로 300만큼 스크롤."
   ]
  },
  {
   "cell_type": "markdown",
   "id": "e15f62a4",
   "metadata": {},
   "source": [
    "## 스크린샷 찍기"
   ]
  },
  {
   "cell_type": "code",
   "execution_count": 27,
   "id": "a5c9fb98",
   "metadata": {},
   "outputs": [],
   "source": [
    "img = pyautogui.screenshot()\n",
    "img.save(\"screenshot.png\") # 파일로 저장"
   ]
  },
  {
   "attachments": {
    "image.png": {
     "image/png": "[encoded data removed]"
    }
   },
   "cell_type": "markdown",
   "id": "c2d2f1fd",
   "metadata": {},
   "source": [
    "마우스커서가 위치한 부분의 정보 알아내기 \n",
    "![image.png](attachment:image.png)"
   ]
  },
  {
   "cell_type": "code",
   "execution_count": 29,
   "id": "a1ad878d",
   "metadata": {
    "scrolled": false
   },
   "outputs": [],
   "source": [
    "pyautogui.mouseInfo()"
   ]
  },
  {
   "cell_type": "markdown",
   "id": "9d85709e",
   "metadata": {},
   "source": [
    "# 1448,445 247,247,247 #F7F7F7"
   ]
  },
  {
   "cell_type": "code",
   "execution_count": 31,
   "id": "5fea1929",
   "metadata": {},
   "outputs": [
    {
     "name": "stdout",
     "output_type": "stream",
     "text": [
      "(247, 247, 247)\n"
     ]
    }
   ],
   "source": [
    "pixel = pyautogui.pixel(1448,445)\n",
    "print(pixel)"
   ]
  },
  {
   "cell_type": "code",
   "execution_count": 32,
   "id": "66848d7a",
   "metadata": {},
   "outputs": [
    {
     "name": "stdout",
     "output_type": "stream",
     "text": [
      "False\n",
      "True\n",
      "False\n"
     ]
    }
   ],
   "source": [
    "print(pyautogui.pixelMatchesColor(1448,445, (34,167,242)))\n",
    "print(pyautogui.pixelMatchesColor(1448,445, pixel))\n",
    "print(pyautogui.pixelMatchesColor(1448,445, (34,167,243)))"
   ]
  },
  {
   "cell_type": "markdown",
   "id": "81d418d8",
   "metadata": {},
   "source": [
    "# 이미지 인식"
   ]
  },
  {
   "cell_type": "code",
   "execution_count": 33,
   "id": "08fe8cc6",
   "metadata": {},
   "outputs": [
    {
     "name": "stdout",
     "output_type": "stream",
     "text": [
      "Box(left=5, top=35, width=55, height=21)\n"
     ]
    }
   ],
   "source": [
    "file_menu = pyautogui.locateOnScreen(\"file_menu.png\")\n",
    "print(file_menu)\n",
    "pyautogui.click(file_menu)\n",
    "pyautogui.click()"
   ]
  },
  {
   "cell_type": "code",
   "execution_count": 36,
   "id": "1be5e229",
   "metadata": {},
   "outputs": [
    {
     "name": "stdout",
     "output_type": "stream",
     "text": [
      "Box(left=1316, top=135, width=76, height=39)\n"
     ]
    }
   ],
   "source": [
    "kernel_menu = pyautogui.locateOnScreen(\"kernel_menu.png\", grayscale=False, confidence=0.8)\n",
    "print(kernel_menu)\n",
    "pyautogui.click(kernel_menu)"
   ]
  },
  {
   "cell_type": "markdown",
   "id": "79873dc5",
   "metadata": {},
   "source": [
    "# 윈도우 컨트롤\n",
    "창 정보,위치, 활성화, 최대/최소화 제어"
   ]
  },
  {
   "cell_type": "code",
   "execution_count": 37,
   "id": "8dac3319",
   "metadata": {},
   "outputs": [
    {
     "name": "stdout",
     "output_type": "stream",
     "text": [
      "pyautogui - Jupyter Notebook 외 페이지 4개 - 회사 - Microsoft​ Edge\n",
      "Size(width=974, height=1047)\n",
      "953 0 1927 1047\n"
     ]
    }
   ],
   "source": [
    "fw = pyautogui.getActiveWindow() # 현재 활성화된 창 (VSCode)\n",
    "print(fw.title) # 창의 제목 정보\n",
    "print(fw.size) # 창의 크기 정보 (width, height)\n",
    "print(fw.left, fw.top, fw.right, fw.bottom) # 창의 좌표 정보"
   ]
  },
  {
   "cell_type": "code",
   "execution_count": 38,
   "id": "1fb5d911",
   "metadata": {
    "scrolled": false
   },
   "outputs": [
    {
     "name": "stdout",
     "output_type": "stream",
     "text": [
      "<Win32Window left=\"1624\", top=\"864\", width=\"280\", height=\"160\", title=\"Microsoft Teams 통화 중 [교육] DT Academy - RPA (Python) <기초>\">\n",
      "<Win32Window left=\"0\", top=\"0\", width=\"1920\", height=\"1080\", title=\"\">\n",
      "<Win32Window left=\"953\", top=\"0\", width=\"974\", height=\"1047\", title=\"pyautogui - Jupyter Notebook 외 페이지 4개 - 회사 - Microsoft​ Edge\">\n",
      "<Win32Window left=\"-4\", top=\"4\", width=\"960\", height=\"1032\", title=\"제목 없음 - 그림판\">\n",
      "<Win32Window left=\"814\", top=\"179\", width=\"950\", height=\"836\", title=\"Part1 01.Openpyxl,Pyautogui\">\n",
      "<Win32Window left=\"0\", top=\"1\", width=\"1200\", height=\"932\", title=\"사진\">\n",
      "<Win32Window left=\"0\", top=\"0\", width=\"136\", height=\"39\", title=\"\">\n",
      "<Win32Window left=\"-8\", top=\"-8\", width=\"1936\", height=\"1056\", title=\"Anaconda Navigator\">\n",
      "<Win32Window left=\"0\", top=\"0\", width=\"1920\", height=\"1080\", title=\"PowerPoint 슬라이드 쇼  -  DT Academy – Python RPA 기초 .pptx\">\n",
      "<Win32Window left=\"0\", top=\"0\", width=\"1920\", height=\"1040\", title=\"\">\n",
      "<Win32Window left=\"310\", top=\"281\", width=\"960\", height=\"759\", title=\"packages.config - Visual Studio Code\">\n",
      "<Win32Window left=\"2\", top=\"0\", width=\"1918\", height=\"1040\", title=\"DT Academy – Python RPA 기초 .pptx - PowerPoint\">\n",
      "<Win32Window left=\"-6\", top=\"1040\", width=\"1934\", height=\"8\", title=\"\">\n",
      "<Win32Window left=\"1920\", top=\"-8\", width=\"8\", height=\"1056\", title=\"\">\n",
      "<Win32Window left=\"-6\", top=\"-8\", width=\"8\", height=\"1056\", title=\"\">\n",
      "<Win32Window left=\"-6\", top=\"-8\", width=\"1934\", height=\"8\", title=\"\">\n",
      "<Win32Window left=\"0\", top=\"0\", width=\"1920\", height=\"1040\", title=\"\">\n",
      "<Win32Window left=\"3\", top=\"0\", width=\"1913\", height=\"969\", title=\"[교육] DT Academy - RPA (Python) <기초> | Microsoft Teams\">\n",
      "<Win32Window left=\"10\", top=\"10\", width=\"945\", height=\"1020\", title=\"시가총액 : 네이버 금융 - Chrome\">\n",
      "<Win32Window left=\"0\", top=\"0\", width=\"1920\", height=\"1040\", title=\"BlueStacks\">\n",
      "<Win32Window left=\"26\", top=\"26\", width=\"100\", height=\"100\", title=\"MainWindow\">\n",
      "<Win32Window left=\"0\", top=\"1\", width=\"402\", height=\"560\", title=\"계산기\">\n",
      "<Win32Window left=\"-8\", top=\"-8\", width=\"1936\", height=\"1096\", title=\"\">\n",
      "<Win32Window left=\"-8\", top=\"-8\", width=\"1936\", height=\"1096\", title=\"\">\n",
      "<Win32Window left=\"0\", top=\"1\", width=\"1282\", height=\"953\", title=\"설정\">\n",
      "<Win32Window left=\"313\", top=\"85\", width=\"1298\", height=\"962\", title=\"설정\">\n",
      "<Win32Window left=\"0\", top=\"8\", width=\"2560\", height=\"1400\", title=\"메일\">\n",
      "<Win32Window left=\"785\", top=\"337\", width=\"472\", height=\"497\", title=\"계정 추가\">\n",
      "<Win32Window left=\"-8\", top=\"-8\", width=\"1936\", height=\"1056\", title=\"메일\">\n",
      "<Win32Window left=\"-1000\", top=\"-1000\", width=\"16\", height=\"16\", title=\"TcHmiSrv SysTray\">\n",
      "<Win32Window left=\"0\", top=\"0\", width=\"0\", height=\"0\", title=\"\">\n",
      "<Win32Window left=\"0\", top=\"0\", width=\"0\", height=\"0\", title=\"\">\n",
      "<Win32Window left=\"0\", top=\"0\", width=\"0\", height=\"0\", title=\"\">\n",
      "<Win32Window left=\"0\", top=\"0\", width=\"1920\", height=\"1080\", title=\"Microsoft Text Input Application\">\n",
      "<Win32Window left=\"0\", top=\"0\", width=\"0\", height=\"0\", title=\"\">\n",
      "<Win32Window left=\"-32000\", top=\"-32000\", width=\"160\", height=\"28\", title=\"##————나에게로 떠나는 여행————##\">\n",
      "<Win32Window left=\"-32000\", top=\"-32000\", width=\"160\", height=\"28\", title=\"Sourcetree\">\n",
      "<Win32Window left=\"-32000\", top=\"-32000\", width=\"160\", height=\"28\", title=\"계산기\">\n",
      "<Win32Window left=\"0\", top=\"1\", width=\"1271\", height=\"717\", title=\"Microsoft To Do\">\n",
      "<Win32Window left=\"-32000\", top=\"-32000\", width=\"160\", height=\"28\", title=\"Microsoft To Do\">\n",
      "<Win32Window left=\"-32000\", top=\"-32000\", width=\"160\", height=\"28\", title=\"Microsoft Lists - Lists\">\n",
      "<Win32Window left=\"-32000\", top=\"-32000\", width=\"160\", height=\"28\", title=\"Axosoft | Scrum - Chrome\">\n",
      "<Win32Window left=\"-32000\", top=\"-32000\", width=\"160\", height=\"28\", title=\"[교육] DT Academy - RPA (Python) <기초> | Microsoft Teams\">\n",
      "<Win32Window left=\"-32000\", top=\"-32000\", width=\"160\", height=\"28\", title=\"DT Academy – Python RPA 기초 .pptx - PowerPoint 발표자 도구\">\n",
      "<Win32Window left=\"-32000\", top=\"-32000\", width=\"160\", height=\"28\", title=\"사진\">\n",
      "<Win32Window left=\"-32000\", top=\"-32000\", width=\"160\", height=\"28\", title=\"file_menu.png ‎- 사진\">\n",
      "<Win32Window left=\"0\", top=\"1040\", width=\"1920\", height=\"40\", title=\"\">\n",
      "<Win32Window left=\"0\", top=\"0\", width=\"1920\", height=\"1080\", title=\"\">\n",
      "<Win32Window left=\"0\", top=\"0\", width=\"1920\", height=\"1080\", title=\"\">\n",
      "<Win32Window left=\"0\", top=\"0\", width=\"1920\", height=\"1080\", title=\"Program Manager\">\n"
     ]
    }
   ],
   "source": [
    "for w in pyautogui.getAllWindows():\n",
    "    print(w) # 모든 윈도우 가져오기"
   ]
  },
  {
   "cell_type": "code",
   "execution_count": 41,
   "id": "014f0394",
   "metadata": {},
   "outputs": [
    {
     "name": "stdout",
     "output_type": "stream",
     "text": [
      "<Win32Window left=\"-8\", top=\"-8\", width=\"1936\", height=\"1056\", title=\"제목 없음 - 그림판\">\n"
     ]
    }
   ],
   "source": [
    "w = pyautogui.getWindowsWithTitle(\"제목 없음\")[0]\n",
    "print(w)\n",
    "if w.isActive == False: # 현재 활성화가 되지 않았다면\n",
    "    w.activate() # 활성화 (맨 앞으로 가져오기)\n",
    "\n",
    "if w.isMaximized == False: # 현재 최대화가 되지 않았다면\n",
    "    w.maximize() # 최대화\n",
    "else :\n",
    "    w.minimize() # 아니면 최소화 "
   ]
  },
  {
   "cell_type": "code",
   "execution_count": 42,
   "id": "a7a6dcc0",
   "metadata": {},
   "outputs": [],
   "source": [
    "w.restore() # 화면 원복"
   ]
  },
  {
   "cell_type": "code",
   "execution_count": 43,
   "id": "7365e07c",
   "metadata": {},
   "outputs": [],
   "source": [
    "w.close() # 윈도우 닫기"
   ]
  },
  {
   "cell_type": "markdown",
   "id": "e3b832f3",
   "metadata": {},
   "source": [
    "# 키보드 컨트롤\n",
    "특정키 입력및 키보드 출력, 조합키등"
   ]
  },
  {
   "cell_type": "code",
   "execution_count": 44,
   "id": "2fd8bf4c",
   "metadata": {},
   "outputs": [],
   "source": [
    "import pyautogui"
   ]
  },
  {
   "cell_type": "code",
   "execution_count": 46,
   "id": "4d80253a",
   "metadata": {},
   "outputs": [],
   "source": [
    "w = pyautogui.getWindowsWithTitle(\"제목 없음 - Windows 메모장\")[0] # 메모장 1개 띄운 상태에서 가져옴\n",
    "w.activate()\n",
    "\n",
    "pyautogui.write(\"Hello DTAcademy\", interval=0.5)"
   ]
  },
  {
   "cell_type": "markdown",
   "id": "bb44c87d",
   "metadata": {},
   "source": [
    "클립보드로 내용복사하기 \n",
    "- pyperclip"
   ]
  },
  {
   "cell_type": "code",
   "execution_count": 48,
   "id": "0d557f35",
   "metadata": {},
   "outputs": [],
   "source": [
    "import pyperclip"
   ]
  },
  {
   "cell_type": "code",
   "execution_count": 49,
   "id": "4f5d7667",
   "metadata": {},
   "outputs": [],
   "source": [
    "text = \"안녕하세요. 에드워드!!\"\n",
    "pyperclip.copy(text) # 글자를 클립보드에 저장\n",
    "w = pyautogui.getWindowsWithTitle(\"제목 없음 - Windows 메모장\")[0] # 메모장 1개 띄운 상태에서 가져옴\n",
    "w.activate()\n",
    "pyautogui.sleep(1) \n",
    "pyautogui.hotkey(\"ctrl\", \"v\") # 클립보드에 있는 내용을 붙여넣기"
   ]
  },
  {
   "cell_type": "markdown",
   "id": "6aafcec8",
   "metadata": {},
   "source": [
    "t e s t 순서대로 적고 왼쪽 방향키 2번, 오른쪽 방향키 2번, l a 순서대로 적고 enter 입력\n"
   ]
  },
  {
   "cell_type": "markdown",
   "id": "37be68f3",
   "metadata": {},
   "source": [
    " # Ctrl + A 를 하는 방법"
   ]
  },
  {
   "cell_type": "code",
   "execution_count": 50,
   "id": "d3db65ff",
   "metadata": {},
   "outputs": [],
   "source": [
    "w = pyautogui.getWindowsWithTitle(\"제목 없음 - Windows 메모장\")[0] # 메모장 1개 띄운 상태에서 가져옴\n",
    "w.activate()\n",
    "\n",
    "pyautogui.keyDown(\"ctrl\")\n",
    "pyautogui.keyDown(\"a\")\n",
    "pyautogui.keyUp(\"a\") # press(\"a\")\n",
    "pyautogui.keyUp(\"ctrl\") # Ctrl + A"
   ]
  },
  {
   "cell_type": "markdown",
   "id": "6aabca31",
   "metadata": {},
   "source": [
    "간편하게 Hotkey"
   ]
  },
  {
   "cell_type": "code",
   "execution_count": 51,
   "id": "12f99629",
   "metadata": {},
   "outputs": [],
   "source": [
    "w = pyautogui.getWindowsWithTitle(\"제목 없음 - Windows 메모장\")[0] # 메모장 1개 띄운 상태에서 가져옴\n",
    "w.activate()\n",
    "\n",
    "pyautogui.hotkey(\"ctrl\", \"a\")"
   ]
  }
 ],
 "metadata": {
  "kernelspec": {
   "display_name": "Python 3 (ipykernel)",
   "language": "python",
   "name": "python3"
  },
  "language_info": {
   "codemirror_mode": {
    "name": "ipython",
    "version": 3
   },
   "file_extension": ".py",
   "mimetype": "text/x-python",
   "name": "python",
   "nbconvert_exporter": "python",
   "pygments_lexer": "ipython3",
   "version": "3.9.12"
  }
 },
 "nbformat": 4,
 "nbformat_minor": 5
}
