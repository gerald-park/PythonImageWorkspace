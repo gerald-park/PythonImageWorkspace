{
 "cells": [
  {
   "cell_type": "markdown",
   "id": "a1a68507",
   "metadata": {},
   "source": [
    "# 1500명의 참석자 명패를 만들어 봅시다 \n",
    "필요 모듈 임포트"
   ]
  },
  {
   "cell_type": "code",
   "execution_count": 1,
   "id": "6ab7a949",
   "metadata": {},
   "outputs": [],
   "source": [
    "from openpyxl import Workbook\n",
    "from faker import Faker\n",
    "import pyperclip\n",
    "import pyautogui"
   ]
  },
  {
   "cell_type": "markdown",
   "id": "4776cb12",
   "metadata": {},
   "source": [
    "# Faker를 이용한 참석자 이름과 회사 1500개 생성"
   ]
  },
  {
   "cell_type": "code",
   "execution_count": 3,
   "id": "ebc4f7c4",
   "metadata": {},
   "outputs": [],
   "source": [
    "wb = Workbook()\n",
    "ws = wb.active\n",
    "fake = Faker()\n",
    "\n",
    "ws.append([\"No\", \"Name\", \"Company\"])\n",
    "for i in range(1, 1500):     \n",
    "    ws.append([i, fake.name(), fake.company()])\n",
    "wb.save(\"Attendees.xlsx\")\n",
    "wb.close()"
   ]
  },
  {
   "cell_type": "markdown",
   "id": "62ec9ce9",
   "metadata": {},
   "source": [
    "### Panda를 이용해서 DataFrame으로 읽어오기"
   ]
  },
  {
   "cell_type": "code",
   "execution_count": 4,
   "id": "fbbd8db1",
   "metadata": {
    "scrolled": true
   },
   "outputs": [
    {
     "data": {
      "text/html": [
       "<div>\n",
       "<style scoped>\n",
       "    .dataframe tbody tr th:only-of-type {\n",
       "        vertical-align: middle;\n",
       "    }\n",
       "\n",
       "    .dataframe tbody tr th {\n",
       "        vertical-align: top;\n",
       "    }\n",
       "\n",
       "    .dataframe thead th {\n",
       "        text-align: right;\n",
       "    }\n",
       "</style>\n",
       "<table border=\"1\" class=\"dataframe\">\n",
       "  <thead>\n",
       "    <tr style=\"text-align: right;\">\n",
       "      <th></th>\n",
       "      <th>Name</th>\n",
       "      <th>Company</th>\n",
       "    </tr>\n",
       "    <tr>\n",
       "      <th>No</th>\n",
       "      <th></th>\n",
       "      <th></th>\n",
       "    </tr>\n",
       "  </thead>\n",
       "  <tbody>\n",
       "    <tr>\n",
       "      <th>1</th>\n",
       "      <td>Cynthia Nelson</td>\n",
       "      <td>Jones-Woods</td>\n",
       "    </tr>\n",
       "    <tr>\n",
       "      <th>2</th>\n",
       "      <td>Brianna Bailey</td>\n",
       "      <td>Ferguson Inc</td>\n",
       "    </tr>\n",
       "    <tr>\n",
       "      <th>3</th>\n",
       "      <td>Jorge Johnson</td>\n",
       "      <td>Kim, Williams and West</td>\n",
       "    </tr>\n",
       "    <tr>\n",
       "      <th>4</th>\n",
       "      <td>Meagan Harris</td>\n",
       "      <td>Robinson, Martinez and Hall</td>\n",
       "    </tr>\n",
       "    <tr>\n",
       "      <th>5</th>\n",
       "      <td>Eric Klein</td>\n",
       "      <td>Wilcox Inc</td>\n",
       "    </tr>\n",
       "    <tr>\n",
       "      <th>...</th>\n",
       "      <td>...</td>\n",
       "      <td>...</td>\n",
       "    </tr>\n",
       "    <tr>\n",
       "      <th>1495</th>\n",
       "      <td>Brandon Young II</td>\n",
       "      <td>Sloan Ltd</td>\n",
       "    </tr>\n",
       "    <tr>\n",
       "      <th>1496</th>\n",
       "      <td>Andrea Thomas</td>\n",
       "      <td>Mclean, Gardner and Kirby</td>\n",
       "    </tr>\n",
       "    <tr>\n",
       "      <th>1497</th>\n",
       "      <td>Gloria Johnson</td>\n",
       "      <td>Evans-Smith</td>\n",
       "    </tr>\n",
       "    <tr>\n",
       "      <th>1498</th>\n",
       "      <td>Travis Flores</td>\n",
       "      <td>Kaiser, Robinson and May</td>\n",
       "    </tr>\n",
       "    <tr>\n",
       "      <th>1499</th>\n",
       "      <td>Kimberly Schneider</td>\n",
       "      <td>Brewer-Martinez</td>\n",
       "    </tr>\n",
       "  </tbody>\n",
       "</table>\n",
       "<p>1499 rows × 2 columns</p>\n",
       "</div>"
      ],
      "text/plain": [
       "                    Name                      Company\n",
       "No                                                   \n",
       "1         Cynthia Nelson                  Jones-Woods\n",
       "2         Brianna Bailey                 Ferguson Inc\n",
       "3          Jorge Johnson       Kim, Williams and West\n",
       "4          Meagan Harris  Robinson, Martinez and Hall\n",
       "5             Eric Klein                   Wilcox Inc\n",
       "...                  ...                          ...\n",
       "1495    Brandon Young II                    Sloan Ltd\n",
       "1496       Andrea Thomas    Mclean, Gardner and Kirby\n",
       "1497      Gloria Johnson                  Evans-Smith\n",
       "1498       Travis Flores     Kaiser, Robinson and May\n",
       "1499  Kimberly Schneider              Brewer-Martinez\n",
       "\n",
       "[1499 rows x 2 columns]"
      ]
     },
     "execution_count": 4,
     "metadata": {},
     "output_type": "execute_result"
    }
   ],
   "source": [
    "import pandas as pd\n",
    "df = pd.read_excel(\"Attendees.xlsx\", engine = \"openpyxl\")\n",
    "df.set_index('No')"
   ]
  },
  {
   "cell_type": "code",
   "execution_count": 7,
   "id": "1949f5ad",
   "metadata": {},
   "outputs": [
    {
     "data": {
      "text/plain": [
       "No                      901\n",
       "Name         George Holland\n",
       "Company    Johnson and Sons\n",
       "Name: 900, dtype: object"
      ]
     },
     "execution_count": 7,
     "metadata": {},
     "output_type": "execute_result"
    }
   ],
   "source": [
    "df.iloc[900]"
   ]
  },
  {
   "cell_type": "code",
   "execution_count": 8,
   "id": "78b9c97f",
   "metadata": {
    "scrolled": true
   },
   "outputs": [
    {
     "data": {
      "text/plain": [
       "'Lopez-Davis'"
      ]
     },
     "execution_count": 8,
     "metadata": {},
     "output_type": "execute_result"
    }
   ],
   "source": [
    "df.loc[54,'Company']"
   ]
  },
  {
   "cell_type": "markdown",
   "id": "098a818d",
   "metadata": {},
   "source": [
    "## Pyclip로 데이터 카피"
   ]
  },
  {
   "cell_type": "code",
   "execution_count": 9,
   "id": "c4c60788",
   "metadata": {},
   "outputs": [],
   "source": [
    "w = pyautogui.getWindowsWithTitle('NameTag.pptx')[0]\n",
    "pyautogui.click(w.center)"
   ]
  },
  {
   "cell_type": "code",
   "execution_count": 10,
   "id": "9f334d94",
   "metadata": {},
   "outputs": [],
   "source": [
    "pyautogui.mouseInfo()"
   ]
  },
  {
   "cell_type": "markdown",
   "id": "af81507c",
   "metadata": {},
   "source": [
    "## 위치별 좌표 지정하기 "
   ]
  },
  {
   "cell_type": "code",
   "execution_count": 14,
   "id": "099250bc",
   "metadata": {},
   "outputs": [
    {
     "data": {
      "text/plain": [
       "[1036, 230]"
      ]
     },
     "execution_count": 14,
     "metadata": {},
     "output_type": "execute_result"
    }
   ],
   "source": [
    "masterslide = [1036,230]\n",
    "newslide = [1037,307]\n",
    "number = [1202,423]\n",
    "name = [1486,531]\n",
    "company = [1503,630]\n",
    "masterslide"
   ]
  },
  {
   "cell_type": "markdown",
   "id": "e0b872b8",
   "metadata": {},
   "source": [
    "## New Slide만들기 "
   ]
  },
  {
   "cell_type": "code",
   "execution_count": 16,
   "id": "45081ceb",
   "metadata": {},
   "outputs": [],
   "source": [
    "pyautogui.moveTo(masterslide)\n",
    "pyautogui.click()\n",
    "pyautogui.sleep(0.5)\n",
    "pyautogui.doubleClick()\n",
    "pyautogui.hotkey(\"ctrl\", \"c\")\n",
    "pyautogui.hotkey(\"ctrl\", \"v\")\n",
    "#select new slide \n",
    "pyautogui.moveTo(newslide)\n",
    "pyautogui.click()"
   ]
  },
  {
   "cell_type": "markdown",
   "id": "697f57b0",
   "metadata": {},
   "source": [
    "함수로 만들기 create_new_slide()"
   ]
  },
  {
   "cell_type": "code",
   "execution_count": 17,
   "id": "344747f6",
   "metadata": {},
   "outputs": [],
   "source": [
    "def create_new_slide():\n",
    "    pyautogui.moveTo(masterslide)\n",
    "    pyautogui.click()\n",
    "    pyautogui.sleep(0.5)\n",
    "    pyautogui.doubleClick()\n",
    "    pyautogui.hotkey(\"ctrl\", \"c\")\n",
    "    pyautogui.hotkey(\"ctrl\", \"v\")\n",
    "    #select new slide \n",
    "    pyautogui.moveTo(newslide)\n",
    "    pyautogui.click()"
   ]
  },
  {
   "cell_type": "code",
   "execution_count": 18,
   "id": "15ec9c56",
   "metadata": {},
   "outputs": [],
   "source": [
    "create_new_slide()"
   ]
  },
  {
   "cell_type": "code",
   "execution_count": 20,
   "id": "08f55549",
   "metadata": {},
   "outputs": [],
   "source": [
    "create_new_slide()\n",
    "pyautogui.moveTo(company)\n",
    "pyautogui.doubleClick()\n",
    "pyperclip.copy(df.loc[3,'Company'])\n",
    "pyautogui.hotkey(\"ctrl\", \"v\")"
   ]
  },
  {
   "cell_type": "code",
   "execution_count": 24,
   "id": "a14a1eaa",
   "metadata": {},
   "outputs": [],
   "source": [
    "def copy_name(i):\n",
    "    pyautogui.moveTo(name)\n",
    "    pyautogui.doubleClick()\n",
    "    pyperclip.copy(df.loc[i,'Name'])\n",
    "    pyautogui.hotkey(\"ctrl\", \"v\")\n",
    "    pyautogui.sleep(0.5)"
   ]
  },
  {
   "cell_type": "code",
   "execution_count": 25,
   "id": "48a390df",
   "metadata": {},
   "outputs": [],
   "source": [
    "def copy_comapny(i):\n",
    "    pyautogui.moveTo(company)\n",
    "    pyautogui.doubleClick()\n",
    "    pyperclip.copy(df.loc[i,'Company'])\n",
    "    pyautogui.hotkey(\"ctrl\", \"v\")\n",
    "    pyautogui.sleep(0.5)"
   ]
  },
  {
   "cell_type": "code",
   "execution_count": 28,
   "id": "e5d8f7e6",
   "metadata": {},
   "outputs": [],
   "source": [
    "def copy_number(i):\n",
    "    pyautogui.moveTo(number)\n",
    "    pyautogui.doubleClick()\n",
    "    pyperclip.copy(str(df.loc[i,'No']))\n",
    "    pyautogui.hotkey(\"ctrl\", \"v\")\n",
    "    pyautogui.sleep(0.5)"
   ]
  },
  {
   "cell_type": "code",
   "execution_count": 29,
   "id": "84f3a5b6",
   "metadata": {},
   "outputs": [],
   "source": [
    "idx = 1 \n",
    "create_new_slide()\n",
    "copy_name(idx)\n",
    "copy_comapny(idx)\n",
    "copy_number(idx)"
   ]
  },
  {
   "cell_type": "code",
   "execution_count": 30,
   "id": "1ba8ef8d",
   "metadata": {},
   "outputs": [
    {
     "data": {
      "text/plain": [
       "1499"
      ]
     },
     "execution_count": 30,
     "metadata": {},
     "output_type": "execute_result"
    }
   ],
   "source": [
    "len(df)"
   ]
  },
  {
   "cell_type": "markdown",
   "id": "9a9ea2ef",
   "metadata": {},
   "source": [
    "### 전체 수행! "
   ]
  },
  {
   "cell_type": "code",
   "execution_count": 31,
   "id": "05197c2a",
   "metadata": {},
   "outputs": [],
   "source": [
    "for idx in range(0,10) :\n",
    "    create_new_slide()\n",
    "    copy_name(idx)\n",
    "    copy_comapny(idx)\n",
    "    copy_number(idx)\n"
   ]
  }
 ],
 "metadata": {
  "kernelspec": {
   "display_name": "Python 3 (ipykernel)",
   "language": "python",
   "name": "python3"
  },
  "language_info": {
   "codemirror_mode": {
    "name": "ipython",
    "version": 3
   },
   "file_extension": ".py",
   "mimetype": "text/x-python",
   "name": "python",
   "nbconvert_exporter": "python",
   "pygments_lexer": "ipython3",
   "version": "3.9.12"
  }
 },
 "nbformat": 4,
 "nbformat_minor": 5
}
