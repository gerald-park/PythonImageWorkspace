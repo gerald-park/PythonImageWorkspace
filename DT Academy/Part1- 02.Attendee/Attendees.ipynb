{
 "cells": [
  {
   "cell_type": "markdown",
   "id": "a7281e8b",
   "metadata": {},
   "source": [
    "# 1500명의 참석자 명패를 만들어 봅시다 \n",
    "필요 모듈 임포트"
   ]
  },
  {
   "cell_type": "code",
   "execution_count": 1,
   "id": "6ab7a949",
   "metadata": {},
   "outputs": [],
   "source": [
    "from openpyxl import Workbook\n",
    "from faker import Faker\n",
    "import pyperclip\n",
    "import pyautogui"
   ]
  },
  {
   "cell_type": "markdown",
   "id": "4776cb12",
   "metadata": {},
   "source": [
    "# Faker를 이용한 참석자 이름과 회사 1500개 생성"
   ]
  },
  {
   "cell_type": "code",
   "execution_count": 2,
   "id": "ebc4f7c4",
   "metadata": {},
   "outputs": [],
   "source": [
    "wb = Workbook()\n",
    "ws = wb.active\n",
    "fake = Faker()\n",
    "\n",
    "ws.append([\"No\", \"Name\", \"Company\"])\n",
    "for i in range(1, 1500):     \n",
    "    ws.append([i, fake.name(), fake.company()])\n",
    "wb.save(\"Attendees.xlsx\")\n",
    "wb.close()"
   ]
  },
  {
   "cell_type": "markdown",
   "id": "62ec9ce9",
   "metadata": {},
   "source": [
    "### Pandas를 이용해서 DataFrame으로 읽어오기"
   ]
  },
  {
   "cell_type": "code",
   "execution_count": 3,
   "id": "fbbd8db1",
   "metadata": {
    "scrolled": true
   },
   "outputs": [
    {
     "data": {
      "text/html": [
       "<div>\n",
       "<style scoped>\n",
       "    .dataframe tbody tr th:only-of-type {\n",
       "        vertical-align: middle;\n",
       "    }\n",
       "\n",
       "    .dataframe tbody tr th {\n",
       "        vertical-align: top;\n",
       "    }\n",
       "\n",
       "    .dataframe thead th {\n",
       "        text-align: right;\n",
       "    }\n",
       "</style>\n",
       "<table border=\"1\" class=\"dataframe\">\n",
       "  <thead>\n",
       "    <tr style=\"text-align: right;\">\n",
       "      <th></th>\n",
       "      <th>Name</th>\n",
       "      <th>Company</th>\n",
       "    </tr>\n",
       "    <tr>\n",
       "      <th>No</th>\n",
       "      <th></th>\n",
       "      <th></th>\n",
       "    </tr>\n",
       "  </thead>\n",
       "  <tbody>\n",
       "    <tr>\n",
       "      <th>1</th>\n",
       "      <td>Jordan Fuentes</td>\n",
       "      <td>Smith, Bruce and Harmon</td>\n",
       "    </tr>\n",
       "    <tr>\n",
       "      <th>2</th>\n",
       "      <td>Tracy Cummings</td>\n",
       "      <td>Schmidt, Beck and Johnson</td>\n",
       "    </tr>\n",
       "    <tr>\n",
       "      <th>3</th>\n",
       "      <td>Barry Brewer</td>\n",
       "      <td>Orozco, Henderson and Davis</td>\n",
       "    </tr>\n",
       "    <tr>\n",
       "      <th>4</th>\n",
       "      <td>Steven Carter</td>\n",
       "      <td>Wilson Ltd</td>\n",
       "    </tr>\n",
       "    <tr>\n",
       "      <th>5</th>\n",
       "      <td>John Smith PhD</td>\n",
       "      <td>Gross-Jenkins</td>\n",
       "    </tr>\n",
       "    <tr>\n",
       "      <th>...</th>\n",
       "      <td>...</td>\n",
       "      <td>...</td>\n",
       "    </tr>\n",
       "    <tr>\n",
       "      <th>1495</th>\n",
       "      <td>Larry Diaz</td>\n",
       "      <td>Daugherty, Garcia and Moore</td>\n",
       "    </tr>\n",
       "    <tr>\n",
       "      <th>1496</th>\n",
       "      <td>Jerry Evans</td>\n",
       "      <td>Russell Inc</td>\n",
       "    </tr>\n",
       "    <tr>\n",
       "      <th>1497</th>\n",
       "      <td>Donald Bailey</td>\n",
       "      <td>Brown, Case and Jones</td>\n",
       "    </tr>\n",
       "    <tr>\n",
       "      <th>1498</th>\n",
       "      <td>Dana Wood</td>\n",
       "      <td>Banks and Sons</td>\n",
       "    </tr>\n",
       "    <tr>\n",
       "      <th>1499</th>\n",
       "      <td>Angela Parker</td>\n",
       "      <td>Thornton LLC</td>\n",
       "    </tr>\n",
       "  </tbody>\n",
       "</table>\n",
       "<p>1499 rows × 2 columns</p>\n",
       "</div>"
      ],
      "text/plain": [
       "                Name                      Company\n",
       "No                                               \n",
       "1     Jordan Fuentes      Smith, Bruce and Harmon\n",
       "2     Tracy Cummings    Schmidt, Beck and Johnson\n",
       "3       Barry Brewer  Orozco, Henderson and Davis\n",
       "4      Steven Carter                   Wilson Ltd\n",
       "5     John Smith PhD                Gross-Jenkins\n",
       "...              ...                          ...\n",
       "1495      Larry Diaz  Daugherty, Garcia and Moore\n",
       "1496     Jerry Evans                  Russell Inc\n",
       "1497   Donald Bailey        Brown, Case and Jones\n",
       "1498       Dana Wood               Banks and Sons\n",
       "1499   Angela Parker                 Thornton LLC\n",
       "\n",
       "[1499 rows x 2 columns]"
      ]
     },
     "execution_count": 3,
     "metadata": {},
     "output_type": "execute_result"
    }
   ],
   "source": [
    "import pandas as pd\n",
    "df = pd.read_excel(\"Attendees.xlsx\", engine = \"openpyxl\")\n",
    "df.set_index('No')"
   ]
  },
  {
   "cell_type": "code",
   "execution_count": 5,
   "id": "1949f5ad",
   "metadata": {},
   "outputs": [
    {
     "data": {
      "text/plain": [
       "No                  171\n",
       "Name        Lynn Morris\n",
       "Company    Barajas-Rowe\n",
       "Name: 170, dtype: object"
      ]
     },
     "execution_count": 5,
     "metadata": {},
     "output_type": "execute_result"
    }
   ],
   "source": [
    "df.iloc[170]"
   ]
  },
  {
   "cell_type": "code",
   "execution_count": 6,
   "id": "78b9c97f",
   "metadata": {
    "scrolled": true
   },
   "outputs": [
    {
     "data": {
      "text/plain": [
       "'Johnston, Livingston and Smith'"
      ]
     },
     "execution_count": 6,
     "metadata": {},
     "output_type": "execute_result"
    }
   ],
   "source": [
    "df.loc[54,'Company']"
   ]
  },
  {
   "cell_type": "markdown",
   "id": "098a818d",
   "metadata": {},
   "source": [
    "## Pyclip로 데이터 카피"
   ]
  },
  {
   "cell_type": "code",
   "execution_count": 9,
   "id": "c4c60788",
   "metadata": {},
   "outputs": [],
   "source": [
    "w = pyautogui.getWindowsWithTitle('NameTag.pptx')[0]\n",
    "pyautogui.click(w.center)"
   ]
  },
  {
   "cell_type": "code",
   "execution_count": 10,
   "id": "9f334d94",
   "metadata": {},
   "outputs": [],
   "source": [
    "pyautogui.mouseInfo()"
   ]
  },
  {
   "cell_type": "markdown",
   "id": "af81507c",
   "metadata": {},
   "source": [
    "## 위치별 좌표(x,y) 지정하기 "
   ]
  },
  {
   "cell_type": "code",
   "execution_count": 11,
   "id": "099250bc",
   "metadata": {},
   "outputs": [
    {
     "data": {
      "text/plain": [
       "[1046, 225]"
      ]
     },
     "execution_count": 11,
     "metadata": {},
     "output_type": "execute_result"
    }
   ],
   "source": [
    "masterslide = [1046,225]\n",
    "newslide = [1040,295]\n",
    "number = [1202,420]\n",
    "name = [1487,527]\n",
    "company = [1505,626]\n",
    "masterslide"
   ]
  },
  {
   "cell_type": "code",
   "execution_count": 14,
   "id": "0d8d0522",
   "metadata": {},
   "outputs": [],
   "source": [
    "pyautogui.moveTo(company)"
   ]
  },
  {
   "cell_type": "markdown",
   "id": "e0b872b8",
   "metadata": {},
   "source": [
    "## New Slide만들기 "
   ]
  },
  {
   "cell_type": "code",
   "execution_count": 16,
   "id": "45081ceb",
   "metadata": {},
   "outputs": [],
   "source": [
    "pyautogui.moveTo(masterslide)\n",
    "pyautogui.click()\n",
    "pyautogui.sleep(0.5)\n",
    "pyautogui.doubleClick()\n",
    "pyautogui.hotkey(\"ctrl\", \"c\")\n",
    "pyautogui.hotkey(\"ctrl\", \"v\")\n",
    "#select new slide \n",
    "pyautogui.moveTo(newslide)\n",
    "pyautogui.click()"
   ]
  },
  {
   "cell_type": "markdown",
   "id": "697f57b0",
   "metadata": {},
   "source": [
    "함수로 만들기 create_new_slide()"
   ]
  },
  {
   "cell_type": "code",
   "execution_count": 17,
   "id": "344747f6",
   "metadata": {},
   "outputs": [],
   "source": [
    "def create_new_slide():\n",
    "    pyautogui.moveTo(masterslide)\n",
    "    pyautogui.click()\n",
    "    pyautogui.sleep(0.5)\n",
    "    pyautogui.doubleClick()\n",
    "    pyautogui.hotkey(\"ctrl\", \"c\")\n",
    "    pyautogui.hotkey(\"ctrl\", \"v\")\n",
    "    #select new slide \n",
    "    pyautogui.moveTo(newslide)\n",
    "    pyautogui.click()"
   ]
  },
  {
   "cell_type": "code",
   "execution_count": 18,
   "id": "15ec9c56",
   "metadata": {},
   "outputs": [],
   "source": [
    "create_new_slide()"
   ]
  },
  {
   "cell_type": "code",
   "execution_count": 21,
   "id": "08f55549",
   "metadata": {},
   "outputs": [],
   "source": [
    "create_new_slide()\n",
    "pyautogui.moveTo(name)\n",
    "pyautogui.doubleClick()\n",
    "pyperclip.copy(df.loc[100,'Name'])\n",
    "pyautogui.hotkey(\"ctrl\", \"v\")"
   ]
  },
  {
   "cell_type": "code",
   "execution_count": 22,
   "id": "a14a1eaa",
   "metadata": {},
   "outputs": [],
   "source": [
    "def copy_name(i):\n",
    "    pyautogui.moveTo(name)\n",
    "    pyautogui.doubleClick()\n",
    "    pyperclip.copy(df.loc[i,'Name'])\n",
    "    pyautogui.hotkey(\"ctrl\", \"v\")\n",
    "    pyautogui.sleep(0.5)"
   ]
  },
  {
   "cell_type": "code",
   "execution_count": 23,
   "id": "48a390df",
   "metadata": {},
   "outputs": [],
   "source": [
    "def copy_comapny(i):\n",
    "    pyautogui.moveTo(company)\n",
    "    pyautogui.doubleClick()\n",
    "    pyperclip.copy(df.loc[i,'Company'])\n",
    "    pyautogui.hotkey(\"ctrl\", \"v\")\n",
    "    pyautogui.sleep(0.5)"
   ]
  },
  {
   "cell_type": "code",
   "execution_count": 24,
   "id": "e5d8f7e6",
   "metadata": {},
   "outputs": [],
   "source": [
    "def copy_number(i):\n",
    "    pyautogui.moveTo(number)\n",
    "    pyautogui.doubleClick()\n",
    "    pyperclip.copy(str(df.loc[i,'No']))\n",
    "    pyautogui.hotkey(\"ctrl\", \"v\")\n",
    "    pyautogui.sleep(0.5)"
   ]
  },
  {
   "cell_type": "code",
   "execution_count": 26,
   "id": "84f3a5b6",
   "metadata": {},
   "outputs": [],
   "source": [
    "idx = 500 \n",
    "create_new_slide()\n",
    "copy_name(idx)\n",
    "copy_comapny(idx)\n",
    "copy_number(idx)"
   ]
  },
  {
   "cell_type": "code",
   "execution_count": 27,
   "id": "1ba8ef8d",
   "metadata": {},
   "outputs": [
    {
     "data": {
      "text/plain": [
       "1499"
      ]
     },
     "execution_count": 27,
     "metadata": {},
     "output_type": "execute_result"
    }
   ],
   "source": [
    "len(df)"
   ]
  },
  {
   "cell_type": "markdown",
   "id": "9a9ea2ef",
   "metadata": {},
   "source": [
    "### 전체 수행! "
   ]
  },
  {
   "cell_type": "code",
   "execution_count": 28,
   "id": "05197c2a",
   "metadata": {},
   "outputs": [],
   "source": [
    "for idx in range(0,10) :\n",
    "    create_new_slide()\n",
    "    copy_name(idx)\n",
    "    copy_comapny(idx)\n",
    "    copy_number(idx)\n"
   ]
  }
 ],
 "metadata": {
  "kernelspec": {
   "display_name": "Python 3 (ipykernel)",
   "language": "python",
   "name": "python3"
  },
  "language_info": {
   "codemirror_mode": {
    "name": "ipython",
    "version": 3
   },
   "file_extension": ".py",
   "mimetype": "text/x-python",
   "name": "python",
   "nbconvert_exporter": "python",
   "pygments_lexer": "ipython3",
   "version": "3.9.12"
  }
 },
 "nbformat": 4,
 "nbformat_minor": 5
}
