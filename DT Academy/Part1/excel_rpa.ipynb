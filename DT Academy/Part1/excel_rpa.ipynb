{
 "cells": [
  {
   "cell_type": "code",
   "execution_count": 1,
   "id": "1032474d",
   "metadata": {},
   "outputs": [
    {
     "name": "stdout",
     "output_type": "stream",
     "text": [
      "Hello World\n"
     ]
    }
   ],
   "source": [
    "print('Hello World')"
   ]
  },
  {
   "cell_type": "markdown",
   "id": "a4cd117d-66a2-4130-9c9c-32dc31c26e77",
   "metadata": {},
   "source": [
    "# 파이썬으로 엑셀을 만져보자\n",
    "## openpyxl"
   ]
  },
  {
   "cell_type": "markdown",
   "id": "80e571ae-581b-420c-930e-ae7591320d1d",
   "metadata": {
    "tags": []
   },
   "source": [
    "# 엑셀 파일 생성하기\n",
    "엑셀 파일을 생성하고 저장하기 \n",
    "파일하나의 단위를 workbook이라고 함 -> wb"
   ]
  },
  {
   "cell_type": "code",
   "execution_count": 22,
   "id": "9ad91ec5-969c-4842-b5eb-95f482b086b7",
   "metadata": {},
   "outputs": [],
   "source": [
    "from openpyxl import Workbook\n",
    "\n",
    "wb = Workbook() # 새 워크북 생성\n",
    "ws = wb.active # 현재 활성화된 sheet 가져옴\n",
    "ws.title = \"Edwards\" # sheet 의 이름을 변경\n",
    "wb.save(\"edwards.xlsx\")"
   ]
  },
  {
   "attachments": {
    "image.png": {
     "image/png": "[encoded data removed]"
    }
   },
   "cell_type": "markdown",
   "id": "1a24f9ca-08f6-4cf4-adae-7f183e3e8fde",
   "metadata": {
    "tags": []
   },
   "source": [
    "# Sheet 다루기\n",
    "여러 시트를 생성하고 시트의 이름및 색상등을 변경하기\n",
    "- create_sheet()\n",
    "- sheet_properties.tabColor\n",
    "- title\n",
    "![image.png](attachment:image.png)"
   ]
  },
  {
   "cell_type": "code",
   "execution_count": 2,
   "id": "74053350-e889-4c7e-8974-6fcd0050090d",
   "metadata": {},
   "outputs": [],
   "source": [
    "wb.active\n",
    "ws = wb.create_sheet() # 새로운 Sheet 기본 이름으로 생성\n",
    "ws.title = \"EdwardsKorea\" # Sheet 이름 변경\n",
    "ws.sheet_properties.tabColor = \"ff66ff\" # RGB 형태로 값을 넣어주면 탭 색상 변경\n",
    "\n",
    "# Sheet, MySheet, YourSheet\n",
    "ws1 = wb.create_sheet(\"EKL\") # 주어진 이름으로 Sheet 생성\n",
    "ws2 = wb.create_sheet(\"PCCA\", 2) # 2번째 index 에 Sheet 생성\n",
    "\n",
    "new_ws = wb[\"EKL\"] # Dict 형태로 Sheet 에 접근\n",
    "wb.save(\"edwards.xlsx\")"
   ]
  },
  {
   "attachments": {
    "image.png": {
     "image/png": "[encoded data removed]"
    }
   },
   "cell_type": "markdown",
   "id": "147da115-aab8-4982-a508-ada67eb9e025",
   "metadata": {
    "tags": []
   },
   "source": [
    "# Cell 다루기\n",
    "### 셀에 값을 채워 넣기\n",
    "![image.png](attachment:image.png)"
   ]
  },
  {
   "cell_type": "code",
   "execution_count": 6,
   "id": "c1a55cff-be94-47a4-a89d-a7aa086c7736",
   "metadata": {},
   "outputs": [],
   "source": [
    "ws = wb.active\n",
    "ws.title = \"EdwardsSheet\"\n",
    "\n",
    "# A1 셀에 1 이라는 값을 입력\n",
    "ws[\"A1\"] = 1\n",
    "ws[\"A2\"] = 2\n",
    "ws[\"A3\"] = 3\n",
    "\n",
    "ws[\"B1\"] = 4\n",
    "ws[\"B2\"] = 5\n",
    "ws[\"B3\"] = 6\n",
    "\n",
    "ws[\"C1\"] = 4\n",
    "ws[\"C2\"] = 5\n",
    "ws[\"C3\"] = 6\n",
    "wb.save(\"edwards.xlsx\")"
   ]
  },
  {
   "cell_type": "markdown",
   "id": "ceaf0322",
   "metadata": {},
   "source": [
    "### Sheet 복사하기"
   ]
  },
  {
   "cell_type": "code",
   "execution_count": 5,
   "id": "962916ac",
   "metadata": {},
   "outputs": [],
   "source": [
    "target = wb.copy_worksheet(ws)\n",
    "target.title = \"Copied Sheet\"\n",
    "wb.save(\"edwards.xlsx\")"
   ]
  },
  {
   "cell_type": "markdown",
   "id": "38435260-475f-4e2f-88f7-6f8a3883661c",
   "metadata": {
    "tags": []
   },
   "source": [
    "### 셀의 값을 확인하는 방법\n",
    "1. Cell Valve보기 A1,B1,C2"
   ]
  },
  {
   "cell_type": "code",
   "execution_count": 7,
   "id": "db8617b8-39e5-4e46-b9c5-bf41b073c70a",
   "metadata": {},
   "outputs": [
    {
     "name": "stdout",
     "output_type": "stream",
     "text": [
      "1\n",
      "4\n",
      "5\n"
     ]
    }
   ],
   "source": [
    "print(ws[\"A1\"].value)\n",
    "print(ws[\"B1\"].value)\n",
    "print(ws[\"C2\"].value)"
   ]
  },
  {
   "cell_type": "markdown",
   "id": "1422fed0-6957-4cce-9b8c-adf2186fbac5",
   "metadata": {},
   "source": [
    "2. column과 row로 확인 하기"
   ]
  },
  {
   "cell_type": "code",
   "execution_count": null,
   "id": "b39e389d-c8d7-44a9-8c2c-fc87cde41d27",
   "metadata": {},
   "outputs": [],
   "source": [
    "print(ws.cell(column=1, row=1).value) # ws[\"A1\"].value\n",
    "print(ws.cell(column=2, row=1).value) # ws[\"B1\"].value"
   ]
  },
  {
   "attachments": {
    "image.png": {
     "image/png": "[encoded data removed]"
    }
   },
   "cell_type": "markdown",
   "id": "703e8317-5278-4c7e-8b06-55cf0fa3ca18",
   "metadata": {
    "tags": []
   },
   "source": [
    "### C1 셀에 값을 10으로 채우기\n",
    "![image.png](attachment:image.png)"
   ]
  },
  {
   "cell_type": "code",
   "execution_count": null,
   "id": "a84a21b6-27d1-4c8a-b4f4-bf4b5ce07767",
   "metadata": {},
   "outputs": [],
   "source": [
    "c = ws.cell(column=3, row=1, value=10) \n",
    "wb.save(\"edwards.xlsx\")"
   ]
  },
  {
   "attachments": {
    "image.png": {
     "image/png": "[encoded data removed]"
    }
   },
   "cell_type": "markdown",
   "id": "a1dec57a-60bd-4fd9-b01e-174000bd2b28",
   "metadata": {
    "tags": []
   },
   "source": [
    "### 랜덤값으로 10x10에 값을 채워넣기\n",
    "![image.png](attachment:image.png)"
   ]
  },
  {
   "cell_type": "code",
   "execution_count": 9,
   "id": "e5cc5c34-6614-4560-9919-9f7aecb84d47",
   "metadata": {
    "tags": []
   },
   "outputs": [],
   "source": [
    "from random import *\n",
    "\n",
    "index = 1\n",
    "for x in range(1, 11): # 10 개 row\n",
    "    for y in range(1, 11): # 10 개 column\n",
    "        ws.cell(row=x, column=y, value=randint(0, 100)) # 0~100 사이의 숫자\n",
    "wb.save(\"edwards.xlsx\")"
   ]
  },
  {
   "attachments": {
    "image.png": {
     "image/png": "[encoded data removed]"
    }
   },
   "cell_type": "markdown",
   "id": "ef342e66-afae-444c-a5fb-99b4c7e4a9a4",
   "metadata": {
    "tags": []
   },
   "source": [
    "### 10x10셀에 1~100으로 으로 채우기\n",
    "![image.png](attachment:image.png)"
   ]
  },
  {
   "cell_type": "code",
   "execution_count": null,
   "id": "43c2cb14-11e9-46db-8200-77fff3201d05",
   "metadata": {},
   "outputs": [],
   "source": [
    "index = 1\n",
    "for x in range(1, 11): # 10 개 row\n",
    "    for y in range(1, 11): # 10 개 column\n",
    "        ws.cell(row=x, column=y, value=index)\n",
    "        index += 1\n",
    "wb.save(\"edwards.xlsx\")\n",
    "wb.close()"
   ]
  },
  {
   "cell_type": "markdown",
   "id": "e410ba23-258b-4363-90b0-aac176c25c63",
   "metadata": {},
   "source": [
    "### 파일 열기"
   ]
  },
  {
   "cell_type": "markdown",
   "id": "26dabde2-fc12-4b90-8cb8-bb5dd8afa57e",
   "metadata": {},
   "source": [
    "- load_workbook"
   ]
  },
  {
   "cell_type": "markdown",
   "id": "56f637c9-a0e0-4e48-8276-227c7ca2414a",
   "metadata": {},
   "source": [
    "# 셀의 범위 지정하기\n",
    "\n",
    "1번부터 10번까지 영어 수학 점수를 임의의 점수로 생성"
   ]
  },
  {
   "cell_type": "code",
   "execution_count": 29,
   "id": "d8ae929d-ccd6-4985-98f4-fd57eed45b8e",
   "metadata": {
    "scrolled": true
   },
   "outputs": [
    {
     "name": "stdout",
     "output_type": "stream",
     "text": [
      "번호 영어 수학\n",
      "1 99 72\n",
      "2 81 21\n",
      "3 51 86\n",
      "4 2 10\n",
      "5 58 63\n",
      "6 47 88\n",
      "7 33 31\n",
      "8 70 57\n",
      "9 50 52\n"
     ]
    }
   ],
   "source": [
    "\n",
    "wb = Workbook()\n",
    "ws = wb.active\n",
    "\n",
    "ws.append([\"번호\", \"영어\", \"수학\"])\n",
    "for i in range(1, 11): \n",
    "    ws.append([i, randint(0, 100), randint(0, 100)])\n",
    "    print(\"{0} {1} {2}\".format(ws.cell(row=i, column=1).value,ws.cell(row=i, column=2).value,ws.cell(row=i, column=3).value), end=\"\\n\")\n",
    "wb.save(\"score.xlsx\")\n",
    "wb.close()\n",
    "\n"
   ]
  },
  {
   "cell_type": "markdown",
   "id": "b759f671",
   "metadata": {},
   "source": [
    "### File에서 불러오기"
   ]
  },
  {
   "cell_type": "code",
   "execution_count": 13,
   "id": "790c6f1b-e795-44f4-9f07-ea1d8556e35b",
   "metadata": {
    "scrolled": true
   },
   "outputs": [
    {
     "name": "stdout",
     "output_type": "stream",
     "text": [
      "번호 영어 수학 \n",
      "1 0 99 \n",
      "2 87 69 \n",
      "3 74 1 \n",
      "4 37 97 \n",
      "5 58 33 \n",
      "6 9 23 \n",
      "7 5 45 \n",
      "8 37 11 \n",
      "9 69 50 \n",
      "10 75 30 \n"
     ]
    }
   ],
   "source": [
    "from openpyxl import load_workbook \n",
    "\n",
    "wb = load_workbook(\"score.xlsx\") \n",
    "ws = wb.active \n",
    "\n",
    "# worksheet내용 출력 \n",
    "for x in range(1, ws.max_row + 1):\n",
    "    for y in range(1, ws.max_column + 1):\n",
    "        print(ws.cell(row=x, column=y).value, end=\" \") # 1 2 3 4 ..\n",
    "    print()"
   ]
  },
  {
   "cell_type": "markdown",
   "id": "24c8529e",
   "metadata": {},
   "source": [
    "Pandas를 이용해 더 쉽게 불러오기! "
   ]
  },
  {
   "cell_type": "code",
   "execution_count": 30,
   "id": "f61f8f7a",
   "metadata": {},
   "outputs": [
    {
     "data": {
      "text/html": [
       "<div>\n",
       "<style scoped>\n",
       "    .dataframe tbody tr th:only-of-type {\n",
       "        vertical-align: middle;\n",
       "    }\n",
       "\n",
       "    .dataframe tbody tr th {\n",
       "        vertical-align: top;\n",
       "    }\n",
       "\n",
       "    .dataframe thead th {\n",
       "        text-align: right;\n",
       "    }\n",
       "</style>\n",
       "<table border=\"1\" class=\"dataframe\">\n",
       "  <thead>\n",
       "    <tr style=\"text-align: right;\">\n",
       "      <th></th>\n",
       "      <th>번호</th>\n",
       "      <th>영어</th>\n",
       "      <th>수학</th>\n",
       "    </tr>\n",
       "  </thead>\n",
       "  <tbody>\n",
       "    <tr>\n",
       "      <th>0</th>\n",
       "      <td>1</td>\n",
       "      <td>99</td>\n",
       "      <td>72</td>\n",
       "    </tr>\n",
       "    <tr>\n",
       "      <th>1</th>\n",
       "      <td>2</td>\n",
       "      <td>81</td>\n",
       "      <td>21</td>\n",
       "    </tr>\n",
       "    <tr>\n",
       "      <th>2</th>\n",
       "      <td>3</td>\n",
       "      <td>51</td>\n",
       "      <td>86</td>\n",
       "    </tr>\n",
       "    <tr>\n",
       "      <th>3</th>\n",
       "      <td>4</td>\n",
       "      <td>2</td>\n",
       "      <td>10</td>\n",
       "    </tr>\n",
       "    <tr>\n",
       "      <th>4</th>\n",
       "      <td>5</td>\n",
       "      <td>58</td>\n",
       "      <td>63</td>\n",
       "    </tr>\n",
       "    <tr>\n",
       "      <th>5</th>\n",
       "      <td>6</td>\n",
       "      <td>47</td>\n",
       "      <td>88</td>\n",
       "    </tr>\n",
       "    <tr>\n",
       "      <th>6</th>\n",
       "      <td>7</td>\n",
       "      <td>33</td>\n",
       "      <td>31</td>\n",
       "    </tr>\n",
       "    <tr>\n",
       "      <th>7</th>\n",
       "      <td>8</td>\n",
       "      <td>70</td>\n",
       "      <td>57</td>\n",
       "    </tr>\n",
       "    <tr>\n",
       "      <th>8</th>\n",
       "      <td>9</td>\n",
       "      <td>50</td>\n",
       "      <td>52</td>\n",
       "    </tr>\n",
       "    <tr>\n",
       "      <th>9</th>\n",
       "      <td>10</td>\n",
       "      <td>13</td>\n",
       "      <td>93</td>\n",
       "    </tr>\n",
       "  </tbody>\n",
       "</table>\n",
       "</div>"
      ],
      "text/plain": [
       "   번호  영어  수학\n",
       "0   1  99  72\n",
       "1   2  81  21\n",
       "2   3  51  86\n",
       "3   4   2  10\n",
       "4   5  58  63\n",
       "5   6  47  88\n",
       "6   7  33  31\n",
       "7   8  70  57\n",
       "8   9  50  52\n",
       "9  10  13  93"
      ]
     },
     "execution_count": 30,
     "metadata": {},
     "output_type": "execute_result"
    }
   ],
   "source": [
    "import pandas as pd\n",
    "df = df = pd.read_excel(\"score.xlsx\", engine = \"openpyxl\")\n",
    "df"
   ]
  },
  {
   "cell_type": "code",
   "execution_count": 15,
   "id": "e4745568-2a16-4e7d-8d42-1d9d65955d95",
   "metadata": {},
   "outputs": [
    {
     "data": {
      "text/html": [
       "<div>\n",
       "<style scoped>\n",
       "    .dataframe tbody tr th:only-of-type {\n",
       "        vertical-align: middle;\n",
       "    }\n",
       "\n",
       "    .dataframe tbody tr th {\n",
       "        vertical-align: top;\n",
       "    }\n",
       "\n",
       "    .dataframe thead th {\n",
       "        text-align: right;\n",
       "    }\n",
       "</style>\n",
       "<table border=\"1\" class=\"dataframe\">\n",
       "  <thead>\n",
       "    <tr style=\"text-align: right;\">\n",
       "      <th></th>\n",
       "      <th>번호</th>\n",
       "      <th>영어</th>\n",
       "      <th>수학</th>\n",
       "    </tr>\n",
       "  </thead>\n",
       "  <tbody>\n",
       "    <tr>\n",
       "      <th>0</th>\n",
       "      <td>1</td>\n",
       "      <td>0</td>\n",
       "      <td>99</td>\n",
       "    </tr>\n",
       "    <tr>\n",
       "      <th>3</th>\n",
       "      <td>4</td>\n",
       "      <td>37</td>\n",
       "      <td>97</td>\n",
       "    </tr>\n",
       "  </tbody>\n",
       "</table>\n",
       "</div>"
      ],
      "text/plain": [
       "   번호  영어  수학\n",
       "0   1   0  99\n",
       "3   4  37  97"
      ]
     },
     "execution_count": 15,
     "metadata": {},
     "output_type": "execute_result"
    }
   ],
   "source": [
    "eng_high = df['수학'] > 90 # 영어 성적 90 이상인 애들만. \n",
    "df[eng_high]"
   ]
  },
  {
   "cell_type": "code",
   "execution_count": null,
   "id": "dc00ab28-25db-4fb3-9783-bd4daf3ced05",
   "metadata": {},
   "outputs": [],
   "source": [
    "df[eng_high].to_excel('high_eng_score.xlsx',sheet_name='high_eng')"
   ]
  },
  {
   "cell_type": "markdown",
   "id": "64999836-2d88-4d2f-86cc-9bc4b66dec20",
   "metadata": {},
   "source": [
    "# 셀 추가 삭제\n",
    "1. 열 추가하기"
   ]
  },
  {
   "cell_type": "code",
   "execution_count": null,
   "id": "5f0b29e0-47df-4933-bf9a-e0fe579e79aa",
   "metadata": {},
   "outputs": [],
   "source": [
    "from openpyxl import load_workbook\n",
    "wb = load_workbook(filename=\"score.xlsx\")\n",
    "ws = wb.active\n",
    "ws.insert_rows(8) # 8번째 줄이 비워짐\n",
    "ws.insert_rows(8, 5) # 8번째 줄 위치에 5줄을 추가\n",
    "wb.save(\"score_insert_rows.xlsx\")"
   ]
  },
  {
   "cell_type": "markdown",
   "id": "480ef06c-6bae-4ec6-9c69-fd6563a0bbf0",
   "metadata": {},
   "source": [
    "2. Column 추가하기"
   ]
  },
  {
   "cell_type": "code",
   "execution_count": null,
   "id": "9da3186a-393f-4928-a4d9-bb32fa7288c1",
   "metadata": {},
   "outputs": [],
   "source": [
    "ws.insert_cols(2, 3) # B번째 열로부터 3열 추가\n",
    "wb.save(\"score_insert_cols.xlsx\")"
   ]
  },
  {
   "cell_type": "markdown",
   "id": "039af72e-b313-43a1-8c0f-00f5598952ae",
   "metadata": {},
   "source": [
    "3. 열 삭제하기"
   ]
  },
  {
   "cell_type": "code",
   "execution_count": null,
   "id": "de716240-f694-4a3e-9b66-d485c5928f33",
   "metadata": {},
   "outputs": [],
   "source": [
    "wb = load_workbook(\"score.xlsx\")\n",
    "ws = wb.active\n",
    "\n",
    "# ws.delete_rows(8) # 8 번째 줄에 있는 7 번 학생 데이터 삭제\n",
    "ws.delete_rows(8, 3) # 8번째 줄부터 총 3줄 삭제\n",
    "wb.save(\"score_delete_row.xlsx\")"
   ]
  },
  {
   "cell_type": "markdown",
   "id": "fd2fb0bd-70c6-482d-9c83-8a3fdde50be6",
   "metadata": {},
   "source": [
    "4. Column 삭제하기"
   ]
  },
  {
   "cell_type": "code",
   "execution_count": null,
   "id": "848580a1-bdc2-4774-be1e-52ae0399f315",
   "metadata": {},
   "outputs": [],
   "source": [
    "wb = wb.load_workbook(\"score.xlsx\")\n",
    "ws = wb.active\n",
    "\n",
    "# ws.delete_cols(2) # 2번째 열 (B) 삭제\n",
    "ws.delete_cols(2, 2) # 2번재 열로부터 총 2개 열 삭제\n",
    "\n",
    "wb.save(\"score_delete_col.xlsx\")"
   ]
  },
  {
   "cell_type": "markdown",
   "id": "9edc8162-542d-47f3-a9c0-6b8838346546",
   "metadata": {},
   "source": [
    "5. 이동하기"
   ]
  },
  {
   "cell_type": "code",
   "execution_count": null,
   "id": "a9e00a9b-f616-4d9c-bf35-ef9ce1a38464",
   "metadata": {
    "slideshow": {
     "slide_type": "slide"
    }
   },
   "outputs": [],
   "source": [
    "wb = load_workbook(\"score.xlsx\")\n",
    "ws = wb.active\n",
    "\n",
    "# 번호 영어 수학\n",
    "# 번호 (국어) 영어 수학\n",
    "ws.move_range(\"B1:C11\", rows=0, cols=1)\n",
    "ws[\"B1\"].value = \"국어\" # B1 셀에 '국어' 입력\n",
    "\n",
    "wb.save(\"score_korean.xlsx\")"
   ]
  },
  {
   "cell_type": "markdown",
   "id": "5bdb8ed5-c4d9-48bf-b580-d2a136a58444",
   "metadata": {},
   "source": [
    "### 셀에 이미지 넣기"
   ]
  },
  {
   "cell_type": "code",
   "execution_count": null,
   "id": "f93f3f0e",
   "metadata": {},
   "outputs": [],
   "source": [
    "from openpyxl import Workbook\n",
    "from openpyxl.drawing.image import Image\n",
    "wb = Workbook()\n",
    "ws = wb.active\n",
    "\n",
    "img = Image(\"img.jpg\")\n",
    "\n",
    "# C3 위치에 img.png 파일의 이미지를 삽입\n",
    "ws.add_image(img, \"C3\")\n",
    "\n",
    "wb.save(\"install image.xlsx\")\n",
    "\n",
    "# ImportError : You must install Pillow to fetch image....\n",
    "\n"
   ]
  }
 ],
 "metadata": {
  "kernelspec": {
   "display_name": "Python 3 (ipykernel)",
   "language": "python",
   "name": "python3"
  },
  "language_info": {
   "codemirror_mode": {
    "name": "ipython",
    "version": 3
   },
   "file_extension": ".py",
   "mimetype": "text/x-python",
   "name": "python",
   "nbconvert_exporter": "python",
   "pygments_lexer": "ipython3",
   "version": "3.9.12"
  }
 },
 "nbformat": 4,
 "nbformat_minor": 5
}
