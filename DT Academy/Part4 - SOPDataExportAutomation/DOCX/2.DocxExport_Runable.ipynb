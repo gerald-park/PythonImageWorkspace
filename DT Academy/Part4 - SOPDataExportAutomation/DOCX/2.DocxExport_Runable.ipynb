{
 "cells": [
  {
   "cell_type": "markdown",
   "metadata": {},
   "source": [
    "# Docx-Exporter 실행코드"
   ]
  },
  {
   "cell_type": "code",
   "execution_count": 4,
   "metadata": {},
   "outputs": [],
   "source": [
    "from docx import Document\n",
    "import pandas as pd\n",
    "\n",
    "OP_ROW = 1 \n",
    "HEADER_ROW = 2 \n",
    "FIRST_ROW = 3 "
   ]
  },
  {
   "cell_type": "markdown",
   "metadata": {},
   "source": [
    "# Functions"
   ]
  },
  {
   "cell_type": "code",
   "execution_count": 5,
   "metadata": {},
   "outputs": [],
   "source": [
    "def getLeftHeaderCols(tb):\n",
    "    op_cols = []\n",
    "    ref_cols = []  \n",
    "    item_cols = []\n",
    "    des_cols = []\n",
    "    qty_cols = []\n",
    "    for idx, _ in enumerate(tb.columns):\n",
    "        if 'op' in tb.cell(OP_ROW, idx).text.lower().strip():\n",
    "            op_cols.append(idx)\n",
    "        if 'ref' in tb.cell(HEADER_ROW, idx).text.lower().strip():\n",
    "            ref_cols.append(idx)\n",
    "        if 'man.item' in tb.cell(HEADER_ROW, idx).text.lower().strip():\n",
    "            item_cols.append(idx)\n",
    "        if 'description' in tb.cell(HEADER_ROW, idx).text.lower().strip():\n",
    "            des_cols.append(idx)\n",
    "        if 'qty' in tb.cell(HEADER_ROW, idx).text.lower().strip():\n",
    "            qty_cols.append(idx)\n",
    "  \n",
    "    if ref_cols:\n",
    "        return {'op':op_cols[0] ,'ref':ref_cols[0],'item':item_cols[0],'des':des_cols[0],'qty':qty_cols[0]}\n",
    "\n",
    "def getRightHeaderCols(tb):\n",
    "    op_cols = []\n",
    "    ref_cols = []\n",
    "    item_cols = []\n",
    "    des_cols = []\n",
    "    qty_cols = []\n",
    "    for idx, _ in enumerate(tb.columns):\n",
    "        if 'op' in tb.cell(OP_ROW, idx).text.lower():\n",
    "            op_cols.append(idx)\n",
    "        if 'ref.' in tb.cell(HEADER_ROW, idx).text.lower():\n",
    "            ref_cols.append(idx)\n",
    "        if 'man.item no.' in tb.cell(HEADER_ROW, idx).text.lower():\n",
    "            item_cols.append(idx)\n",
    "        if 'description' in tb.cell(HEADER_ROW, idx).text.lower():\n",
    "            des_cols.append(idx)\n",
    "        if 'qty' in tb.cell(HEADER_ROW, idx).text.lower():\n",
    "            qty_cols.append(idx)\n",
    "            \n",
    "    right_header_cols = {'op':int, 'ref': int ,'item':int,'des':int,'qty':int}\n",
    "    try:\n",
    "        right_header_cols['op'] = 19\n",
    "        right_header_cols['ref'] = ref_cols[2]\n",
    "        for col in item_cols:\n",
    "            if col > right_header_cols['ref']:\n",
    "                right_header_cols['item'] = col\n",
    "                break\n",
    "        for col in des_cols:\n",
    "            if col > right_header_cols['ref']:\n",
    "                right_header_cols['des'] = col\n",
    "                break\n",
    "        for col in qty_cols:\n",
    "            if col > right_header_cols['ref']:\n",
    "                right_header_cols['qty'] = col\n",
    "                break\n",
    "    except:\n",
    "        pass\n",
    "    return right_header_cols\n",
    "\n",
    "def GetLeftItemsList(table):\n",
    "    item = []\n",
    "    items = []\n",
    "    headers = getLeftHeaderCols(tb)\n",
    "    for i, _ in enumerate(table.rows) : # left\n",
    "        try:\n",
    "            op = tb.cell(OP_ROW, headers['op']).text\n",
    "            ref = table.cell(FIRST_ROW + i, headers['ref']).text\n",
    "            item = table.cell(FIRST_ROW + i, headers['item']).text\n",
    "            des = table.cell(FIRST_ROW  + i, headers['des']).text\n",
    "            qty = table.cell(FIRST_ROW + i, headers['qty']).text\n",
    "        except:\n",
    "            continue\n",
    "        if qty.isnumeric():\n",
    "            item = [op, ref, item, des, qty]\n",
    "            items.append(item)\n",
    "    return items\n",
    "\n",
    "def GetRightItemsList(table):\n",
    "    item = []\n",
    "    items = []\n",
    "    headers = getRightHeaderCols(table)\n",
    "    for i, _ in enumerate(table.rows) : # right\n",
    "        \n",
    "        try:\n",
    "            op = tb.cell(OP_ROW, headers['op']).text\n",
    "            ref = table.cell(FIRST_ROW + i, headers['ref']).text.replace('\\n','')\n",
    "            item = table.cell(FIRST_ROW + i, headers['item']).text\n",
    "            des = table.cell(FIRST_ROW  + i, headers['des']).text\n",
    "            qty = table.cell(FIRST_ROW + i, headers['qty']).text\n",
    "        except:\n",
    "            continue\n",
    "        if qty.isnumeric():\n",
    "            item = [op, ref, item, des, qty]\n",
    "            items.append(item)\n",
    "    return items"
   ]
  },
  {
   "cell_type": "code",
   "execution_count": 6,
   "metadata": {},
   "outputs": [],
   "source": [
    "doc = Document('sop.docx')\n",
    "df = pd.DataFrame(columns=['OperationStep','Ref.','Man.Item.No','Description','Qty'])\n",
    "for tb in doc.tables:\n",
    "    if tb:\n",
    "        if len(tb.rows) > 10 : # 최소 열줄은 넘겨야...\n",
    "            lefts = GetLeftItemsList(tb)\n",
    "            rights = GetRightItemsList(tb)\n",
    "            for left in lefts:\n",
    "                df.loc[len(df)] = left\n",
    "            for right in rights:    \n",
    "                df.loc[len(df)] = right\n",
    "\n",
    "f_name = 'sop_docx.csv'\n",
    "df.to_csv(f_name,encoding='utf-8-sig', index=False, mode='w', header=True)"
   ]
  }
 ],
 "metadata": {
  "kernelspec": {
   "display_name": "Python 3.7.4 64-bit",
   "language": "python",
   "name": "python3"
  },
  "language_info": {
   "codemirror_mode": {
    "name": "ipython",
    "version": 3
   },
   "file_extension": ".py",
   "mimetype": "text/x-python",
   "name": "python",
   "nbconvert_exporter": "python",
   "pygments_lexer": "ipython3",
   "version": "3.7.4"
  },
  "orig_nbformat": 4,
  "vscode": {
   "interpreter": {
    "hash": "5109d816b82be14675a6b11f8e0f0d2e80f029176ed3710d54e125caa8520dfd"
   }
  }
 },
 "nbformat": 4,
 "nbformat_minor": 2
}
