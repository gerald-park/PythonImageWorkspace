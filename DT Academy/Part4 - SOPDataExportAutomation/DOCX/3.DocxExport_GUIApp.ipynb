{
 "cells": [
  {
   "cell_type": "markdown",
   "metadata": {},
   "source": [
    "# Docx-Exporter 실행코드"
   ]
  },
  {
   "cell_type": "code",
   "execution_count": 13,
   "metadata": {},
   "outputs": [],
   "source": [
    "from docx import Document\n",
    "import pandas as pd\n",
    "import tkinter.ttk as ttk\n",
    "import tkinter.messagebox as msgbox\n",
    "from tkinter import * # __all__\n",
    "from tkinter import filedialog\n",
    "import threading, time\n",
    "\n",
    "OP_ROW = 1 \n",
    "HEADER_ROW = 2 \n",
    "FIRST_ROW = 3 "
   ]
  },
  {
   "cell_type": "markdown",
   "metadata": {},
   "source": [
    "# Functions"
   ]
  },
  {
   "cell_type": "code",
   "execution_count": 14,
   "metadata": {},
   "outputs": [],
   "source": [
    "def getLeftHeaderCols(table):\n",
    "    op_cols = []\n",
    "    ref_cols = []  \n",
    "    item_cols = []\n",
    "    des_cols = []\n",
    "    qty_cols = []\n",
    "    for idx, _ in enumerate(table.columns):\n",
    "        if 'op' in table.cell(OP_ROW, idx).text.lower().strip():\n",
    "            op_cols.append(idx)\n",
    "        if 'ref' in table.cell(HEADER_ROW, idx).text.lower().strip():\n",
    "            ref_cols.append(idx)\n",
    "        if 'man.item' in table.cell(HEADER_ROW, idx).text.lower().strip():\n",
    "            item_cols.append(idx)\n",
    "        if 'description' in table.cell(HEADER_ROW, idx).text.lower().strip():\n",
    "            des_cols.append(idx)\n",
    "        if 'qty' in table.cell(HEADER_ROW, idx).text.lower().strip():\n",
    "            qty_cols.append(idx)\n",
    "\n",
    "    try:        \n",
    "        return {'op':op_cols[0] ,'ref':ref_cols[0],'item':item_cols[0],'des':des_cols[0],'qty':qty_cols[0]}\n",
    "    except:\n",
    "        print('out of range')\n",
    "\n",
    "def getRightHeaderCols(table):\n",
    "    op_cols = []\n",
    "    ref_cols = []\n",
    "    item_cols = []\n",
    "    des_cols = []\n",
    "    qty_cols = []\n",
    "    for idx, _ in enumerate(table.columns):\n",
    "        if 'op' in table.cell(OP_ROW, idx).text.lower():\n",
    "            op_cols.append(idx)\n",
    "        if 'ref.' in table.cell(HEADER_ROW, idx).text.lower():\n",
    "            ref_cols.append(idx)\n",
    "        if 'man.item no.' in table.cell(HEADER_ROW, idx).text.lower():\n",
    "            item_cols.append(idx)\n",
    "        if 'description' in table.cell(HEADER_ROW, idx).text.lower():\n",
    "            des_cols.append(idx)\n",
    "        if 'qty' in table.cell(HEADER_ROW, idx).text.lower():\n",
    "            qty_cols.append(idx)\n",
    "            \n",
    "    right_header_cols = {'op':int, 'ref': int ,'item':int,'des':int,'qty':int}\n",
    "    try:\n",
    "        right_header_cols['op'] = 19\n",
    "        right_header_cols['ref'] = ref_cols[2]\n",
    "        for col in item_cols:\n",
    "            if col > right_header_cols['ref']:\n",
    "                right_header_cols['item'] = col\n",
    "                break\n",
    "        for col in des_cols:\n",
    "            if col > right_header_cols['ref']:\n",
    "                right_header_cols['des'] = col\n",
    "                break\n",
    "        for col in qty_cols:\n",
    "            if col > right_header_cols['ref']:\n",
    "                right_header_cols['qty'] = col\n",
    "                break\n",
    "    except:\n",
    "        pass\n",
    "    return right_header_cols\n",
    "\n",
    "def GetLeftItemsList(table):\n",
    "    item = []\n",
    "    items = []\n",
    "    headers = getLeftHeaderCols(table)\n",
    "    for i, _ in enumerate(table.rows) : # left\n",
    "        try:\n",
    "            op = table.cell(OP_ROW, headers['op']).text\n",
    "            ref = table.cell(FIRST_ROW + i, headers['ref']).text\n",
    "            item = table.cell(FIRST_ROW + i, headers['item']).text\n",
    "            des = table.cell(FIRST_ROW  + i, headers['des']).text\n",
    "            qty = table.cell(FIRST_ROW + i, headers['qty']).text\n",
    "        except:\n",
    "            continue\n",
    "        if qty.isnumeric():\n",
    "            item = [op, ref, item, des, qty]\n",
    "            items.append(item)\n",
    "    return items\n",
    "\n",
    "def GetRightItemsList(table):\n",
    "    item = []\n",
    "    items = []\n",
    "    headers = getRightHeaderCols(table)\n",
    "    for i, _ in enumerate(table.rows) : # right\n",
    "        \n",
    "        try:\n",
    "            op = table.cell(OP_ROW, headers['op']).text\n",
    "            ref = table.cell(FIRST_ROW + i, headers['ref']).text.replace('\\n','')\n",
    "            item = table.cell(FIRST_ROW + i, headers['item']).text\n",
    "            des = table.cell(FIRST_ROW  + i, headers['des']).text\n",
    "            qty = table.cell(FIRST_ROW + i, headers['qty']).text\n",
    "        except:\n",
    "            continue\n",
    "        if qty.isnumeric():\n",
    "            item = [op, ref, item, des, qty]\n",
    "            items.append(item)\n",
    "    return items"
   ]
  },
  {
   "cell_type": "markdown",
   "metadata": {},
   "source": [
    "# GUI Functions"
   ]
  },
  {
   "cell_type": "code",
   "execution_count": 15,
   "metadata": {},
   "outputs": [],
   "source": [
    "sopfile = ''\n",
    "\n",
    "def open_file():\n",
    "    global sopfile\n",
    "    global file_name\n",
    "    try:\n",
    "        sopfile = filedialog.askopenfilename(initialdir=r'C:\\Users\\ParkGY\\DocumentsCFLTYanadoo\\DT Academy\\SOPMeterial',title=\"select a file\",\n",
    "                                            filetypes =((\"Word File\",\"*.docx\"),\n",
    "                                            (\"all files\",\"*.*\")))\n",
    "    except:\n",
    "        pass\n",
    "    \n",
    "def convert():\n",
    "    doc = Document(sopfile)    \n",
    "    df = pd.DataFrame(columns=['OperationStep','Ref.','Man.Item.No','Description','Qty'])\n",
    "    for tb in doc.tables:\n",
    "        if tb and len(tb.rows) > 10: # 최소 열줄은 넘겨야...\n",
    "            lefts = GetLeftItemsList(tb)\n",
    "            rights = GetRightItemsList(tb)\n",
    "            for left in lefts:\n",
    "                df.loc[len(df)] = left\n",
    "            for right in rights:    \n",
    "                df.loc[len(df)] = right\n",
    "   \n",
    "    f_name = sopfile.split('.')[0] + '.csv' \n",
    "    df.to_csv(f_name, encoding='utf-8-sig', index=False, mode='w', header=True)   \n"
   ]
  },
  {
   "cell_type": "markdown",
   "metadata": {},
   "source": [
    "# GUI layout and Run"
   ]
  },
  {
   "cell_type": "code",
   "execution_count": 16,
   "metadata": {},
   "outputs": [
    {
     "name": "stderr",
     "output_type": "stream",
     "text": [
      "Exception in Tkinter callback\n",
      "Traceback (most recent call last):\n",
      "  File \"c:\\Program Files\\Python37\\lib\\tkinter\\__init__.py\", line 1705, in __call__\n",
      "    return self.func(*args)\n",
      "  File \"C:\\Users\\ParkGY\\AppData\\Local\\Temp\\ipykernel_31308\\3647710985.py\", line 18, in convert\n",
      "    lefts = GetLeftItemsList(tb)\n",
      "  File \"C:\\Users\\ParkGY\\AppData\\Local\\Temp\\ipykernel_31308\\1804470304.py\", line 63, in GetLeftItemsList\n",
      "    headers = getLeftHeaderCols(table)\n",
      "  File \"C:\\Users\\ParkGY\\AppData\\Local\\Temp\\ipykernel_31308\\1804470304.py\", line 20, in getLeftHeaderCols\n",
      "    return {'op':op_cols[0] ,'ref':ref_cols[0],'item':item_cols[0],'des':des_cols[0],'qty':qty_cols[0]}\n",
      "IndexError: list index out of range\n"
     ]
    }
   ],
   "source": [
    "root = Tk()\n",
    "root.title(\"Docx SOP Converter\")\n",
    "root.geometry(\"300x150\")\n",
    "\n",
    "# Frame \n",
    "frame = Frame(root)\n",
    "frame.pack(fill=\"x\", padx=5, pady=5) # 간격 띄우기\n",
    "\n",
    "btn_add_file = Button(frame, padx=5, pady=5, text=\"Open SOP\", command=open_file)\n",
    "btn_add_file.pack(fill=\"x\",side=\"top\", padx=5, pady=5)\n",
    "\n",
    "btn_start = Button(frame, padx=5, pady=5, text=\"Convert\", command=convert)\n",
    "btn_start.pack(fill=\"x\",side=\"top\", padx=5, pady=5)\n",
    "# Runs\n",
    "root.mainloop()"
   ]
  }
 ],
 "metadata": {
  "kernelspec": {
   "display_name": "Python 3.7.4 64-bit",
   "language": "python",
   "name": "python3"
  },
  "language_info": {
   "codemirror_mode": {
    "name": "ipython",
    "version": 3
   },
   "file_extension": ".py",
   "mimetype": "text/x-python",
   "name": "python",
   "nbconvert_exporter": "python",
   "pygments_lexer": "ipython3",
   "version": "3.7.4"
  },
  "orig_nbformat": 4,
  "vscode": {
   "interpreter": {
    "hash": "5109d816b82be14675a6b11f8e0f0d2e80f029176ed3710d54e125caa8520dfd"
   }
  }
 },
 "nbformat": 4,
 "nbformat_minor": 2
}
