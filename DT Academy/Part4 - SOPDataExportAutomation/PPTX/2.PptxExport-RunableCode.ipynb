{
 "cells": [
  {
   "cell_type": "markdown",
   "id": "4fdd8ac9",
   "metadata": {},
   "source": [
    "## PPT Export 한방에 실행하는 코드 "
   ]
  },
  {
   "cell_type": "code",
   "execution_count": 1,
   "id": "62b10057",
   "metadata": {},
   "outputs": [],
   "source": [
    "from pptx import Presentation\n",
    "import pandas as pd\n",
    "\n",
    "MAX_ITEM_NO = 12\n",
    "prs = Presentation('sop.pptx')"
   ]
  },
  {
   "cell_type": "markdown",
   "id": "f845f047",
   "metadata": {},
   "source": [
    "## Functions"
   ]
  },
  {
   "cell_type": "code",
   "execution_count": 3,
   "id": "e66291a3",
   "metadata": {},
   "outputs": [],
   "source": [
    "def getTextInRowCol(table, row, col) : \n",
    "    text = ''\n",
    "    for paragraph in table.cell(row,col).text_frame.paragraphs:\n",
    "        for run in paragraph.runs:\n",
    "            text += run.text \n",
    "    return text\n",
    "\n",
    "def GetItemInTable(table, idx):        \n",
    "    OP_ROW = 1 \n",
    "    OP_COL = 3\n",
    "    FIRST_ROW = 3\n",
    "    LEFT_ITEM_COL = 3 \n",
    "    LEFT_DES_COL = 9\n",
    "    LEFT_QTY_COL = 13\n",
    "    RIGHT_ITEM_COL = 15 \n",
    "    RIGHT_DES_COL = 18\n",
    "    RIGHT_QTY_COL = 21\n",
    "    \n",
    "    right_first_item_no = int(MAX_ITEM_NO / 2)\n",
    "    \n",
    "    if idx < right_first_item_no :\n",
    "        op_num = getTextInRowCol(table, OP_ROW, OP_COL)\n",
    "        item_no = getTextInRowCol(table, FIRST_ROW + idx, LEFT_ITEM_COL)\n",
    "        des = getTextInRowCol(table, FIRST_ROW + idx, LEFT_DES_COL )\n",
    "        qty = getTextInRowCol(table, FIRST_ROW + idx, LEFT_QTY_COL)\n",
    "\n",
    "    else:\n",
    "        op_num = getTextInRowCol(table, OP_ROW, OP_COL)\n",
    "        item_no = getTextInRowCol(table, FIRST_ROW + idx - right_first_item_no, RIGHT_ITEM_COL)\n",
    "        des = getTextInRowCol(table, FIRST_ROW  + idx - right_first_item_no, RIGHT_DES_COL)\n",
    "        qty = getTextInRowCol(table, FIRST_ROW + idx - right_first_item_no, RIGHT_QTY_COL)\n",
    "    \n",
    "    item_list = [op_num, item_no, des, qty]         \n",
    "    return item_list\n",
    "\n",
    "def GetItemsInSlide(slide):\n",
    "    items = []\n",
    "    if slide.shapes[0].has_table:\n",
    "        table = slide.shapes[0].table\n",
    "        for idx in range(0, MAX_ITEM_NO):\n",
    "            item = GetItemInTable(table, idx)\n",
    "            if item[3].isnumeric() and item[2]: # Description에 데이터가 있고 qty가 숫자이면 데이터 인정 \n",
    "                items.append(item)\n",
    "        return items"
   ]
  },
  {
   "cell_type": "markdown",
   "id": "ce4ae2bb",
   "metadata": {},
   "source": [
    "###  실행 코드 "
   ]
  },
  {
   "cell_type": "code",
   "execution_count": 5,
   "id": "9d1aac5b",
   "metadata": {
    "scrolled": true
   },
   "outputs": [],
   "source": [
    "df = pd.DataFrame(columns=['OperationStep','Man.Item.No','Description','Qty'])\n",
    "\n",
    "for slide in prs.slides:\n",
    "    items = GetItemsInSlide(slide) \n",
    "    if items : # items list 에 데이터가 있으면 추가 \n",
    "        for item in items:\n",
    "            df.loc[len(df)] = item\n",
    "            \n",
    "f_name = 'sop_pptx.csv'\n",
    "df.to_csv(f_name,encoding='utf-8-sig', index=False, mode='w', header=True)"
   ]
  }
 ],
 "metadata": {
  "kernelspec": {
   "display_name": "Python 3.7.4 64-bit",
   "language": "python",
   "name": "python3"
  },
  "language_info": {
   "codemirror_mode": {
    "name": "ipython",
    "version": 3
   },
   "file_extension": ".py",
   "mimetype": "text/x-python",
   "name": "python",
   "nbconvert_exporter": "python",
   "pygments_lexer": "ipython3",
   "version": "3.7.4"
  },
  "vscode": {
   "interpreter": {
    "hash": "5109d816b82be14675a6b11f8e0f0d2e80f029176ed3710d54e125caa8520dfd"
   }
  }
 },
 "nbformat": 4,
 "nbformat_minor": 5
}
