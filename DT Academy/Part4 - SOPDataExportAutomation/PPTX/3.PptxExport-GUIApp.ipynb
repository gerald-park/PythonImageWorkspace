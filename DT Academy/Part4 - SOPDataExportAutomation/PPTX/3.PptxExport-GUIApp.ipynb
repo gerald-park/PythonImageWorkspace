{
 "cells": [
  {
   "attachments": {
    "image.png": {
     "image/png": "[encoded data removed]"
    }
   },
   "cell_type": "markdown",
   "id": "4fdd8ac9",
   "metadata": {},
   "source": [
    "## 간단한 GUI App을 만들어보자\n",
    "![image.png](attachment:image.png)\n",
    "- Open File : pptx 파일을 열기 \n",
    "- Convert File : csv로 변환후 같은 파일이름음 .csv 로 저장하기 "
   ]
  },
  {
   "cell_type": "code",
   "execution_count": 1,
   "id": "64bf33bb",
   "metadata": {},
   "outputs": [],
   "source": [
    "from pptx import Presentation\n",
    "import pandas as pd\n",
    "import tkinter.ttk as ttk\n",
    "import tkinter.messagebox as msgbox\n",
    "from tkinter import * # __all__\n",
    "from tkinter import filedialog\n",
    "\n",
    "MAX_ITEM_NO = 12"
   ]
  },
  {
   "cell_type": "markdown",
   "id": "9626c6fa",
   "metadata": {},
   "source": [
    "## 간단한 GUI Layout"
   ]
  },
  {
   "cell_type": "code",
   "execution_count": 6,
   "id": "ae7f50b8",
   "metadata": {},
   "outputs": [],
   "source": [
    "root = Tk()\n",
    "root.title(\"PPTX SOP Converter\")\n",
    "root.geometry(\"200x120\")\n",
    "\n",
    "# Frame \n",
    "frame = Frame(root)\n",
    "frame.pack(fill=\"x\", padx=5, pady=5) # 간격 띄우기\n",
    "\n",
    "btn_open_file = Button(frame, padx=5, pady=5, text=\"Open File\", command=open_file)\n",
    "btn_open_file.pack(fill=\"x\",side=\"top\",padx=5, pady=5)\n",
    "\n",
    "btn_start = Button(frame, padx=5, pady=5, text=\"Convert\", command=convert)\n",
    "btn_start.pack(fill=\"x\",side=\"top\", padx=5, pady=5)\n",
    "\n",
    "# Runs\n",
    "root.mainloop()"
   ]
  },
  {
   "cell_type": "markdown",
   "id": "f845f324",
   "metadata": {},
   "source": [
    "## GUI Event Fucntions\n",
    "- open_file() : file diaglog 를 연뒤 선택한 sop file 의 경로를 저장 \n",
    "- convert() : pptx 파일을 memory 에 load 하고 변환과정을 거친뒤 같은 파일명의 csv 파일로 저장"
   ]
  },
  {
   "cell_type": "code",
   "execution_count": 3,
   "id": "0788aee2",
   "metadata": {},
   "outputs": [],
   "source": [
    "sopfile = ''\n",
    "def open_file():\n",
    "    global sopfile\n",
    "    try:\n",
    "        sopfile = filedialog.askopenfilename(initialdir=r'C:\\Users\\ParkGY\\DocumentsCFLTYanadoo\\DT Academy\\SOPMeterial',title=\"select a file\",\n",
    "                                            filetypes =((\"Perenstaion\",\"*.pptx\"),\n",
    "                                            (\"all files\",\"*.*\")))\n",
    "    except:\n",
    "        pass\n",
    "    \n",
    "def convert():        \n",
    "    prs = Presentation(sopfile)  \n",
    "    df = pd.DataFrame(columns=['OperationStep','Man.Item.No','Description','Qty'])\n",
    "    for slide in prs.slides:\n",
    "        items = GetItemsInSlide(slide) \n",
    "        if items : # items list 에 데이터가 있으면 추가 \n",
    "            for item in items:\n",
    "                df.loc[len(df)] = item\n",
    "            \n",
    "    f_name = sopfile.split('.')[0] + '.csv' \n",
    "    df.to_csv(f_name, encoding='utf-8-sig', index=False, mode='w', header=True)   \n"
   ]
  },
  {
   "cell_type": "markdown",
   "id": "670f4913",
   "metadata": {},
   "source": [
    "## Functions"
   ]
  },
  {
   "cell_type": "code",
   "execution_count": 4,
   "id": "e66291a3",
   "metadata": {},
   "outputs": [],
   "source": [
    "def getTextInRowCol(table, row, col) : \n",
    "    text = ''\n",
    "    try:\n",
    "        for paragraph in table.cell(row,col).text_frame.paragraphs:\n",
    "            for run in paragraph.runs:\n",
    "                text += run.text \n",
    "    except:\n",
    "        pass\n",
    "    return text\n",
    "\n",
    "def GetItemInTable(table, idx):        \n",
    "    OP_ROW = 1 \n",
    "    OP_COL = 3\n",
    "    FIRST_ROW = 3\n",
    "    LEFT_ITEM_COL = 3 \n",
    "    LEFT_DES_COL = 9\n",
    "    LEFT_QTY_COL = 13\n",
    "    RIGHT_ITEM_COL = 15 \n",
    "    RIGHT_DES_COL = 18\n",
    "    RIGHT_QTY_COL = 21\n",
    "    \n",
    "    right_first_item_no = int(MAX_ITEM_NO / 2)\n",
    "    \n",
    "    if idx < right_first_item_no :\n",
    "        op_num = getTextInRowCol(table, OP_ROW, OP_COL)\n",
    "        item_no = getTextInRowCol(table, FIRST_ROW + idx, LEFT_ITEM_COL)\n",
    "        des = getTextInRowCol(table, FIRST_ROW + idx, LEFT_DES_COL )\n",
    "        qty = getTextInRowCol(table, FIRST_ROW + idx, LEFT_QTY_COL)\n",
    "\n",
    "    else:\n",
    "        op_num = getTextInRowCol(table, OP_ROW, OP_COL)\n",
    "        item_no = getTextInRowCol(table, FIRST_ROW + idx - right_first_item_no, RIGHT_ITEM_COL)\n",
    "        des = getTextInRowCol(table, FIRST_ROW  + idx - right_first_item_no, RIGHT_DES_COL)\n",
    "        qty = getTextInRowCol(table, FIRST_ROW + idx - right_first_item_no, RIGHT_QTY_COL)\n",
    "    \n",
    "    item_list = [op_num, item_no, des, qty]         \n",
    "    return item_list\n",
    "\n",
    "def GetItemsInSlide(slide):\n",
    "    items = []\n",
    "    if slide.shapes[0].has_table:\n",
    "        table = slide.shapes[0].table\n",
    "        for idx in range(0, MAX_ITEM_NO):\n",
    "            item = GetItemInTable(table, idx)\n",
    "            if item[3].isnumeric() and item[2]: # Description에 데이터가 있고 qty가 숫자이면 데이터 인정 \n",
    "                items.append(item)\n",
    "        return items"
   ]
  }
 ],
 "metadata": {
  "kernelspec": {
   "display_name": "Python 3.7.4 64-bit",
   "language": "python",
   "name": "python3"
  },
  "language_info": {
   "codemirror_mode": {
    "name": "ipython",
    "version": 3
   },
   "file_extension": ".py",
   "mimetype": "text/x-python",
   "name": "python",
   "nbconvert_exporter": "python",
   "pygments_lexer": "ipython3",
   "version": "3.7.4"
  },
  "vscode": {
   "interpreter": {
    "hash": "5109d816b82be14675a6b11f8e0f0d2e80f029176ed3710d54e125caa8520dfd"
   }
  }
 },
 "nbformat": 4,
 "nbformat_minor": 5
}
