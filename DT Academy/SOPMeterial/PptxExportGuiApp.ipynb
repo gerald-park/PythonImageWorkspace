{
 "cells": [
  {
   "cell_type": "code",
   "execution_count": 10,
   "id": "43cf7453",
   "metadata": {},
   "outputs": [],
   "source": [
    "from pptx import Presentation\n",
    "import pandas as pd\n",
    "import tkinter.ttk as ttk\n",
    "import tkinter.messagebox as msgbox\n",
    "from tkinter import * # __all__\n",
    "from tkinter import filedialog\n",
    "\n",
    "from pptx import Presentation\n",
    "import pandas as pd\n"
   ]
  },
  {
   "cell_type": "markdown",
   "id": "d8178289",
   "metadata": {},
   "source": [
    "## SOP Export Functions"
   ]
  },
  {
   "cell_type": "code",
   "execution_count": 11,
   "id": "5f8e20be",
   "metadata": {},
   "outputs": [],
   "source": [
    "class Point: \n",
    "    def __init__(self, row, col):\n",
    "        self.row = row\n",
    "        self.col = col\n",
    "        \n",
    "    row: int = None\n",
    "    col: int = None\n",
    "        \n",
    "class SOPDataPoints:    \n",
    "    op_num : Point = None\n",
    "    item_no : Point = None\n",
    "    desciption : Point = None\n",
    "    qty : Point = None   \n",
    "\n",
    "def getTablesInSlide(prs, sld_no):\n",
    "    slide_layout = prs.slide_layouts[0]\n",
    "    shapes = slide_layout.shapes\n",
    "    slide = prs.slides[sld_no]\n",
    "    if slide.shapes[0].has_table:\n",
    "        return slide.shapes[0].table\n",
    "\n",
    "def getTextInRowCol(tb, row, col) : \n",
    "    text = ''\n",
    "    if not tb.cell(row,col):\n",
    "        pass\n",
    "    else :\n",
    "        for paragraph in tb.cell(row,col).text_frame.paragraphs:\n",
    "            for run in paragraph.runs:\n",
    "                text += run.text \n",
    "    return text\n",
    "\n",
    "def GetItemsList(tb, i):\n",
    "    item_no = []\n",
    "    op_num = Point(1,3)\n",
    "    item_no = Point(3,3)\n",
    "    desciption = Point(3,9)\n",
    "    qty = Point(3,13)\n",
    "    try:\n",
    "        if i < 6 : # left\n",
    "            op_num = getTextInRowCol(tb, op_num.row, op_num.col)\n",
    "            item_no = getTextInRowCol(tb, item_no.row + i, item_no.col)\n",
    "            des = getTextInRowCol(tb, desciption.row  + i, desciption.col )\n",
    "            qty = getTextInRowCol(tb, qty.row + i, qty.col)\n",
    "\n",
    "        else: # right\n",
    "            op_num = getTextInRowCol(tb,op_num.row, op_num.col)\n",
    "            item_no = getTextInRowCol(tb,item_no.row + i - 6, item_no.col + 12)\n",
    "            des = getTextInRowCol(tb,desciption.row  + i - 6, desciption.col + 9)\n",
    "            qty = getTextInRowCol(tb,qty.row + i - 6, qty.col + 8)\n",
    "        item_list = [op_num, item_no, des, qty]   \n",
    "        return item_list\n",
    "    except:\n",
    "        pass    \n"
   ]
  },
  {
   "cell_type": "markdown",
   "id": "65c056ce",
   "metadata": {},
   "source": [
    "### GUI Functions"
   ]
  },
  {
   "cell_type": "code",
   "execution_count": 16,
   "id": "5287909c",
   "metadata": {},
   "outputs": [],
   "source": [
    "sopfile = ''\n",
    "\n",
    "def add_file():\n",
    "    global sopfile\n",
    "    global file_name\n",
    "    try:\n",
    "        sopfile = filedialog.askopenfilename(initialdir=r'C:\\Users\\ParkGY\\DocumentsCFLTYanadoo\\DT Academy\\SOPMeterial',title=\"select a file\",\n",
    "                                            filetypes =((\"Perenstaion\",\"*.pptx\"),\n",
    "                                            (\"all files\",\"*.*\")))\n",
    "    except:\n",
    "        pass\n",
    "    \n",
    "def convert():        \n",
    "    prs = Presentation(sopfile)  \n",
    "    df = pd.DataFrame(columns=['OperationStep','Man.Item.No','Description','Qty'])\n",
    "    for sld_no in range(0, len(prs.slides)):\n",
    "        tb = getTablesInSlide(prs, sld_no)\n",
    "        if not tb:\n",
    "            continue\n",
    "        for i in range(0, 12):\n",
    "            it = GetItemsList(tb, i)\n",
    "            if it and not it[3].isnumeric():\n",
    "                continue\n",
    "            else:\n",
    "                df.loc[len(df.index)] = it\n",
    "            \n",
    "    f_name = sopfile.split('.')[0] + '.csv'\n",
    "    df.to_csv(f_name, encoding='utf-8-sig', index=False, mode='w', header=True)"
   ]
  },
  {
   "cell_type": "markdown",
   "id": "eee87d6f",
   "metadata": {},
   "source": [
    "## Runs App"
   ]
  },
  {
   "cell_type": "code",
   "execution_count": 17,
   "id": "7152e16d",
   "metadata": {},
   "outputs": [],
   "source": [
    "root = Tk()\n",
    "root.title(\"PPTX SOP Converter\")\n",
    "root.geometry(\"300x150\")\n",
    "\n",
    "# Frame \n",
    "file_frame = Frame(root)\n",
    "file_frame.pack(fill=\"x\", padx=5, pady=5) # 간격 띄우기\n",
    "\n",
    "btn_add_file = Button(file_frame, padx=5, pady=5, text=\"Open SOP\", width=20, command=add_file)\n",
    "btn_add_file.pack(side=\"top\")\n",
    "\n",
    "btn_start = Button(file_frame, padx=5, pady=5, text=\"Convert\", width=20, command=convert)\n",
    "btn_start.pack(side=\"top\", padx=5, pady=5)\n",
    "# Runs\n",
    "root.mainloop()"
   ]
  }
 ],
 "metadata": {
  "kernelspec": {
   "display_name": "Python 3 (ipykernel)",
   "language": "python",
   "name": "python3"
  },
  "language_info": {
   "codemirror_mode": {
    "name": "ipython",
    "version": 3
   },
   "file_extension": ".py",
   "mimetype": "text/x-python",
   "name": "python",
   "nbconvert_exporter": "python",
   "pygments_lexer": "ipython3",
   "version": "3.9.12"
  }
 },
 "nbformat": 4,
 "nbformat_minor": 5
}
