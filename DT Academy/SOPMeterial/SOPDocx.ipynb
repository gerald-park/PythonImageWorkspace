{
 "cells": [
  {
   "cell_type": "code",
   "execution_count": 2,
   "id": "13cb118a",
   "metadata": {
    "scrolled": true
   },
   "outputs": [],
   "source": [
    "from docx import Document\n",
    "import pandas as pd\n",
    "doc = Document('sop.docx')\n",
    "\n",
    "OP_ROW = 1 \n",
    "HEADER_ROW = 2 \n",
    "FIRST_ROW = 3 "
   ]
  },
  {
   "cell_type": "code",
   "execution_count": 3,
   "id": "b9189a2d",
   "metadata": {
    "scrolled": true
   },
   "outputs": [
    {
     "name": "stdout",
     "output_type": "stream",
     "text": [
      "75\n",
      "16 28\n"
     ]
    }
   ],
   "source": [
    "tb = doc.tables[10]\n",
    "print(len(doc.tables))\n",
    "print(len(tb.rows),len(tb.columns))"
   ]
  },
  {
   "cell_type": "code",
   "execution_count": null,
   "id": "ad8e86a5",
   "metadata": {
    "scrolled": false
   },
   "outputs": [],
   "source": [
    "for i in range(0,len(tb.rows)):\n",
    "    for j in range(0,len(tb.columns)):\n",
    "        cell = tb.cell(i,j)\n",
    "        print(i,j,cell.text)"
   ]
  },
  {
   "cell_type": "markdown",
   "id": "bfcbc9d9",
   "metadata": {},
   "source": [
    "## Single "
   ]
  },
  {
   "cell_type": "code",
   "execution_count": null,
   "id": "57012aa8",
   "metadata": {},
   "outputs": [],
   "source": [
    "tb = doc.tables[8]\n",
    "\n",
    "item1_op_num = tb.cell(OP_ROW,3).text\n",
    "item1_ref = tb.cell(FRIST_ROW,0).text\n",
    "item1_met = tb.cell(FRIST_ROW,2).text\n",
    "item1_des = tb.cell(FRIST_ROW,9).text\n",
    "item1_qty = tb.cell(FRIST_ROW,15).text\n",
    "\n",
    "item2_op_num = tb.cell(OP_ROW,19).text\n",
    "item2_ref = tb.cell(FRIST_ROW,16).text\n",
    "item2_met = tb.cell(FRIST_ROW,18).text\n",
    "item2_des = tb.cell(FRIST_ROW,21).text\n",
    "item2_qty = tb.cell(FRIST_ROW,25).text\n",
    "print(item1_op_num, item1_ref, item1_met, item1_des, item1_qty)\n",
    "print(item2_op_num, item2_ref, item2_met, item2_des, item2_qty)"
   ]
  },
  {
   "cell_type": "markdown",
   "id": "f70fe362",
   "metadata": {},
   "source": [
    "## Double"
   ]
  },
  {
   "cell_type": "code",
   "execution_count": null,
   "id": "57e42b37",
   "metadata": {},
   "outputs": [],
   "source": [
    "tb = doc.tables[10]\n",
    "item1_op_num = tb.cell(OP_ROW,3).text\n",
    "item1_ref = tb.cell(FRIST_ROW,0).text.replace('\\n', '')\n",
    "item1_met = tb.cell(FRIST_ROW,2).text\n",
    "item1_des = tb.cell(FRIST_ROW,9).text\n",
    "item1_qty = tb.cell(FRIST_ROW,15).text\n",
    "\n",
    "item2_op_num = tb.cell(OP_ROW,19).text\n",
    "item2_ref = tb.cell(FRIST_ROW,16).text.replace('\\n', '')\n",
    "item2_met = tb.cell(FRIST_ROW,18).text\n",
    "item2_des = tb.cell(FRIST_ROW,23).text\n",
    "item2_qty = tb.cell(FRIST_ROW,27).text\n",
    "\n",
    "print(item1_op_num, item1_ref, item1_met, item1_des, item1_qty)\n",
    "print(item2_op_num, item2_ref, item2_met, item2_des, item2_qty)"
   ]
  },
  {
   "cell_type": "markdown",
   "id": "5b4997c0",
   "metadata": {},
   "source": [
    "### Find header columns for single"
   ]
  },
  {
   "cell_type": "code",
   "execution_count": null,
   "id": "8191631a",
   "metadata": {
    "scrolled": true
   },
   "outputs": [],
   "source": [
    "tb = doc.tables[8]\n",
    "for idx, _ in enumerate(tb.columns):\n",
    "    cell = tb.cell(header_row, idx)\n",
    "    print(idx, cell.text)\n"
   ]
  },
  {
   "cell_type": "markdown",
   "id": "db539017",
   "metadata": {},
   "source": [
    "### Find header columns for double\n"
   ]
  },
  {
   "cell_type": "code",
   "execution_count": null,
   "id": "65129a1f",
   "metadata": {},
   "outputs": [],
   "source": [
    "tb = doc.tables[8]\n",
    "op_cols = []\n",
    "ref_cols = []\n",
    "item_cols = []\n",
    "des_cols = []\n",
    "qty_cols = []\n",
    "for idx, _ in enumerate(tb.columns):\n",
    "    if 'OP' in tb.cell(OP_ROW, idx).text:\n",
    "        op_cols.append(idx)\n",
    "    if 'Ref.' in tb.cell(HEADER_ROW, idx).text:\n",
    "        ref_cols.append(idx)\n",
    "    if 'Man.Item No.' in tb.cell(HEADER_ROW, idx).text:\n",
    "        item_cols.append(idx)\n",
    "    if 'Description' in tb.cell(HEADER_ROW, idx).text:\n",
    "        des_cols.append(idx)\n",
    "    if 'Qty.' in tb.cell(HEADER_ROW, idx).text:\n",
    "        qty_cols.append(idx)\n",
    "op_cols"
   ]
  },
  {
   "cell_type": "markdown",
   "id": "b7f65555",
   "metadata": {},
   "source": [
    "### list 에서 left 첫번째 col, right 첫번째 col만 남기도록 하자"
   ]
  },
  {
   "cell_type": "code",
   "execution_count": null,
   "id": "ae9b771b",
   "metadata": {
    "scrolled": true
   },
   "outputs": [],
   "source": [
    "left_ref_col = ref_cols[0]\n",
    "left_item_col = item_cols[0]\n",
    "left_des_col = des_cols[0]\n",
    "left_qty_col = qty_cols[0]\n",
    "left_header_cols = {'ref':ref_cols[0],'item':item_cols[0],'des':des_cols[0],'qty':qty_cols[0]}\n",
    "print(left_header_cols['item'])"
   ]
  },
  {
   "cell_type": "code",
   "execution_count": 4,
   "id": "73420617",
   "metadata": {},
   "outputs": [],
   "source": [
    "def getLeftHeaderCols(tb):\n",
    "    op_cols = []\n",
    "    ref_cols = []\n",
    "    item_cols = []\n",
    "    des_cols = []\n",
    "    qty_cols = []\n",
    "    for idx, _ in enumerate(tb.columns):\n",
    "        if 'OP' in tb.cell(OP_ROW, idx).text:\n",
    "            op_cols.append(idx)\n",
    "        if 'Ref.' in tb.cell(HEADER_ROW, idx).text:\n",
    "            ref_cols.append(idx)\n",
    "        if 'Man.Item No.' in tb.cell(HEADER_ROW, idx).text:\n",
    "            item_cols.append(idx)\n",
    "        if 'Description' in tb.cell(HEADER_ROW, idx).text:\n",
    "            des_cols.append(idx)\n",
    "        if 'Qty.' in tb.cell(HEADER_ROW, idx).text:\n",
    "            qty_cols.append(idx)\n",
    "    if ref_cols:\n",
    "        return {'ref':ref_cols[0],'item':item_cols[0],'des':des_cols[0],'qty':qty_cols[0]}"
   ]
  },
  {
   "cell_type": "code",
   "execution_count": null,
   "id": "47fd3dac",
   "metadata": {},
   "outputs": [],
   "source": [
    "left = getLeftHeaderCols(tb)\n",
    "left['qty']"
   ]
  },
  {
   "cell_type": "code",
   "execution_count": null,
   "id": "a99f3054",
   "metadata": {},
   "outputs": [],
   "source": [
    "right_header_cols = {'ref': int ,'item':int,'des':int,'qty':int}\n",
    "right_header_cols['ref'] = ref_cols[2]\n",
    "for col in item_cols:\n",
    "    if col > right_ref_col:\n",
    "        right_header_cols['item'] = col\n",
    "        break\n",
    "for col in des_cols:\n",
    "    if col > right_ref_col:\n",
    "        right_header_cols['des'] = col\n",
    "        break\n",
    "for col in qty_cols:\n",
    "    if col > right_ref_col:\n",
    "        right_header_cols['qty'] = col\n",
    "        break\n",
    "\n",
    "print(right_header_cols['ref'],right_header_cols['item'],right_header_cols['des'],right_header_cols['qty'])"
   ]
  },
  {
   "cell_type": "code",
   "execution_count": 23,
   "id": "7b16a2dc",
   "metadata": {},
   "outputs": [],
   "source": [
    "def getRightHeaderCols(tb):\n",
    "    op_cols = []\n",
    "    ref_cols = []\n",
    "    item_cols = []\n",
    "    des_cols = []\n",
    "    qty_cols = []\n",
    "    for idx, _ in enumerate(tb.columns):\n",
    "        if 'OP' in tb.cell(OP_ROW, idx).text:\n",
    "            op_cols.append(idx)\n",
    "        if 'Ref.' in tb.cell(HEADER_ROW, idx).text:\n",
    "            ref_cols.append(idx)\n",
    "        if 'Man.Item No.' in tb.cell(HEADER_ROW, idx).text:\n",
    "            item_cols.append(idx)\n",
    "        if 'Description' in tb.cell(HEADER_ROW, idx).text:\n",
    "            des_cols.append(idx)\n",
    "        if 'Qty.' in tb.cell(HEADER_ROW, idx).text:\n",
    "            qty_cols.append(idx)\n",
    "            \n",
    "    right_header_cols = {'ref': int ,'item':int,'des':int,'qty':int}\n",
    "    try:\n",
    "        right_header_cols['ref'] = ref_cols[2]\n",
    "        for col in item_cols:\n",
    "            if col > right_header_cols['ref']:\n",
    "                right_header_cols['item'] = col\n",
    "                break\n",
    "        for col in des_cols:\n",
    "            if col > right_header_cols['ref']:\n",
    "                right_header_cols['des'] = col\n",
    "                break\n",
    "        for col in qty_cols:\n",
    "            if col > right_header_cols['ref']:\n",
    "                right_header_cols['qty'] = col\n",
    "                break\n",
    "    except:\n",
    "        pass\n",
    "    return right_header_cols"
   ]
  },
  {
   "cell_type": "code",
   "execution_count": 24,
   "id": "d0beb73e",
   "metadata": {},
   "outputs": [
    {
     "data": {
      "text/plain": [
       "27"
      ]
     },
     "execution_count": 24,
     "metadata": {},
     "output_type": "execute_result"
    }
   ],
   "source": [
    "right = getRightHeaderCols(tb)\n",
    "right['qty']"
   ]
  },
  {
   "cell_type": "markdown",
   "id": "13f30f36",
   "metadata": {},
   "source": [
    "### 같은 Single,Double 이라도 10, 15번 header table의 col이 달라진다. "
   ]
  },
  {
   "cell_type": "code",
   "execution_count": null,
   "id": "c437d196",
   "metadata": {},
   "outputs": [],
   "source": [
    "for idx, _ in enumerate(tb.columns):\n",
    "    cell = tb.cell(header_row, idx)\n",
    "    print(idx, cell.text)"
   ]
  },
  {
   "cell_type": "code",
   "execution_count": null,
   "id": "7a9e36e1",
   "metadata": {},
   "outputs": [],
   "source": [
    "class Point: \n",
    "    def __init__(self, row, col):\n",
    "        self.row = row\n",
    "        self.col = col\n",
    "        \n",
    "    row: int = None\n",
    "    col: int = None\n",
    "        \n",
    "class SOPDataPoints:    \n",
    "    op : Point = None\n",
    "    ref : Point = None    \n",
    "    item_no : Point = None\n",
    "    desciption : Point = None\n",
    "    qty : Point = None   \n",
    "\n",
    "# define first items\n",
    "item = SOPDataPoints()      "
   ]
  },
  {
   "cell_type": "code",
   "execution_count": null,
   "id": "52e5ff00",
   "metadata": {},
   "outputs": [],
   "source": [
    "def GetItemsList(tb, i):\n",
    "    item_no = []\n",
    "    try:\n",
    "        if i < 6 : # left\n",
    "            op = tb.cell(OP_ROW, 3).text\n",
    "            ref = tb.cell(FIRST_ROW + i, left_ref_col).text\n",
    "            item = tb.cell(FIRST_ROW + i, left_item_col).text\n",
    "            des = tb.cell(FIRST_ROW  + i, left_des_col).text\n",
    "            qty = tb.cell(FIRST_ROW + i, left_qrt_col).text\n",
    "\n",
    "        else: # right\n",
    "            op = tb.cell(OP_ROW, 19).text\n",
    "            ref = tb.cell(FIRST_ROW, right_ref_col).text \n",
    "            item = tb.cell(FIRST_ROW + i - 6, right_item_col).text\n",
    "            des = tb.cell(FIRST_ROW  + i - 6, right_des_col).text\n",
    "            qty = tb.cell(FIRST_ROW + i - 6, right_qrt_col).text\n",
    "        item_list = [op, ref, item, des, qty]\n",
    "        return item_list\n",
    "    except:\n",
    "        pass\n"
   ]
  },
  {
   "cell_type": "code",
   "execution_count": 6,
   "id": "40a6e502",
   "metadata": {},
   "outputs": [],
   "source": [
    "def GetLeftItemsList(table):\n",
    "    item = []\n",
    "    items = []\n",
    "    headers = getLeftHeaderCols(tb)\n",
    "    for i,cells in enumerate(table.rows) : # left\n",
    "        op = tb.cell(OP_ROW, 3).text\n",
    "        try:\n",
    "            ref = tb.cell(FIRST_ROW + i, headers['ref']).text\n",
    "            item = tb.cell(FIRST_ROW + i, headers['item']).text\n",
    "            des = tb.cell(FIRST_ROW  + i, headers['des']).text\n",
    "            qty = tb.cell(FIRST_ROW + i, headers['qty']).text\n",
    "        except:\n",
    "            continue\n",
    "        if qty.isnumeric():\n",
    "            item = [op, ref, item, des, qty]\n",
    "            items.append(item)\n",
    "    return items"
   ]
  },
  {
   "cell_type": "code",
   "execution_count": null,
   "id": "b461c6da",
   "metadata": {},
   "outputs": [],
   "source": [
    "tb = doc.tables[10]    \n",
    "items = GetLeftItemsList(tb)\n",
    "for item in items:\n",
    "    print(item[0],item[1],item[2],item[3],item[4])"
   ]
  },
  {
   "cell_type": "code",
   "execution_count": 7,
   "id": "1c5303d1",
   "metadata": {},
   "outputs": [],
   "source": [
    "def GetRightItemsList(table):\n",
    "    item = []\n",
    "    items = []\n",
    "    headers = getRightHeaderCols(tb)\n",
    "    for i,cells in enumerate(table.rows) : # left\n",
    "        op = tb.cell(OP_ROW, 19).text\n",
    "        try:\n",
    "            ref = tb.cell(FIRST_ROW + i, headers['ref']).text.replace('\\n','')\n",
    "            item = tb.cell(FIRST_ROW + i, headers['item']).text\n",
    "            des = tb.cell(FIRST_ROW  + i, headers['des']).text\n",
    "            qty = tb.cell(FIRST_ROW + i, headers['qty']).text\n",
    "        except:\n",
    "            continue\n",
    "        if qty.isnumeric():\n",
    "            item = [op, ref, item, des, qty]\n",
    "            items.append(item)\n",
    "    return items\n"
   ]
  },
  {
   "cell_type": "code",
   "execution_count": null,
   "id": "67db3b76",
   "metadata": {
    "scrolled": true
   },
   "outputs": [],
   "source": [
    "tb = doc.tables[14]    \n",
    "items = GetRightItemsList(tb)\n",
    "for item in items:\n",
    "    print(item[0],item[1],item[2],item[3],item[4])"
   ]
  },
  {
   "cell_type": "code",
   "execution_count": 25,
   "id": "91194fad",
   "metadata": {
    "scrolled": false
   },
   "outputs": [
    {
     "data": {
      "text/html": [
       "<div>\n",
       "<style scoped>\n",
       "    .dataframe tbody tr th:only-of-type {\n",
       "        vertical-align: middle;\n",
       "    }\n",
       "\n",
       "    .dataframe tbody tr th {\n",
       "        vertical-align: top;\n",
       "    }\n",
       "\n",
       "    .dataframe thead th {\n",
       "        text-align: right;\n",
       "    }\n",
       "</style>\n",
       "<table border=\"1\" class=\"dataframe\">\n",
       "  <thead>\n",
       "    <tr style=\"text-align: right;\">\n",
       "      <th></th>\n",
       "      <th>OperationStep</th>\n",
       "      <th>Ref.</th>\n",
       "      <th>Man.Item.No</th>\n",
       "      <th>Description</th>\n",
       "      <th>Qty</th>\n",
       "    </tr>\n",
       "  </thead>\n",
       "  <tbody>\n",
       "    <tr>\n",
       "      <th>0</th>\n",
       "      <td>OP0710</td>\n",
       "      <td></td>\n",
       "      <td>M56400022</td>\n",
       "      <td>DRIP_TRAY_200HP</td>\n",
       "      <td>1</td>\n",
       "    </tr>\n",
       "    <tr>\n",
       "      <th>1</th>\n",
       "      <td>OP0710</td>\n",
       "      <td></td>\n",
       "      <td>218680023</td>\n",
       "      <td>M5X12 POZI HD SEMS</td>\n",
       "      <td>4</td>\n",
       "    </tr>\n",
       "    <tr>\n",
       "      <th>2</th>\n",
       "      <td>OP0720</td>\n",
       "      <td></td>\n",
       "      <td>M66930018</td>\n",
       "      <td>SIDE PANEL 901MM LG</td>\n",
       "      <td>2</td>\n",
       "    </tr>\n",
       "    <tr>\n",
       "      <th>3</th>\n",
       "      <td>OP0720</td>\n",
       "      <td>1820</td>\n",
       "      <td>M66930020</td>\n",
       "      <td>TOP PANEL 1820 ASSY</td>\n",
       "      <td>1</td>\n",
       "    </tr>\n",
       "    <tr>\n",
       "      <th>4</th>\n",
       "      <td>OP0720</td>\n",
       "      <td>1220</td>\n",
       "      <td>M66920020</td>\n",
       "      <td>TOP PANEL 1220 ASSY</td>\n",
       "      <td>1</td>\n",
       "    </tr>\n",
       "    <tr>\n",
       "      <th>5</th>\n",
       "      <td>OP0720</td>\n",
       "      <td></td>\n",
       "      <td>218680023</td>\n",
       "      <td>M5X12 POZI HD SEMS</td>\n",
       "      <td>20</td>\n",
       "    </tr>\n",
       "  </tbody>\n",
       "</table>\n",
       "</div>"
      ],
      "text/plain": [
       "  OperationStep  Ref. Man.Item.No          Description Qty\n",
       "0        OP0710         M56400022      DRIP_TRAY_200HP   1\n",
       "1        OP0710         218680023   M5X12 POZI HD SEMS   4\n",
       "2        OP0720         M66930018  SIDE PANEL 901MM LG   2\n",
       "3        OP0720  1820   M66930020  TOP PANEL 1820 ASSY   1\n",
       "4        OP0720  1220   M66920020  TOP PANEL 1220 ASSY   1\n",
       "5        OP0720         218680023   M5X12 POZI HD SEMS  20"
      ]
     },
     "execution_count": 25,
     "metadata": {},
     "output_type": "execute_result"
    }
   ],
   "source": [
    "df = pd.DataFrame(columns=['OperationStep','Ref.','Man.Item.No','Description','Qty'])\n",
    "tb = doc.tables[70]\n",
    "\n",
    "if tb:\n",
    "    lefts = GetLeftItemsList(tb)\n",
    "    rights = GetRightItemsList(tb)\n",
    "    for left in lefts:\n",
    "        df.loc[len(df)] = left;\n",
    "    for right in rights:    \n",
    "        df.loc[len(df)] = right; \n",
    "df"
   ]
  },
  {
   "cell_type": "code",
   "execution_count": null,
   "id": "f5d06c10",
   "metadata": {},
   "outputs": [],
   "source": [
    "df = pd.DataFrame(columns=['OperationStep','Ref.','Man.Item.No','Description','Qty'])\n",
    "for tb in doc.tables:\n",
    "if tb:\n",
    "    lefts = GetLeftItemsList(tb)\n",
    "    rights = GetRightItemsList(tb)\n",
    "    for left in lefts:\n",
    "        df.loc[len(df)] = left;\n",
    "    for right in rights:    \n",
    "        df.loc[len(df)] = right; \n",
    "df"
   ]
  },
  {
   "cell_type": "code",
   "execution_count": 27,
   "id": "380725a6",
   "metadata": {},
   "outputs": [
    {
     "data": {
      "text/html": [
       "<div>\n",
       "<style scoped>\n",
       "    .dataframe tbody tr th:only-of-type {\n",
       "        vertical-align: middle;\n",
       "    }\n",
       "\n",
       "    .dataframe tbody tr th {\n",
       "        vertical-align: top;\n",
       "    }\n",
       "\n",
       "    .dataframe thead th {\n",
       "        text-align: right;\n",
       "    }\n",
       "</style>\n",
       "<table border=\"1\" class=\"dataframe\">\n",
       "  <thead>\n",
       "    <tr style=\"text-align: right;\">\n",
       "      <th></th>\n",
       "      <th>OperationStep</th>\n",
       "      <th>Ref.</th>\n",
       "      <th>Man.Item.No</th>\n",
       "      <th>Description</th>\n",
       "      <th>Qty</th>\n",
       "    </tr>\n",
       "  </thead>\n",
       "  <tbody>\n",
       "    <tr>\n",
       "      <th>0</th>\n",
       "      <td>OP0003</td>\n",
       "      <td></td>\n",
       "      <td>M61920054</td>\n",
       "      <td>PIPE ASSY - LOWER HEATSINK</td>\n",
       "      <td>1</td>\n",
       "    </tr>\n",
       "    <tr>\n",
       "      <th>1</th>\n",
       "      <td>OP0003</td>\n",
       "      <td></td>\n",
       "      <td>M61920052</td>\n",
       "      <td>PIPE ASSY - LWR STATOR COOLING</td>\n",
       "      <td>1</td>\n",
       "    </tr>\n",
       "    <tr>\n",
       "      <th>2</th>\n",
       "      <td>OP0003</td>\n",
       "      <td></td>\n",
       "      <td>M61920056</td>\n",
       "      <td>PPE ASSY - UPPER HEATSINK</td>\n",
       "      <td>1</td>\n",
       "    </tr>\n",
       "    <tr>\n",
       "      <th>3</th>\n",
       "      <td>OP0003</td>\n",
       "      <td></td>\n",
       "      <td>M61920058</td>\n",
       "      <td>PIPE ASSY - 3RD STATOR UPPER HS</td>\n",
       "      <td>1</td>\n",
       "    </tr>\n",
       "    <tr>\n",
       "      <th>4</th>\n",
       "      <td>OP0003</td>\n",
       "      <td></td>\n",
       "      <td>M56451036</td>\n",
       "      <td>SINGLE COOLING BLOK SWG</td>\n",
       "      <td>1</td>\n",
       "    </tr>\n",
       "    <tr>\n",
       "      <th>...</th>\n",
       "      <td>...</td>\n",
       "      <td>...</td>\n",
       "      <td>...</td>\n",
       "      <td>...</td>\n",
       "      <td>...</td>\n",
       "    </tr>\n",
       "    <tr>\n",
       "      <th>354</th>\n",
       "      <td>OP0720</td>\n",
       "      <td></td>\n",
       "      <td>M66930018</td>\n",
       "      <td>SIDE PANEL 901MM LG</td>\n",
       "      <td>2</td>\n",
       "    </tr>\n",
       "    <tr>\n",
       "      <th>355</th>\n",
       "      <td>OP0720</td>\n",
       "      <td>1820</td>\n",
       "      <td>M66930020</td>\n",
       "      <td>TOP PANEL 1820 ASSY</td>\n",
       "      <td>1</td>\n",
       "    </tr>\n",
       "    <tr>\n",
       "      <th>356</th>\n",
       "      <td>OP0720</td>\n",
       "      <td>1220</td>\n",
       "      <td>M66920020</td>\n",
       "      <td>TOP PANEL 1220 ASSY</td>\n",
       "      <td>1</td>\n",
       "    </tr>\n",
       "    <tr>\n",
       "      <th>357</th>\n",
       "      <td>OP0720</td>\n",
       "      <td></td>\n",
       "      <td>218680023</td>\n",
       "      <td>M5X12 POZI HD SEMS</td>\n",
       "      <td>20</td>\n",
       "    </tr>\n",
       "    <tr>\n",
       "      <th>358</th>\n",
       "      <td>OP0770</td>\n",
       "      <td></td>\n",
       "      <td>A20007139</td>\n",
       "      <td>LABEL - XCEDE LOGO</td>\n",
       "      <td>1</td>\n",
       "    </tr>\n",
       "  </tbody>\n",
       "</table>\n",
       "<p>359 rows × 5 columns</p>\n",
       "</div>"
      ],
      "text/plain": [
       "    OperationStep  Ref. Man.Item.No                      Description Qty\n",
       "0          OP0003         M61920054       PIPE ASSY - LOWER HEATSINK   1\n",
       "1          OP0003         M61920052   PIPE ASSY - LWR STATOR COOLING   1\n",
       "2          OP0003         M61920056        PPE ASSY - UPPER HEATSINK   1\n",
       "3          OP0003         M61920058  PIPE ASSY - 3RD STATOR UPPER HS   1\n",
       "4          OP0003         M56451036          SINGLE COOLING BLOK SWG   1\n",
       "..            ...   ...         ...                              ...  ..\n",
       "354        OP0720         M66930018              SIDE PANEL 901MM LG   2\n",
       "355        OP0720  1820   M66930020              TOP PANEL 1820 ASSY   1\n",
       "356        OP0720  1220   M66920020              TOP PANEL 1220 ASSY   1\n",
       "357        OP0720         218680023               M5X12 POZI HD SEMS  20\n",
       "358        OP0770         A20007139               LABEL - XCEDE LOGO   1\n",
       "\n",
       "[359 rows x 5 columns]"
      ]
     },
     "execution_count": 27,
     "metadata": {},
     "output_type": "execute_result"
    }
   ],
   "source": [
    "df"
   ]
  },
  {
   "cell_type": "code",
   "execution_count": 28,
   "id": "97a351da",
   "metadata": {},
   "outputs": [],
   "source": [
    "f_name = 'sop_docx.csv'\n",
    "df.to_csv(f_name,encoding='utf-8-sig', index=False, mode='w', header=True)"
   ]
  }
 ],
 "metadata": {
  "kernelspec": {
   "display_name": "Python 3 (ipykernel)",
   "language": "python",
   "name": "python3"
  },
  "language_info": {
   "codemirror_mode": {
    "name": "ipython",
    "version": 3
   },
   "file_extension": ".py",
   "mimetype": "text/x-python",
   "name": "python",
   "nbconvert_exporter": "python",
   "pygments_lexer": "ipython3",
   "version": "3.9.12"
  }
 },
 "nbformat": 4,
 "nbformat_minor": 5
}
