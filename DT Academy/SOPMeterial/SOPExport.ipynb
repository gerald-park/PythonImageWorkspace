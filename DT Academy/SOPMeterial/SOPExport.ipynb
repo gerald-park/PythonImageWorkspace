{
 "cells": [
  {
   "cell_type": "code",
   "execution_count": 1,
   "id": "98e6429f",
   "metadata": {},
   "outputs": [],
   "source": [
    "from pptx import Presentation\n",
    "import pandas as pd\n",
    "prs = Presentation('sop2.pptx')"
   ]
  },
  {
   "cell_type": "code",
   "execution_count": 2,
   "id": "41180969",
   "metadata": {},
   "outputs": [],
   "source": [
    "class Point: \n",
    "    def __init__(self, row, col):\n",
    "        self.row = row\n",
    "        self.col = col\n",
    "        \n",
    "    row: int = None\n",
    "    col: int = None\n",
    "        \n",
    "class SOPDataPoints:    \n",
    "    op_num : Point = None\n",
    "    item_no : Point = None\n",
    "    desciption : Point = None\n",
    "    qty : Point = None   \n",
    "\n",
    "# define first items\n",
    "item = SOPDataPoints()\n",
    "item.op_num = Point(1,3)\n",
    "item.item_no = Point(3,3)\n",
    "item.desciption = Point(3,9)\n",
    "item.qty = Point(3,13)"
   ]
  },
  {
   "cell_type": "code",
   "execution_count": 3,
   "id": "f67ff9c1",
   "metadata": {},
   "outputs": [],
   "source": [
    "def getTablesInSlide(prs, sld_no):\n",
    "    slide_layout = prs.slide_layouts[0]\n",
    "    shapes = slide_layout.shapes\n",
    "    slide = prs.slides[sld_no]\n",
    "    if slide.shapes[0].has_table:\n",
    "        return slide.shapes[0].table"
   ]
  },
  {
   "cell_type": "code",
   "execution_count": 4,
   "id": "f15e24d5",
   "metadata": {},
   "outputs": [],
   "source": [
    "def getTextInRowCol(tb, row, col) : \n",
    "    text = ''\n",
    "    if not tb.cell(row,col):\n",
    "        pass\n",
    "    else :\n",
    "        for paragraph in tb.cell(row,col).text_frame.paragraphs:\n",
    "            for run in paragraph.runs:\n",
    "                text += run.text \n",
    "    return text"
   ]
  },
  {
   "cell_type": "code",
   "execution_count": 11,
   "id": "d46d9a4c",
   "metadata": {},
   "outputs": [],
   "source": [
    "def GetItemsList(tbl, cells, i):\n",
    "    item_no = []\n",
    "    try:\n",
    "        if i < 6 : # left\n",
    "            op_num = getTextInRowCol(tb, cells.op_num.row, cells.op_num.col)\n",
    "            item_no = getTextInRowCol(tb, cells.item_no.row + i, cells.item_no.col)\n",
    "            des = getTextInRowCol(tb, cells.desciption.row  + i, cells.desciption.col )\n",
    "            qty = getTextInRowCol(tb, cells.qty.row + i, cells.qty.col)\n",
    "\n",
    "        else: # right\n",
    "            op_num = getTextInRowCol(tb,cells.op_num.row, cells.op_num.col)\n",
    "            item_no = getTextInRowCol(tb,cells.item_no.row + i - 6, cells.item_no.col + 12)\n",
    "            des = getTextInRowCol(tb,cells.desciption.row  + i - 6, cells.desciption.col + 9)\n",
    "            qty = getTextInRowCol(tb,cells.qty.row + i - 6, cells.qty.col + 8)\n",
    "        item_list = [op_num, item_no, des, qty]   \n",
    "        return item_list\n",
    "    except:\n",
    "        pass     "
   ]
  },
  {
   "cell_type": "code",
   "execution_count": 13,
   "id": "01c75418",
   "metadata": {},
   "outputs": [
    {
     "name": "stdout",
     "output_type": "stream",
     "text": [
      "out of range\n"
     ]
    },
    {
     "name": "stderr",
     "output_type": "stream",
     "text": [
      "C:\\Users\\ParkGY\\AppData\\Local\\Temp\\ipykernel_23268\\4116608936.py:11: FutureWarning: The default dtype for empty Series will be 'object' instead of 'float64' in a future version. Specify a dtype explicitly to silence this warning.\n",
      "  df.loc[len(df.index)] = it\n",
      "C:\\Users\\ParkGY\\AppData\\Local\\Temp\\ipykernel_23268\\4116608936.py:11: FutureWarning: The default dtype for empty Series will be 'object' instead of 'float64' in a future version. Specify a dtype explicitly to silence this warning.\n",
      "  df.loc[len(df.index)] = it\n",
      "C:\\Users\\ParkGY\\AppData\\Local\\Temp\\ipykernel_23268\\4116608936.py:11: FutureWarning: The default dtype for empty Series will be 'object' instead of 'float64' in a future version. Specify a dtype explicitly to silence this warning.\n",
      "  df.loc[len(df.index)] = it\n",
      "C:\\Users\\ParkGY\\AppData\\Local\\Temp\\ipykernel_23268\\4116608936.py:11: FutureWarning: The default dtype for empty Series will be 'object' instead of 'float64' in a future version. Specify a dtype explicitly to silence this warning.\n",
      "  df.loc[len(df.index)] = it\n",
      "C:\\Users\\ParkGY\\AppData\\Local\\Temp\\ipykernel_23268\\4116608936.py:11: FutureWarning: The default dtype for empty Series will be 'object' instead of 'float64' in a future version. Specify a dtype explicitly to silence this warning.\n",
      "  df.loc[len(df.index)] = it\n",
      "C:\\Users\\ParkGY\\AppData\\Local\\Temp\\ipykernel_23268\\4116608936.py:11: FutureWarning: The default dtype for empty Series will be 'object' instead of 'float64' in a future version. Specify a dtype explicitly to silence this warning.\n",
      "  df.loc[len(df.index)] = it\n",
      "C:\\Users\\ParkGY\\AppData\\Local\\Temp\\ipykernel_23268\\4116608936.py:11: FutureWarning: The default dtype for empty Series will be 'object' instead of 'float64' in a future version. Specify a dtype explicitly to silence this warning.\n",
      "  df.loc[len(df.index)] = it\n",
      "C:\\Users\\ParkGY\\AppData\\Local\\Temp\\ipykernel_23268\\4116608936.py:11: FutureWarning: The default dtype for empty Series will be 'object' instead of 'float64' in a future version. Specify a dtype explicitly to silence this warning.\n",
      "  df.loc[len(df.index)] = it\n",
      "C:\\Users\\ParkGY\\AppData\\Local\\Temp\\ipykernel_23268\\4116608936.py:11: FutureWarning: The default dtype for empty Series will be 'object' instead of 'float64' in a future version. Specify a dtype explicitly to silence this warning.\n",
      "  df.loc[len(df.index)] = it\n",
      "C:\\Users\\ParkGY\\AppData\\Local\\Temp\\ipykernel_23268\\4116608936.py:11: FutureWarning: The default dtype for empty Series will be 'object' instead of 'float64' in a future version. Specify a dtype explicitly to silence this warning.\n",
      "  df.loc[len(df.index)] = it\n",
      "C:\\Users\\ParkGY\\AppData\\Local\\Temp\\ipykernel_23268\\4116608936.py:11: FutureWarning: The default dtype for empty Series will be 'object' instead of 'float64' in a future version. Specify a dtype explicitly to silence this warning.\n",
      "  df.loc[len(df.index)] = it\n",
      "C:\\Users\\ParkGY\\AppData\\Local\\Temp\\ipykernel_23268\\4116608936.py:11: FutureWarning: The default dtype for empty Series will be 'object' instead of 'float64' in a future version. Specify a dtype explicitly to silence this warning.\n",
      "  df.loc[len(df.index)] = it\n"
     ]
    },
    {
     "name": "stdout",
     "output_type": "stream",
     "text": [
      "out of range\n",
      "out of range\n",
      "out of range\n",
      "out of range\n",
      "out of range\n",
      "out of range\n",
      "out of range\n",
      "out of range\n",
      "out of range\n",
      "out of range\n",
      "out of range\n"
     ]
    }
   ],
   "source": [
    "df = pd.DataFrame(columns=['OperationStep','Man.Item.No','Description','Qty'])\n",
    "for sld_no in range(0, len(prs.slides)):\n",
    "    tb = getTablesInSlide(prs, sld_no)\n",
    "    if not tb:\n",
    "        continue\n",
    "    for i in range(0, 12):\n",
    "        it = GetItemsList(tb,item, i)\n",
    "        if it and not it[3].isnumeric():\n",
    "            continue\n",
    "        else:\n",
    "            df.loc[len(df.index)] = it"
   ]
  },
  {
   "cell_type": "code",
   "execution_count": 17,
   "id": "51d492b1",
   "metadata": {
    "scrolled": true
   },
   "outputs": [
    {
     "data": {
      "text/html": [
       "<div>\n",
       "<style scoped>\n",
       "    .dataframe tbody tr th:only-of-type {\n",
       "        vertical-align: middle;\n",
       "    }\n",
       "\n",
       "    .dataframe tbody tr th {\n",
       "        vertical-align: top;\n",
       "    }\n",
       "\n",
       "    .dataframe thead th {\n",
       "        text-align: right;\n",
       "    }\n",
       "</style>\n",
       "<table border=\"1\" class=\"dataframe\">\n",
       "  <thead>\n",
       "    <tr style=\"text-align: right;\">\n",
       "      <th></th>\n",
       "      <th>OperationStep</th>\n",
       "      <th>Man.Item.No</th>\n",
       "      <th>Description</th>\n",
       "      <th>Qty</th>\n",
       "    </tr>\n",
       "  </thead>\n",
       "  <tbody>\n",
       "    <tr>\n",
       "      <th>0</th>\n",
       "      <td>OP0010</td>\n",
       "      <td>IE0123064</td>\n",
       "      <td>EXHAUST PURGE LINE</td>\n",
       "      <td>1</td>\n",
       "    </tr>\n",
       "    <tr>\n",
       "      <th>1</th>\n",
       "      <td>OP0010</td>\n",
       "      <td>IE0123173</td>\n",
       "      <td>PLUG FOR PORT ½ TUBE</td>\n",
       "      <td>1</td>\n",
       "    </tr>\n",
       "    <tr>\n",
       "      <th>2</th>\n",
       "      <td>OP0020</td>\n",
       "      <td>IE0123064</td>\n",
       "      <td>EXHAUST PURGE LINE</td>\n",
       "      <td>1</td>\n",
       "    </tr>\n",
       "    <tr>\n",
       "      <th>3</th>\n",
       "      <td>OP0030</td>\n",
       "      <td>IE0123091</td>\n",
       "      <td>EXHAUST PURGE LINE ASSY</td>\n",
       "      <td>1</td>\n",
       "    </tr>\n",
       "    <tr>\n",
       "      <th>4</th>\n",
       "      <td>OP0030</td>\n",
       "      <td>IE0123272</td>\n",
       "      <td>N2 FRAME MOUNT ASSY</td>\n",
       "      <td>1</td>\n",
       "    </tr>\n",
       "    <tr>\n",
       "      <th>...</th>\n",
       "      <td>...</td>\n",
       "      <td>...</td>\n",
       "      <td>...</td>\n",
       "      <td>...</td>\n",
       "    </tr>\n",
       "    <tr>\n",
       "      <th>405</th>\n",
       "      <td>OP0950</td>\n",
       "      <td>C10512501</td>\n",
       "      <td>NW10/16 CLAMPING RING S/S</td>\n",
       "      <td>24</td>\n",
       "    </tr>\n",
       "    <tr>\n",
       "      <th>406</th>\n",
       "      <td>OP0950</td>\n",
       "      <td>C10512490</td>\n",
       "      <td>NW10/16 TRAPPED O RING</td>\n",
       "      <td>24</td>\n",
       "    </tr>\n",
       "    <tr>\n",
       "      <th>407</th>\n",
       "      <td>OP0950</td>\n",
       "      <td>IE0113474</td>\n",
       "      <td>LOAD LOCK TRANSDUCER</td>\n",
       "      <td>6</td>\n",
       "    </tr>\n",
       "    <tr>\n",
       "      <th>408</th>\n",
       "      <td>OP0950</td>\n",
       "      <td>IE0114222</td>\n",
       "      <td>NW16 HOT SWAP T PORT</td>\n",
       "      <td>6</td>\n",
       "    </tr>\n",
       "    <tr>\n",
       "      <th>409</th>\n",
       "      <td>OP0950</td>\n",
       "      <td>C33255000</td>\n",
       "      <td>SPEEDIVALVE SP16L VITON LIGHT</td>\n",
       "      <td>6</td>\n",
       "    </tr>\n",
       "  </tbody>\n",
       "</table>\n",
       "<p>410 rows × 4 columns</p>\n",
       "</div>"
      ],
      "text/plain": [
       "    OperationStep Man.Item.No                    Description Qty\n",
       "0          OP0010   IE0123064             EXHAUST PURGE LINE   1\n",
       "1          OP0010   IE0123173           PLUG FOR PORT ½ TUBE   1\n",
       "2          OP0020   IE0123064             EXHAUST PURGE LINE   1\n",
       "3          OP0030   IE0123091        EXHAUST PURGE LINE ASSY   1\n",
       "4          OP0030   IE0123272            N2 FRAME MOUNT ASSY   1\n",
       "..            ...         ...                            ...  ..\n",
       "405        OP0950   C10512501      NW10/16 CLAMPING RING S/S  24\n",
       "406        OP0950   C10512490         NW10/16 TRAPPED O RING  24\n",
       "407        OP0950   IE0113474           LOAD LOCK TRANSDUCER   6\n",
       "408        OP0950   IE0114222           NW16 HOT SWAP T PORT   6\n",
       "409        OP0950   C33255000  SPEEDIVALVE SP16L VITON LIGHT   6\n",
       "\n",
       "[410 rows x 4 columns]"
      ]
     },
     "execution_count": 17,
     "metadata": {},
     "output_type": "execute_result"
    }
   ],
   "source": [
    "df"
   ]
  },
  {
   "cell_type": "code",
   "execution_count": 18,
   "id": "031d2a7c",
   "metadata": {},
   "outputs": [],
   "source": [
    "f_name = 'sop_material.csv'\n",
    "df.to_csv(f_name,encoding='utf-8-sig', index=False, mode='w', header=True)"
   ]
  },
  {
   "cell_type": "code",
   "execution_count": 16,
   "id": "4cf3d763",
   "metadata": {},
   "outputs": [
    {
     "name": "stdout",
     "output_type": "stream",
     "text": [
      "out of range\n"
     ]
    },
    {
     "ename": "TypeError",
     "evalue": "'NoneType' object is not subscriptable",
     "output_type": "error",
     "traceback": [
      "\u001b[1;31m---------------------------------------------------------------------------\u001b[0m",
      "\u001b[1;31mTypeError\u001b[0m                                 Traceback (most recent call last)",
      "Input \u001b[1;32mIn [16]\u001b[0m, in \u001b[0;36m<cell line: 3>\u001b[1;34m()\u001b[0m\n\u001b[0;32m      1\u001b[0m tb \u001b[38;5;241m=\u001b[39m getTablesInSlide(prs, \u001b[38;5;241m67\u001b[39m)\n\u001b[0;32m      2\u001b[0m it \u001b[38;5;241m=\u001b[39m GetItemsList(tb, item, \u001b[38;5;241m6\u001b[39m)\n\u001b[1;32m----> 3\u001b[0m \u001b[43mit\u001b[49m\u001b[43m[\u001b[49m\u001b[38;5;241;43m3\u001b[39;49m\u001b[43m]\u001b[49m\n",
      "\u001b[1;31mTypeError\u001b[0m: 'NoneType' object is not subscriptable"
     ]
    }
   ],
   "source": [
    "tb = getTablesInSlide(prs, 67)\n",
    "it = GetItemsList(tb, item, 6)\n",
    "it[3]"
   ]
  }
 ],
 "metadata": {
  "kernelspec": {
   "display_name": "Python 3 (ipykernel)",
   "language": "python",
   "name": "python3"
  },
  "language_info": {
   "codemirror_mode": {
    "name": "ipython",
    "version": 3
   },
   "file_extension": ".py",
   "mimetype": "text/x-python",
   "name": "python",
   "nbconvert_exporter": "python",
   "pygments_lexer": "ipython3",
   "version": "3.9.12"
  }
 },
 "nbformat": 4,
 "nbformat_minor": 5
}
