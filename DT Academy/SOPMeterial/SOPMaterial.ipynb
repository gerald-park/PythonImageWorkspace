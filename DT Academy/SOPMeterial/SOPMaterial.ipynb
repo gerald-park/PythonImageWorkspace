{
 "cells": [
  {
   "cell_type": "code",
   "execution_count": 1,
   "id": "5440027f",
   "metadata": {},
   "outputs": [],
   "source": [
    "from openpyxl import Workbook\n",
    "import pyperclip\n",
    "import pyautogui"
   ]
  },
  {
   "cell_type": "code",
   "execution_count": 2,
   "id": "f09ec99b",
   "metadata": {},
   "outputs": [],
   "source": [
    "pyautogui.mouseInfo()"
   ]
  },
  {
   "cell_type": "code",
   "execution_count": 3,
   "id": "b6e508a4",
   "metadata": {},
   "outputs": [],
   "source": [
    "operationStep_xy = (1526,279)\n",
    "itemNumber_xy = (892,337)\n",
    "description_xy = (1256,339)\n",
    "qty_xy = (1434,337)"
   ]
  },
  {
   "cell_type": "code",
   "execution_count": 5,
   "id": "829bf30e",
   "metadata": {},
   "outputs": [],
   "source": [
    "pyautogui.moveTo(operationStep_xy)\n",
    "pyautogui.sleep(0.5)\n",
    "pyautogui.click()\n",
    "pyautogui.sleep(0.5)\n",
    "pyautogui.click()\n",
    "pyautogui.hotkey(\"home\")\n",
    "pyautogui.sleep(0.5)\n",
    "pyautogui.keyDown(\"shiftleft\")\n",
    "pyautogui.keyDown(\"end\")\n",
    "pyautogui.sleep(0.5)\n",
    "pyautogui.keyUp(\"end\")\n",
    "pyautogui.keyUp(\"shiftleft\")"
   ]
  }
 ],
 "metadata": {
  "kernelspec": {
   "display_name": "Python 3 (ipykernel)",
   "language": "python",
   "name": "python3"
  },
  "language_info": {
   "codemirror_mode": {
    "name": "ipython",
    "version": 3
   },
   "file_extension": ".py",
   "mimetype": "text/x-python",
   "name": "python",
   "nbconvert_exporter": "python",
   "pygments_lexer": "ipython3",
   "version": "3.9.12"
  }
 },
 "nbformat": 4,
 "nbformat_minor": 5
}
