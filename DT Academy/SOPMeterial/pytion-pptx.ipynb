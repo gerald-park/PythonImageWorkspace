{
 "cells": [
  {
   "cell_type": "code",
   "execution_count": 1,
   "id": "80d3d627",
   "metadata": {},
   "outputs": [],
   "source": [
    "from pptx import Presentation\n",
    "import pandas as pd"
   ]
  },
  {
   "cell_type": "markdown",
   "id": "0221cccb",
   "metadata": {},
   "source": [
    "https://python-pptx.readthedocs.io/en/latest/index.html"
   ]
  },
  {
   "cell_type": "code",
   "execution_count": 2,
   "id": "38da7115",
   "metadata": {},
   "outputs": [
    {
     "data": {
      "text/plain": [
       "<pptx.presentation.Presentation at 0x1915c881f10>"
      ]
     },
     "execution_count": 2,
     "metadata": {},
     "output_type": "execute_result"
    }
   ],
   "source": [
    "prs = Presentation('C:/Users/ParkGY/Documents/CFLTYanadoo/DT Academy/SOPMeterial/new.sop.pptx')\n",
    "prs"
   ]
  },
  {
   "cell_type": "code",
   "execution_count": 3,
   "id": "07374a38",
   "metadata": {},
   "outputs": [
    {
     "data": {
      "text/plain": [
       "11"
      ]
     },
     "execution_count": 3,
     "metadata": {},
     "output_type": "execute_result"
    }
   ],
   "source": [
    "len(prs.slide_layouts)"
   ]
  },
  {
   "cell_type": "code",
   "execution_count": null,
   "id": "eea41496",
   "metadata": {},
   "outputs": [],
   "source": [
    "slide_layouts = prs.slide_layouts\n",
    "shapes = slide_layout.shapes\n",
    "len(shapes)"
   ]
  },
  {
   "cell_type": "markdown",
   "id": "563015d0",
   "metadata": {},
   "source": [
    "### Extract all text from slides in presentation"
   ]
  },
  {
   "cell_type": "code",
   "execution_count": null,
   "id": "43c6852f",
   "metadata": {
    "scrolled": false
   },
   "outputs": [],
   "source": [
    "# text_runs will be populated with a list of strings,\n",
    "# one for each text run in presentation\n",
    "text_runs = []\n",
    "\n",
    "for slide in prs.slides:\n",
    "    for shape in slide.shapes:\n",
    "        if not shape.has_text_frame:\n",
    "            continue\n",
    "        for paragraph in shape.text_frame.paragraphs:\n",
    "            for run in paragraph.runs:\n",
    "                text_runs.append(run.text)\n",
    "text_runs"
   ]
  },
  {
   "cell_type": "code",
   "execution_count": 4,
   "id": "33dc2b28",
   "metadata": {},
   "outputs": [
    {
     "data": {
      "text/plain": [
       "93"
      ]
     },
     "execution_count": 4,
     "metadata": {},
     "output_type": "execute_result"
    }
   ],
   "source": [
    "len(prs.slides)"
   ]
  },
  {
   "cell_type": "code",
   "execution_count": 5,
   "id": "c3310cac",
   "metadata": {},
   "outputs": [
    {
     "data": {
      "text/plain": [
       "22"
      ]
     },
     "execution_count": 5,
     "metadata": {},
     "output_type": "execute_result"
    }
   ],
   "source": [
    "slide = prs.slides[0]\n",
    "len(slide.shapes)"
   ]
  },
  {
   "cell_type": "code",
   "execution_count": 11,
   "id": "5ecc03d8",
   "metadata": {},
   "outputs": [
    {
     "data": {
      "text/plain": [
       "True"
      ]
     },
     "execution_count": 11,
     "metadata": {},
     "output_type": "execute_result"
    }
   ],
   "source": [
    "shape = slide.shapes[0]\n",
    "shape.has_table"
   ]
  },
  {
   "cell_type": "code",
   "execution_count": 17,
   "id": "744c1c48",
   "metadata": {},
   "outputs": [],
   "source": [
    "table = shape.table"
   ]
  },
  {
   "cell_type": "code",
   "execution_count": 41,
   "id": "a6cf2913",
   "metadata": {
    "scrolled": true
   },
   "outputs": [
    {
     "data": {
      "text/plain": [
       "'S'"
      ]
     },
     "execution_count": 41,
     "metadata": {},
     "output_type": "execute_result"
    }
   ],
   "source": [
    "table.cell(1,1).text_frame.paragraphs[0].runs[0].text"
   ]
  },
  {
   "cell_type": "code",
   "execution_count": 48,
   "id": "c0b8d37b",
   "metadata": {},
   "outputs": [
    {
     "data": {
      "text/plain": [
       "9"
      ]
     },
     "execution_count": 48,
     "metadata": {},
     "output_type": "execute_result"
    }
   ],
   "source": [
    "rows=len(table.rows)\n",
    "rows=len(table.rows)"
   ]
  },
  {
   "cell_type": "code",
   "execution_count": 6,
   "id": "437c23e2",
   "metadata": {
    "scrolled": true
   },
   "outputs": [
    {
     "name": "stdout",
     "output_type": "stream",
     "text": [
      "1 0 M\n",
      "2 0 Ref.\n",
      "7 0 Instruction:\n",
      "7 0 그림과 같이 \n",
      "7 0 Top plate \n",
      "7 0 assy\n",
      "7 0 를 \n",
      "7 0 6\n",
      "7 0 개 만드세요\n",
      "7 0 . \n",
      "7 0 모든 \n",
      "7 0 pump slice\n",
      "7 0 에 동일하게 조립되니 참고하세요\n",
      "7 0 .\n",
      "7 0 (Assemble 6EA Top plate \n",
      "7 0 asyy\n",
      "7 0 ’ as shown in the right picture. \n",
      "7 0 Assy\n",
      "7 0  \n",
      "7 0 parts will be assembled to all pump slices.\n",
      "7 0 ) \n",
      "7 0 Top plate\n",
      "7 0 에는 방향성이 있으니\n",
      "7 0 , \n",
      "7 0 방향을 확인하고 조립하세요\n",
      "7 0 .\n",
      "7 0 (Check the top plate’s direction and assemble it.)\n",
      "8 0 Page\n",
      "1 1 S\n",
      "8 2 200\n",
      "1 3 OP0200\n",
      "2 3 Man.Item No.\n",
      "3 3 IE0113107\n",
      "4 3 218181452\n",
      "5 3 218983511\n",
      "8 4 Issue\n",
      "8 6 01\n",
      "0 7 c\n",
      "2 7 Ser.Item No.\n",
      "0 8 SOP NO.\n",
      "2 9 Description\n",
      "3 9 L BRACKET\n",
      "4 9 SCREW\n",
      "4 9  \n",
      "4 9 HX SS M10 * 25\n",
      "5 9 WSHR S-COIL M10 SS\n",
      "2 10 Description\n",
      "3 10 ISO250-200 MANIFOLD TEE\n",
      "4 10 ISO250 TRAPPED O-RING VITON\n",
      "5 10 ISO250 TRAPPED O-RING VITON\n",
      "8 10 Approved\n",
      "2 12 Qty\n",
      "2 13 Qty\n",
      "3 13 12\n",
      "4 13 30\n",
      "5 13 30\n",
      "0 14 Title:\n",
      "2 14 Ref.\n",
      "0 15 G3_EUV END USER PUMP MODULE\n",
      "2 15 Man.Item No.\n",
      "3 15 218980211\n",
      "4 15 IE0113106\n",
      "2 17 Ser.Item No.\n",
      "2 18 Description\n",
      "3 18 WSHR FORM B M10 MS NI\n",
      "4 18 ISO200 TOP PLATE\n",
      "2 19 Description\n",
      "8 19 SOP TEMPLATE – SINGLE LANDSCAPE v5.doc\n",
      "2 21 Qty\n",
      "3 21 30\n",
      "4 21 6\n"
     ]
    }
   ],
   "source": [
    "slide = prs.slides[19]\n",
    "table = slide.shapes[0].table\n",
    "\n",
    "for col in range(0,len(table.columns)):\n",
    "    for row in range(0,len(table.rows)):\n",
    "        for paragraph in table.cell(row,col).text_frame.paragraphs:\n",
    "            for run in paragraph.runs:\n",
    "                print(row,col,run.text)"
   ]
  },
  {
   "cell_type": "code",
   "execution_count": 22,
   "id": "2da3a139",
   "metadata": {
    "scrolled": true
   },
   "outputs": [
    {
     "name": "stdout",
     "output_type": "stream",
     "text": [
      "SCREW\n",
      " \n",
      "HX SS M10 * 25\n",
      "SCREW HX SS M10 * 25\n"
     ]
    }
   ],
   "source": [
    "op_num = ''\n",
    "for paragraph in table.cell(4,9).text_frame.paragraphs:\n",
    "    for run in paragraph.runs:\n",
    "        print(run.text)\n",
    "        op_num += run.text \n",
    "        "
   ]
  },
  {
   "cell_type": "code",
   "execution_count": 171,
   "id": "0a607531",
   "metadata": {},
   "outputs": [],
   "source": [
    "def getTextInRowCol(row, col) : \n",
    "    text = ''\n",
    "    for paragraph in table.cell(row,col).text_frame.paragraphs:\n",
    "        for run in paragraph.runs:\n",
    "            text += run.text \n",
    "    return text"
   ]
  },
  {
   "cell_type": "code",
   "execution_count": 33,
   "id": "92df6d03",
   "metadata": {
    "scrolled": true
   },
   "outputs": [
    {
     "data": {
      "text/plain": [
       "('OP0200', 'IE0113107', 'L BRACKET', '12')"
      ]
     },
     "execution_count": 33,
     "metadata": {},
     "output_type": "execute_result"
    }
   ],
   "source": [
    "op_num = getTextInCell(1,3)\n",
    "item_no = getTextInCell(3,3)\n",
    "des = getTextInCell(3,9)\n",
    "qty = getTextInCell(3,13)\n",
    "item = (op_num, item_no, des, qty)\n",
    "item"
   ]
  },
  {
   "cell_type": "code",
   "execution_count": 57,
   "id": "f9853ab6",
   "metadata": {},
   "outputs": [],
   "source": [
    "class Point: \n",
    "    def __init__(self, row, col):\n",
    "        self.row = row\n",
    "        self.col = col\n",
    "        \n",
    "    row: int = None\n",
    "    col: int = None\n",
    "        \n",
    "class SOPDataPoints:    \n",
    "    op_num : Point = None\n",
    "    item_no : Point = None\n",
    "    desciption : Point = None\n",
    "    qty : Point = None   \n"
   ]
  },
  {
   "cell_type": "code",
   "execution_count": 257,
   "id": "85612dab",
   "metadata": {},
   "outputs": [],
   "source": [
    "item = SOPDataPoints()\n",
    "item.op_num = Point(1,3)\n",
    "item.item_no = Point(3,3)\n",
    "item.desciption = Point(3,9)\n",
    "item.qty = Point(3,13)"
   ]
  },
  {
   "cell_type": "code",
   "execution_count": 180,
   "id": "d4a9bc3d",
   "metadata": {},
   "outputs": [
    {
     "data": {
      "text/plain": [
       "'L BRACKET'"
      ]
     },
     "execution_count": 180,
     "metadata": {},
     "output_type": "execute_result"
    }
   ],
   "source": [
    "def getTextInCell(Point) : \n",
    "    text = ''\n",
    "    for paragraph in table.cell(Point.row, Point.col).text_frame.paragraphs:\n",
    "        for run in paragraph.runs:\n",
    "            text += run.text \n",
    "    return text\n",
    "\n",
    "getTextInCell(item.desciption)"
   ]
  },
  {
   "cell_type": "code",
   "execution_count": 182,
   "id": "c3253c55",
   "metadata": {},
   "outputs": [
    {
     "data": {
      "text/plain": [
       "'L BRACKET'"
      ]
     },
     "execution_count": 182,
     "metadata": {},
     "output_type": "execute_result"
    }
   ],
   "source": [
    "op_num = getTextInCell(item.op_num)\n",
    "item_no = getTextInCell(item.item_no)\n",
    "des = getTextInCell(item.desciption)\n",
    "qty = getTextInCell(item.qty)\n"
   ]
  },
  {
   "cell_type": "code",
   "execution_count": 216,
   "id": "799edc35",
   "metadata": {
    "scrolled": false
   },
   "outputs": [
    {
     "data": {
      "text/html": [
       "<div>\n",
       "<style scoped>\n",
       "    .dataframe tbody tr th:only-of-type {\n",
       "        vertical-align: middle;\n",
       "    }\n",
       "\n",
       "    .dataframe tbody tr th {\n",
       "        vertical-align: top;\n",
       "    }\n",
       "\n",
       "    .dataframe thead th {\n",
       "        text-align: right;\n",
       "    }\n",
       "</style>\n",
       "<table border=\"1\" class=\"dataframe\">\n",
       "  <thead>\n",
       "    <tr style=\"text-align: right;\">\n",
       "      <th></th>\n",
       "      <th>OperationStep</th>\n",
       "      <th>Man.Item.No</th>\n",
       "      <th>Description</th>\n",
       "      <th>Qty</th>\n",
       "    </tr>\n",
       "  </thead>\n",
       "  <tbody>\n",
       "  </tbody>\n",
       "</table>\n",
       "</div>"
      ],
      "text/plain": [
       "Empty DataFrame\n",
       "Columns: [OperationStep, Man.Item.No, Description, Qty]\n",
       "Index: []"
      ]
     },
     "execution_count": 216,
     "metadata": {},
     "output_type": "execute_result"
    }
   ],
   "source": [
    "df = pd.DataFrame(columns=['OperationStep','Man.Item.No','Description','Qty'])\n",
    "df"
   ]
  },
  {
   "cell_type": "code",
   "execution_count": 282,
   "id": "dfe71a9c",
   "metadata": {},
   "outputs": [],
   "source": [
    "def GetItemsList(cells, i):\n",
    "    item_no = []\n",
    "    if i < 3 :\n",
    "        op_num = getTextInRowCol(cells.op_num.row, cells.op_num.col)\n",
    "        item_no = getTextInRowCol(cells.item_no.row + i, cells.item_no.col)\n",
    "        des = getTextInRowCol(cells.desciption.row  + i, cells.desciption.col )\n",
    "        qty = getTextInRowCol(cells.qty.row + i, cells.qty.col)\n",
    "\n",
    "    else:\n",
    "        op_num = getTextInRowCol(cells.op_num.row, cells.op_num.col)\n",
    "        item_no = getTextInRowCol(cells.item_no.row + i-3, cells.item_no.col+12)\n",
    "        des = getTextInRowCol(cells.desciption.row  + i-3, cells.desciption.col+9)\n",
    "        qty = getTextInRowCol(cells.qty.row + i-3, cells.qty.col+8)\n",
    "    \n",
    "    item_list = [op_num,item_no,des,qty]         \n",
    "    return item_list"
   ]
  },
  {
   "cell_type": "code",
   "execution_count": 283,
   "id": "37e65067",
   "metadata": {},
   "outputs": [
    {
     "data": {
      "text/plain": [
       "['OP0200', '', '', '']"
      ]
     },
     "execution_count": 283,
     "metadata": {},
     "output_type": "execute_result"
    }
   ],
   "source": [
    "it =  GetItemsList(item, 5)\n",
    "it"
   ]
  },
  {
   "cell_type": "code",
   "execution_count": 217,
   "id": "5b69a76f",
   "metadata": {
    "scrolled": true
   },
   "outputs": [
    {
     "data": {
      "text/html": [
       "<div>\n",
       "<style scoped>\n",
       "    .dataframe tbody tr th:only-of-type {\n",
       "        vertical-align: middle;\n",
       "    }\n",
       "\n",
       "    .dataframe tbody tr th {\n",
       "        vertical-align: top;\n",
       "    }\n",
       "\n",
       "    .dataframe thead th {\n",
       "        text-align: right;\n",
       "    }\n",
       "</style>\n",
       "<table border=\"1\" class=\"dataframe\">\n",
       "  <thead>\n",
       "    <tr style=\"text-align: right;\">\n",
       "      <th></th>\n",
       "      <th>OperationStep</th>\n",
       "      <th>Man.Item.No</th>\n",
       "      <th>Description</th>\n",
       "      <th>Qty</th>\n",
       "    </tr>\n",
       "  </thead>\n",
       "  <tbody>\n",
       "    <tr>\n",
       "      <th>0</th>\n",
       "      <td>OP0200</td>\n",
       "      <td>IE0113107</td>\n",
       "      <td>L BRACKET</td>\n",
       "      <td>12</td>\n",
       "    </tr>\n",
       "    <tr>\n",
       "      <th>1</th>\n",
       "      <td>OP0200</td>\n",
       "      <td>218181452</td>\n",
       "      <td>SCREW HX SS M10 * 25</td>\n",
       "      <td>30</td>\n",
       "    </tr>\n",
       "    <tr>\n",
       "      <th>2</th>\n",
       "      <td>OP0200</td>\n",
       "      <td>218983511</td>\n",
       "      <td>WSHR S-COIL M10 SS</td>\n",
       "      <td>30</td>\n",
       "    </tr>\n",
       "  </tbody>\n",
       "</table>\n",
       "</div>"
      ],
      "text/plain": [
       "  OperationStep Man.Item.No           Description Qty\n",
       "0        OP0200   IE0113107             L BRACKET  12\n",
       "1        OP0200   218181452  SCREW HX SS M10 * 25  30\n",
       "2        OP0200   218983511    WSHR S-COIL M10 SS  30"
      ]
     },
     "execution_count": 217,
     "metadata": {},
     "output_type": "execute_result"
    }
   ],
   "source": [
    "df.loc[len(df.index)] = GetItemsList(item, 0)\n",
    "df.loc[len(df.index)] = GetItemsList(item, 1)\n",
    "df.loc[len(df.index)] = GetItemsList(item, 2)\n",
    "df"
   ]
  },
  {
   "cell_type": "code",
   "execution_count": 255,
   "id": "d0b28ddd",
   "metadata": {},
   "outputs": [],
   "source": [
    "item = GetItemsList(item, 0)\n",
    "if not item:\n",
    "    print('empty list')\n",
    "\n"
   ]
  }
 ],
 "metadata": {
  "kernelspec": {
   "display_name": "Python 3 (ipykernel)",
   "language": "python",
   "name": "python3"
  },
  "language_info": {
   "codemirror_mode": {
    "name": "ipython",
    "version": 3
   },
   "file_extension": ".py",
   "mimetype": "text/x-python",
   "name": "python",
   "nbconvert_exporter": "python",
   "pygments_lexer": "ipython3",
   "version": "3.9.12"
  }
 },
 "nbformat": 4,
 "nbformat_minor": 5
}
