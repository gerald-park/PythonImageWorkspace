{
 "cells": [
  {
   "cell_type": "markdown",
   "id": "daeafed9",
   "metadata": {},
   "source": [
    "# Matplotlib 퀴즈"
   ]
  },
  {
   "cell_type": "markdown",
   "id": "a97a618b",
   "metadata": {},
   "source": [
    "다음은 대한민국 영화 중에서 관객수가 가장 많은 상위 8개의 데이터입니다.\n",
    "주어진 코드를 이용하여 퀴즈를 풀어 보시오"
   ]
  },
  {
   "cell_type": "code",
   "execution_count": 25,
   "id": "04596518",
   "metadata": {
    "scrolled": true
   },
   "outputs": [
    {
     "data": {
      "text/html": [
       "<div>\n",
       "<style scoped>\n",
       "    .dataframe tbody tr th:only-of-type {\n",
       "        vertical-align: middle;\n",
       "    }\n",
       "\n",
       "    .dataframe tbody tr th {\n",
       "        vertical-align: top;\n",
       "    }\n",
       "\n",
       "    .dataframe thead th {\n",
       "        text-align: right;\n",
       "    }\n",
       "</style>\n",
       "<table border=\"1\" class=\"dataframe\">\n",
       "  <thead>\n",
       "    <tr style=\"text-align: right;\">\n",
       "      <th></th>\n",
       "      <th>영화</th>\n",
       "      <th>개봉년도</th>\n",
       "      <th>관객수</th>\n",
       "      <th>평점</th>\n",
       "    </tr>\n",
       "  </thead>\n",
       "  <tbody>\n",
       "    <tr>\n",
       "      <th>0</th>\n",
       "      <td>명량</td>\n",
       "      <td>2014</td>\n",
       "      <td>1761</td>\n",
       "      <td>8.88</td>\n",
       "    </tr>\n",
       "    <tr>\n",
       "      <th>1</th>\n",
       "      <td>극한직업</td>\n",
       "      <td>2019</td>\n",
       "      <td>1626</td>\n",
       "      <td>9.20</td>\n",
       "    </tr>\n",
       "    <tr>\n",
       "      <th>2</th>\n",
       "      <td>신과함께</td>\n",
       "      <td>2017</td>\n",
       "      <td>1441</td>\n",
       "      <td>8.73</td>\n",
       "    </tr>\n",
       "    <tr>\n",
       "      <th>3</th>\n",
       "      <td>국제시장</td>\n",
       "      <td>2014</td>\n",
       "      <td>1426</td>\n",
       "      <td>9.16</td>\n",
       "    </tr>\n",
       "    <tr>\n",
       "      <th>4</th>\n",
       "      <td>괴물</td>\n",
       "      <td>2006</td>\n",
       "      <td>1301</td>\n",
       "      <td>8.62</td>\n",
       "    </tr>\n",
       "    <tr>\n",
       "      <th>5</th>\n",
       "      <td>도둑들</td>\n",
       "      <td>2012</td>\n",
       "      <td>1298</td>\n",
       "      <td>7.64</td>\n",
       "    </tr>\n",
       "    <tr>\n",
       "      <th>6</th>\n",
       "      <td>7번방의 선물</td>\n",
       "      <td>2013</td>\n",
       "      <td>1281</td>\n",
       "      <td>8.83</td>\n",
       "    </tr>\n",
       "    <tr>\n",
       "      <th>7</th>\n",
       "      <td>암살</td>\n",
       "      <td>2015</td>\n",
       "      <td>1270</td>\n",
       "      <td>9.10</td>\n",
       "    </tr>\n",
       "  </tbody>\n",
       "</table>\n",
       "</div>"
      ],
      "text/plain": [
       "        영화  개봉년도   관객수    평점\n",
       "0       명량  2014  1761  8.88\n",
       "1     극한직업  2019  1626  9.20\n",
       "2     신과함께  2017  1441  8.73\n",
       "3     국제시장  2014  1426  9.16\n",
       "4       괴물  2006  1301  8.62\n",
       "5      도둑들  2012  1298  7.64\n",
       "6  7번방의 선물  2013  1281  8.83\n",
       "7       암살  2015  1270  9.10"
      ]
     },
     "execution_count": 25,
     "metadata": {},
     "output_type": "execute_result"
    }
   ],
   "source": [
    "import pandas as pd\n",
    "import matplotlib.pyplot as plt\n",
    "import matplotlib\n",
    "# matplotlib.rcParams['font.family'] = 'Malgun Gothic' # Windows \n",
    "matplotlib.rcParams['font.family'] = 'AppleGothic' # Mac\n",
    "matplotlib.rcParams['font.size'] = 15\n",
    "matplotlib.rcParams['axes.unicode_minus'] = False # 한글폰트 사용시 마이너스 깨짐 방지\n",
    "\n",
    "data = {\n",
    "    '영화' : ['명량','극한직업', '신과함께', '국제시장', '괴물', '도둑들', '7번방의 선물', '암살'],\n",
    "    '개봉년도' : [2014, 2019, 2017, 2014, 2006, 2012, 2013, 2015],\n",
    "    '관객수' : [1761, 1626, 1441,1426, 1301, 1298, 1281, 1270],\n",
    "    '평점' : [8.88, 9.20, 8.73, 9.16, 8.62, 7.64, 8.83, 9.10]\n",
    "}\n",
    "\n",
    "df = pd.DataFrame(data)\n",
    "df"
   ]
  },
  {
   "cell_type": "markdown",
   "id": "f921a74e",
   "metadata": {},
   "source": [
    "# 1) 영화 데이터를 활용하여 x축은 영화, y축은 평점인 막대그래프를 그리시오"
   ]
  },
  {
   "cell_type": "code",
   "execution_count": 26,
   "id": "85b58619",
   "metadata": {},
   "outputs": [
    {
     "data": {
      "text/plain": [
       "<BarContainer object of 8 artists>"
      ]
     },
     "execution_count": 26,
     "metadata": {},
     "output_type": "execute_result"
    },
    {
     "data": {
      "image/png": "[encoded data removed]",
      "text/plain": [
       "<Figure size 432x288 with 1 Axes>"
      ]
     },
     "metadata": {
      "needs_background": "light"
     },
     "output_type": "display_data"
    }
   ],
   "source": [
    "plt.bar(df['영화'],df['평점'], label=['영화'])"
   ]
  },
  {
   "cell_type": "markdown",
   "id": "dc125d25",
   "metadata": {},
   "source": [
    "# 2) 앞에서 만든 막대그래프에 제시된 세부 사항을 적용하십시오\n",
    "- 제목. 국내 Top8 영화 평점 정보\n",
    "- x축 label = 영화(90도 회전)\n",
    "- y축 label = 평점"
   ]
  },
  {
   "cell_type": "code",
   "execution_count": 27,
   "id": "59bef06c",
   "metadata": {
    "scrolled": true
   },
   "outputs": [
    {
     "data": {
      "image/png": "[encoded data removed]",
      "text/plain": [
       "<Figure size 432x288 with 1 Axes>"
      ]
     },
     "metadata": {
      "needs_background": "light"
     },
     "output_type": "display_data"
    }
   ],
   "source": [
    "plt.bar(df['영화'],df['평점'])\n",
    "plt.title('국내 Top8 영화 평점 정보')\n",
    "plt.xlabel('영화', color='red')\n",
    "plt.ylabel('평점', color='#00aa00')\n",
    "plt.xticks(rotation=90)\n",
    "plt.show()"
   ]
  },
  {
   "cell_type": "markdown",
   "id": "528607bc",
   "metadata": {},
   "source": [
    "# 3) 개봉 연도별 평점 변화 추이를 꺽은선 그래프로 그리시오 "
   ]
  },
  {
   "cell_type": "code",
   "execution_count": 37,
   "id": "ea6c5b4d",
   "metadata": {
    "scrolled": true
   },
   "outputs": [
    {
     "data": {
      "text/html": [
       "<div>\n",
       "<style scoped>\n",
       "    .dataframe tbody tr th:only-of-type {\n",
       "        vertical-align: middle;\n",
       "    }\n",
       "\n",
       "    .dataframe tbody tr th {\n",
       "        vertical-align: top;\n",
       "    }\n",
       "\n",
       "    .dataframe thead th {\n",
       "        text-align: right;\n",
       "    }\n",
       "</style>\n",
       "<table border=\"1\" class=\"dataframe\">\n",
       "  <thead>\n",
       "    <tr style=\"text-align: right;\">\n",
       "      <th></th>\n",
       "      <th>관객수</th>\n",
       "      <th>평점</th>\n",
       "    </tr>\n",
       "    <tr>\n",
       "      <th>개봉년도</th>\n",
       "      <th></th>\n",
       "      <th></th>\n",
       "    </tr>\n",
       "  </thead>\n",
       "  <tbody>\n",
       "    <tr>\n",
       "      <th>2006</th>\n",
       "      <td>1301.0</td>\n",
       "      <td>8.62</td>\n",
       "    </tr>\n",
       "    <tr>\n",
       "      <th>2012</th>\n",
       "      <td>1298.0</td>\n",
       "      <td>7.64</td>\n",
       "    </tr>\n",
       "    <tr>\n",
       "      <th>2013</th>\n",
       "      <td>1281.0</td>\n",
       "      <td>8.83</td>\n",
       "    </tr>\n",
       "    <tr>\n",
       "      <th>2014</th>\n",
       "      <td>1593.5</td>\n",
       "      <td>9.02</td>\n",
       "    </tr>\n",
       "    <tr>\n",
       "      <th>2015</th>\n",
       "      <td>1270.0</td>\n",
       "      <td>9.10</td>\n",
       "    </tr>\n",
       "    <tr>\n",
       "      <th>2017</th>\n",
       "      <td>1441.0</td>\n",
       "      <td>8.73</td>\n",
       "    </tr>\n",
       "    <tr>\n",
       "      <th>2019</th>\n",
       "      <td>1626.0</td>\n",
       "      <td>9.20</td>\n",
       "    </tr>\n",
       "  </tbody>\n",
       "</table>\n",
       "</div>"
      ],
      "text/plain": [
       "         관객수    평점\n",
       "개봉년도              \n",
       "2006  1301.0  8.62\n",
       "2012  1298.0  7.64\n",
       "2013  1281.0  8.83\n",
       "2014  1593.5  9.02\n",
       "2015  1270.0  9.10\n",
       "2017  1441.0  8.73\n",
       "2019  1626.0  9.20"
      ]
     },
     "execution_count": 37,
     "metadata": {},
     "output_type": "execute_result"
    }
   ],
   "source": [
    "df_group = df.groupby('개봉년도').mean()\n",
    "df_group"
   ]
  },
  {
   "cell_type": "code",
   "execution_count": 44,
   "id": "757096eb",
   "metadata": {},
   "outputs": [
    {
     "data": {
      "text/plain": [
       "Int64Index([2006, 2012, 2013, 2014, 2015, 2017, 2019], dtype='int64', name='개봉년도')"
      ]
     },
     "execution_count": 44,
     "metadata": {},
     "output_type": "execute_result"
    }
   ],
   "source": [
    "df_group.index"
   ]
  },
  {
   "cell_type": "code",
   "execution_count": 43,
   "id": "d04f29e2",
   "metadata": {
    "scrolled": false
   },
   "outputs": [
    {
     "data": {
      "image/png": "[encoded data removed]",
      "text/plain": [
       "<Figure size 432x288 with 1 Axes>"
      ]
     },
     "metadata": {
      "needs_background": "light"
     },
     "output_type": "display_data"
    }
   ],
   "source": [
    "plt.plot(df_group.index, df_group['평점'])\n",
    "plt.xlabel='개봉년도'\n",
    "plt.ylabel='평균평점'"
   ]
  },
  {
   "cell_type": "markdown",
   "id": "e57beb63",
   "metadata": {},
   "source": [
    "- marker : 'o'\n",
    "- x축 눈금 : 5년단위 (2005,2010,2015,2020)\n",
    "- y축 범위 : 최소 7 최대 10\n"
   ]
  },
  {
   "cell_type": "code",
   "execution_count": 55,
   "id": "d19ff619",
   "metadata": {},
   "outputs": [
    {
     "data": {
      "image/png": "[encoded data removed]",
      "text/plain": [
       "<Figure size 432x288 with 1 Axes>"
      ]
     },
     "metadata": {
      "needs_background": "light"
     },
     "output_type": "display_data"
    }
   ],
   "source": [
    "plt.plot(df_group.index, df_group['평점'])\n",
    "plt.xlabel='개봉년도'\n",
    "plt.ylabel='평균평점'\n",
    "plt.xticks([2005,2010,2015,2020])\n",
    "plt.ylim(7,10)\n",
    "plt.show()"
   ]
  },
  {
   "cell_type": "markdown",
   "id": "2cb8609e",
   "metadata": {},
   "source": [
    "# 평점이 9이상인 영화의 비율을 확인할수 있는 원그래프를 제시된 세부사항을 적용하여 그리시오\n",
    "- label : 9점이상 / 9점 미만\n",
    "- 퍼센트 : 소수점 첫재자리까지 표시\n",
    "- 범례 : 그래프 우측 표시"
   ]
  },
  {
   "cell_type": "code",
   "execution_count": 112,
   "id": "505f229c",
   "metadata": {},
   "outputs": [
    {
     "data": {
      "image/png": "[encoded data removed]",
      "text/plain": [
       "<Figure size 432x288 with 1 Axes>"
      ]
     },
     "metadata": {},
     "output_type": "display_data"
    }
   ],
   "source": [
    "over9 = len(df.loc[df['평점'] > 9]) / len(df)\n",
    "values = [over9, 1 - over9] \n",
    "labels = ['9점이상', '9점이하']\n",
    "plt.pie(values, labels=labels, autopct = '%.1f%%')\n",
    "plt.legend(loc=(1.0,0.5),title= '9점이상 평점 비율')\n",
    "plt.show()"
   ]
  }
 ],
 "metadata": {
  "kernelspec": {
   "display_name": "Python 3 (ipykernel)",
   "language": "python",
   "name": "python3"
  },
  "language_info": {
   "codemirror_mode": {
    "name": "ipython",
    "version": 3
   },
   "file_extension": ".py",
   "mimetype": "text/x-python",
   "name": "python",
   "nbconvert_exporter": "python",
   "pygments_lexer": "ipython3",
   "version": "3.9.12"
  }
 },
 "nbformat": 4,
 "nbformat_minor": 5
}
