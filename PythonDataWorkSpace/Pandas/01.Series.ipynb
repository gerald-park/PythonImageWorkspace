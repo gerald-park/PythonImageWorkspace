{
 "cells": [
  {
   "cell_type": "markdown",
   "id": "01e2685b-194b-4275-88c1-380361248733",
   "metadata": {
    "tags": []
   },
   "source": [
    "# Pandas\n",
    "파이선에서 사용하는 데이터 분석용 라이브러리"
   ]
  },
  {
   "cell_type": "code",
   "execution_count": 1,
   "id": "2bb39476-5894-4471-97e0-779ae68d6b67",
   "metadata": {},
   "outputs": [],
   "source": [
    "import pandas as pd"
   ]
  },
  {
   "cell_type": "markdown",
   "id": "9401af67-395c-42d2-bbe7-d3632db1c7cd",
   "metadata": {},
   "source": [
    "# 1. Series\n",
    "1차원 데이터 (정수, 실수, 문자열 등) "
   ]
  },
  {
   "cell_type": "markdown",
   "id": "d3ac6736-faac-4fdc-8881-8e4752a84028",
   "metadata": {},
   "source": [
    "## Serise 객체 생성 \n",
    "예) 1월 부터 4월까지 평균 온도 데이터 (-20, -10, 10, 20) "
   ]
  },
  {
   "cell_type": "code",
   "execution_count": 3,
   "id": "1c2b5c8e-7b3d-45ce-8710-0791d974483b",
   "metadata": {},
   "outputs": [
    {
     "name": "stdout",
     "output_type": "stream",
     "text": [
      "0   -20\n",
      "1    10\n",
      "2    10\n",
      "3    20\n",
      "dtype: int64\n"
     ]
    }
   ],
   "source": [
    "temp = pd.Series([-20,10,10,20])\n",
    "print(temp)"
   ]
  },
  {
   "cell_type": "code",
   "execution_count": 4,
   "id": "a31c5d74-b471-44f8-9564-436979e8e30a",
   "metadata": {},
   "outputs": [
    {
     "data": {
      "text/plain": [
       "10"
      ]
     },
     "execution_count": 4,
     "metadata": {},
     "output_type": "execute_result"
    }
   ],
   "source": [
    "temp[1]"
   ]
  },
  {
   "cell_type": "markdown",
   "id": "3af9382d-b86a-4cfa-91f7-4aca4dacf88c",
   "metadata": {},
   "source": [
    "# Serise 객체 생성 (index 지정)"
   ]
  },
  {
   "cell_type": "code",
   "execution_count": 5,
   "id": "c4ecf5da-d187-499a-9754-2731a81e3b84",
   "metadata": {},
   "outputs": [
    {
     "data": {
      "text/plain": [
       "Jan   -20\n",
       "Feb    10\n",
       "Mar    10\n",
       "Apr    20\n",
       "dtype: int64"
      ]
     },
     "execution_count": 5,
     "metadata": {},
     "output_type": "execute_result"
    }
   ],
   "source": [
    "temp = pd.Series([-20,10,10,20], index=['Jan','Feb','Mar','Apr'])\n",
    "temp                                    "
   ]
  }
 ],
 "metadata": {
  "kernelspec": {
   "display_name": "Python 3 (ipykernel)",
   "language": "python",
   "name": "python3"
  },
  "language_info": {
   "codemirror_mode": {
    "name": "ipython",
    "version": 3
   },
   "file_extension": ".py",
   "mimetype": "text/x-python",
   "name": "python",
   "nbconvert_exporter": "python",
   "pygments_lexer": "ipython3",
   "version": "3.9.12"
  }
 },
 "nbformat": 4,
 "nbformat_minor": 5
}
