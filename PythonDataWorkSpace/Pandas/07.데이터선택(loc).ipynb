{
 "cells": [
  {
   "cell_type": "markdown",
   "id": "34b1c51f-395a-4515-9868-04b2bb13d59f",
   "metadata": {},
   "source": [
    "# 7.데이터 선택 기본(loc)"
   ]
  }
 ],
 "metadata": {
  "kernelspec": {
   "display_name": "Python 3 (ipykernel)",
   "language": "python",
   "name": "python3"
  },
  "language_info": {
   "codemirror_mode": {
    "name": "ipython",
    "version": 3
   },
   "file_extension": ".py",
   "mimetype": "text/x-python",
   "name": "python",
   "nbconvert_exporter": "python",
   "pygments_lexer": "ipython3",
   "version": "3.9.12"
  }
 },
 "nbformat": 4,
 "nbformat_minor": 5
}
