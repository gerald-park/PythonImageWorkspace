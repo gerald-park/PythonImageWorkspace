{
 "cells": [
  {
   "attachments": {},
   "cell_type": "markdown",
   "metadata": {},
   "source": [
    "# 인구 피라미드"
   ]
  },
  {
   "attachments": {},
   "cell_type": "markdown",
   "metadata": {},
   "source": [
    "## 남자 데이터 정의"
   ]
  },
  {
   "cell_type": "code",
   "execution_count": 15,
   "metadata": {},
   "outputs": [
    {
     "name": "stderr",
     "output_type": "stream",
     "text": [
      "/Users/cyanluna/opt/anaconda3/lib/python3.9/site-packages/openpyxl/styles/stylesheet.py:226: UserWarning: Workbook contains no default style, apply openpyxl's default\n",
      "  warn(\"Workbook contains no default style, apply openpyxl's default\")\n"
     ]
    },
    {
     "data": {
      "text/html": [
       "<div>\n",
       "<style scoped>\n",
       "    .dataframe tbody tr th:only-of-type {\n",
       "        vertical-align: middle;\n",
       "    }\n",
       "\n",
       "    .dataframe tbody tr th {\n",
       "        vertical-align: top;\n",
       "    }\n",
       "\n",
       "    .dataframe thead th {\n",
       "        text-align: right;\n",
       "    }\n",
       "</style>\n",
       "<table border=\"1\" class=\"dataframe\">\n",
       "  <thead>\n",
       "    <tr style=\"text-align: right;\">\n",
       "      <th></th>\n",
       "      <th>0~4세</th>\n",
       "      <th>5~9세</th>\n",
       "      <th>10~14세</th>\n",
       "      <th>15~19세</th>\n",
       "      <th>20~24세</th>\n",
       "      <th>25~29세</th>\n",
       "      <th>30~34세</th>\n",
       "      <th>35~39세</th>\n",
       "      <th>40~44세</th>\n",
       "      <th>45~49세</th>\n",
       "      <th>...</th>\n",
       "      <th>55~59세</th>\n",
       "      <th>60~64세</th>\n",
       "      <th>65~69세</th>\n",
       "      <th>70~74세</th>\n",
       "      <th>75~79세</th>\n",
       "      <th>80~84세</th>\n",
       "      <th>85~89세</th>\n",
       "      <th>90~94세</th>\n",
       "      <th>95~99세</th>\n",
       "      <th>100세 이상</th>\n",
       "    </tr>\n",
       "    <tr>\n",
       "      <th>행정기관</th>\n",
       "      <th></th>\n",
       "      <th></th>\n",
       "      <th></th>\n",
       "      <th></th>\n",
       "      <th></th>\n",
       "      <th></th>\n",
       "      <th></th>\n",
       "      <th></th>\n",
       "      <th></th>\n",
       "      <th></th>\n",
       "      <th></th>\n",
       "      <th></th>\n",
       "      <th></th>\n",
       "      <th></th>\n",
       "      <th></th>\n",
       "      <th></th>\n",
       "      <th></th>\n",
       "      <th></th>\n",
       "      <th></th>\n",
       "      <th></th>\n",
       "      <th></th>\n",
       "    </tr>\n",
       "  </thead>\n",
       "  <tbody>\n",
       "    <tr>\n",
       "      <th>전국</th>\n",
       "      <td>1,197,003</td>\n",
       "      <td>1,222,587</td>\n",
       "      <td>1,642,528</td>\n",
       "      <td>1,886,278</td>\n",
       "      <td>1,682,175</td>\n",
       "      <td>1,821,018</td>\n",
       "      <td>2,055,874</td>\n",
       "      <td>2,155,723</td>\n",
       "      <td>2,347,209</td>\n",
       "      <td>2,169,533</td>\n",
       "      <td>...</td>\n",
       "      <td>1,590,265</td>\n",
       "      <td>1,131,070</td>\n",
       "      <td>886,705</td>\n",
       "      <td>710,192</td>\n",
       "      <td>429,557</td>\n",
       "      <td>190,440</td>\n",
       "      <td>76,544</td>\n",
       "      <td>22,340</td>\n",
       "      <td>4,708</td>\n",
       "      <td>2,642</td>\n",
       "    </tr>\n",
       "    <tr>\n",
       "      <th>서울특별시</th>\n",
       "      <td>216,878</td>\n",
       "      <td>214,138</td>\n",
       "      <td>285,687</td>\n",
       "      <td>347,381</td>\n",
       "      <td>336,528</td>\n",
       "      <td>427,908</td>\n",
       "      <td>474,747</td>\n",
       "      <td>455,020</td>\n",
       "      <td>462,205</td>\n",
       "      <td>412,940</td>\n",
       "      <td>...</td>\n",
       "      <td>331,851</td>\n",
       "      <td>239,957</td>\n",
       "      <td>190,969</td>\n",
       "      <td>136,519</td>\n",
       "      <td>72,404</td>\n",
       "      <td>31,560</td>\n",
       "      <td>13,077</td>\n",
       "      <td>4,578</td>\n",
       "      <td>1,176</td>\n",
       "      <td>892</td>\n",
       "    </tr>\n",
       "    <tr>\n",
       "      <th>부산광역시</th>\n",
       "      <td>67,424</td>\n",
       "      <td>69,606</td>\n",
       "      <td>101,208</td>\n",
       "      <td>129,978</td>\n",
       "      <td>122,880</td>\n",
       "      <td>128,617</td>\n",
       "      <td>138,519</td>\n",
       "      <td>134,929</td>\n",
       "      <td>148,822</td>\n",
       "      <td>145,829</td>\n",
       "      <td>...</td>\n",
       "      <td>136,245</td>\n",
       "      <td>99,612</td>\n",
       "      <td>73,919</td>\n",
       "      <td>54,165</td>\n",
       "      <td>29,096</td>\n",
       "      <td>11,982</td>\n",
       "      <td>4,211</td>\n",
       "      <td>1,107</td>\n",
       "      <td>248</td>\n",
       "      <td>227</td>\n",
       "    </tr>\n",
       "  </tbody>\n",
       "</table>\n",
       "<p>3 rows × 21 columns</p>\n",
       "</div>"
      ],
      "text/plain": [
       "              0~4세       5~9세     10~14세     15~19세     20~24세     25~29세  \\\n",
       "행정기관                                                                        \n",
       "전국       1,197,003  1,222,587  1,642,528  1,886,278  1,682,175  1,821,018   \n",
       "서울특별시      216,878    214,138    285,687    347,381    336,528    427,908   \n",
       "부산광역시       67,424     69,606    101,208    129,978    122,880    128,617   \n",
       "\n",
       "            30~34세     35~39세     40~44세     45~49세  ...     55~59세  \\\n",
       "행정기관                                                 ...              \n",
       "전국       2,055,874  2,155,723  2,347,209  2,169,533  ...  1,590,265   \n",
       "서울특별시      474,747    455,020    462,205    412,940  ...    331,851   \n",
       "부산광역시      138,519    134,929    148,822    145,829  ...    136,245   \n",
       "\n",
       "            60~64세   65~69세   70~74세   75~79세   80~84세  85~89세  90~94세 95~99세  \\\n",
       "행정기관                                                                            \n",
       "전국       1,131,070  886,705  710,192  429,557  190,440  76,544  22,340  4,708   \n",
       "서울특별시      239,957  190,969  136,519   72,404   31,560  13,077   4,578  1,176   \n",
       "부산광역시       99,612   73,919   54,165   29,096   11,982   4,211   1,107    248   \n",
       "\n",
       "        100세 이상  \n",
       "행정기관             \n",
       "전국        2,642  \n",
       "서울특별시       892  \n",
       "부산광역시       227  \n",
       "\n",
       "[3 rows x 21 columns]"
      ]
     },
     "execution_count": 15,
     "metadata": {},
     "output_type": "execute_result"
    }
   ],
   "source": [
    "import pandas as pd\n",
    "df_m = pd.read_excel('201111_201111_연령별인구현황_월간.xlsx',skiprows=3, index_col='행정기관', usecols='B,E:Y')\n",
    "df_m.head(3)"
   ]
  },
  {
   "cell_type": "code",
   "execution_count": 16,
   "metadata": {},
   "outputs": [],
   "source": [
    "df_m.iloc[0] = df_m.iloc[0].str.replace(',','').astype(int)\n"
   ]
  },
  {
   "cell_type": "code",
   "execution_count": 17,
   "metadata": {},
   "outputs": [
    {
     "data": {
      "text/plain": [
       "0~4세       1197003\n",
       "5~9세       1222587\n",
       "10~14세     1642528\n",
       "15~19세     1886278\n",
       "20~24세     1682175\n",
       "25~29세     1821018\n",
       "30~34세     2055874\n",
       "35~39세     2155723\n",
       "40~44세     2347209\n",
       "45~49세     2169533\n",
       "50~54세     2175366\n",
       "55~59세     1590265\n",
       "60~64세     1131070\n",
       "65~69세      886705\n",
       "70~74세      710192\n",
       "75~79세      429557\n",
       "80~84세      190440\n",
       "85~89세       76544\n",
       "90~94세       22340\n",
       "95~99세        4708\n",
       "100세 이상       2642\n",
       "Name: 전국  , dtype: object"
      ]
     },
     "execution_count": 17,
     "metadata": {},
     "output_type": "execute_result"
    }
   ],
   "source": [
    "df_m.iloc[0]"
   ]
  },
  {
   "attachments": {},
   "cell_type": "markdown",
   "metadata": {},
   "source": [
    "## 여자데이터 정의"
   ]
  },
  {
   "cell_type": "code",
   "execution_count": 29,
   "metadata": {},
   "outputs": [
    {
     "name": "stderr",
     "output_type": "stream",
     "text": [
      "/Users/cyanluna/opt/anaconda3/lib/python3.9/site-packages/openpyxl/styles/stylesheet.py:226: UserWarning: Workbook contains no default style, apply openpyxl's default\n",
      "  warn(\"Workbook contains no default style, apply openpyxl's default\")\n"
     ]
    },
    {
     "data": {
      "text/html": [
       "<div>\n",
       "<style scoped>\n",
       "    .dataframe tbody tr th:only-of-type {\n",
       "        vertical-align: middle;\n",
       "    }\n",
       "\n",
       "    .dataframe tbody tr th {\n",
       "        vertical-align: top;\n",
       "    }\n",
       "\n",
       "    .dataframe thead th {\n",
       "        text-align: right;\n",
       "    }\n",
       "</style>\n",
       "<table border=\"1\" class=\"dataframe\">\n",
       "  <thead>\n",
       "    <tr style=\"text-align: right;\">\n",
       "      <th></th>\n",
       "      <th>0~4세.1</th>\n",
       "      <th>5~9세.1</th>\n",
       "      <th>10~14세.1</th>\n",
       "      <th>15~19세.1</th>\n",
       "      <th>20~24세.1</th>\n",
       "      <th>25~29세.1</th>\n",
       "      <th>30~34세.1</th>\n",
       "      <th>35~39세.1</th>\n",
       "      <th>40~44세.1</th>\n",
       "      <th>45~49세.1</th>\n",
       "      <th>...</th>\n",
       "      <th>55~59세.1</th>\n",
       "      <th>60~64세.1</th>\n",
       "      <th>65~69세.1</th>\n",
       "      <th>70~74세.1</th>\n",
       "      <th>75~79세.1</th>\n",
       "      <th>80~84세.1</th>\n",
       "      <th>85~89세.1</th>\n",
       "      <th>90~94세.1</th>\n",
       "      <th>95~99세.1</th>\n",
       "      <th>100세 이상.1</th>\n",
       "    </tr>\n",
       "    <tr>\n",
       "      <th>행정기관</th>\n",
       "      <th></th>\n",
       "      <th></th>\n",
       "      <th></th>\n",
       "      <th></th>\n",
       "      <th></th>\n",
       "      <th></th>\n",
       "      <th></th>\n",
       "      <th></th>\n",
       "      <th></th>\n",
       "      <th></th>\n",
       "      <th></th>\n",
       "      <th></th>\n",
       "      <th></th>\n",
       "      <th></th>\n",
       "      <th></th>\n",
       "      <th></th>\n",
       "      <th></th>\n",
       "      <th></th>\n",
       "      <th></th>\n",
       "      <th></th>\n",
       "      <th></th>\n",
       "    </tr>\n",
       "  </thead>\n",
       "  <tbody>\n",
       "    <tr>\n",
       "      <th>전국</th>\n",
       "      <td>1,127,905</td>\n",
       "      <td>1,132,203</td>\n",
       "      <td>1,505,415</td>\n",
       "      <td>1,665,963</td>\n",
       "      <td>1,517,994</td>\n",
       "      <td>1,714,160</td>\n",
       "      <td>1,972,672</td>\n",
       "      <td>2,069,740</td>\n",
       "      <td>2,276,469</td>\n",
       "      <td>2,049,305</td>\n",
       "      <td>...</td>\n",
       "      <td>1,607,239</td>\n",
       "      <td>1,183,175</td>\n",
       "      <td>1,013,779</td>\n",
       "      <td>923,935</td>\n",
       "      <td>692,946</td>\n",
       "      <td>422,951</td>\n",
       "      <td>204,984</td>\n",
       "      <td>71,890</td>\n",
       "      <td>18,878</td>\n",
       "      <td>8,944</td>\n",
       "    </tr>\n",
       "    <tr>\n",
       "      <th>서울특별시</th>\n",
       "      <td>205,998</td>\n",
       "      <td>200,835</td>\n",
       "      <td>263,469</td>\n",
       "      <td>311,726</td>\n",
       "      <td>332,635</td>\n",
       "      <td>437,449</td>\n",
       "      <td>466,661</td>\n",
       "      <td>438,109</td>\n",
       "      <td>460,080</td>\n",
       "      <td>409,218</td>\n",
       "      <td>...</td>\n",
       "      <td>358,010</td>\n",
       "      <td>258,512</td>\n",
       "      <td>204,987</td>\n",
       "      <td>157,450</td>\n",
       "      <td>106,762</td>\n",
       "      <td>66,669</td>\n",
       "      <td>34,217</td>\n",
       "      <td>12,851</td>\n",
       "      <td>3,900</td>\n",
       "      <td>2,685</td>\n",
       "    </tr>\n",
       "    <tr>\n",
       "      <th>부산광역시</th>\n",
       "      <td>64,024</td>\n",
       "      <td>64,642</td>\n",
       "      <td>90,311</td>\n",
       "      <td>110,128</td>\n",
       "      <td>109,781</td>\n",
       "      <td>121,000</td>\n",
       "      <td>132,444</td>\n",
       "      <td>130,928</td>\n",
       "      <td>152,549</td>\n",
       "      <td>149,197</td>\n",
       "      <td>...</td>\n",
       "      <td>141,969</td>\n",
       "      <td>104,880</td>\n",
       "      <td>79,931</td>\n",
       "      <td>67,760</td>\n",
       "      <td>46,507</td>\n",
       "      <td>28,365</td>\n",
       "      <td>12,980</td>\n",
       "      <td>4,047</td>\n",
       "      <td>1,150</td>\n",
       "      <td>848</td>\n",
       "    </tr>\n",
       "  </tbody>\n",
       "</table>\n",
       "<p>3 rows × 21 columns</p>\n",
       "</div>"
      ],
      "text/plain": [
       "            0~4세.1     5~9세.1   10~14세.1   15~19세.1   20~24세.1   25~29세.1  \\\n",
       "행정기관                                                                        \n",
       "전국       1,127,905  1,132,203  1,505,415  1,665,963  1,517,994  1,714,160   \n",
       "서울특별시      205,998    200,835    263,469    311,726    332,635    437,449   \n",
       "부산광역시       64,024     64,642     90,311    110,128    109,781    121,000   \n",
       "\n",
       "          30~34세.1   35~39세.1   40~44세.1   45~49세.1  ...   55~59세.1  \\\n",
       "행정기관                                                 ...              \n",
       "전국       1,972,672  2,069,740  2,276,469  2,049,305  ...  1,607,239   \n",
       "서울특별시      466,661    438,109    460,080    409,218  ...    358,010   \n",
       "부산광역시      132,444    130,928    152,549    149,197  ...    141,969   \n",
       "\n",
       "          60~64세.1   65~69세.1 70~74세.1 75~79세.1 80~84세.1 85~89세.1 90~94세.1  \\\n",
       "행정기관                                                                         \n",
       "전국       1,183,175  1,013,779  923,935  692,946  422,951  204,984   71,890   \n",
       "서울특별시      258,512    204,987  157,450  106,762   66,669   34,217   12,851   \n",
       "부산광역시      104,880     79,931   67,760   46,507   28,365   12,980    4,047   \n",
       "\n",
       "        95~99세.1 100세 이상.1  \n",
       "행정기관                        \n",
       "전국        18,878     8,944  \n",
       "서울특별시      3,900     2,685  \n",
       "부산광역시      1,150       848  \n",
       "\n",
       "[3 rows x 21 columns]"
      ]
     },
     "execution_count": 29,
     "metadata": {},
     "output_type": "execute_result"
    }
   ],
   "source": [
    "df_w = pd.read_excel('201111_201111_연령별인구현황_월간.xlsx',skiprows=3, index_col='행정기관', usecols='B,AB:AV')\n",
    "df_w.head(3)"
   ]
  },
  {
   "cell_type": "code",
   "execution_count": 31,
   "metadata": {},
   "outputs": [
    {
     "data": {
      "text/plain": [
       "0~4세       1127905\n",
       "5~9세       1132203\n",
       "10~14세     1505415\n",
       "15~19세     1665963\n",
       "20~24세     1517994\n",
       "25~29세     1714160\n",
       "30~34세     1972672\n",
       "35~39세     2069740\n",
       "40~44세     2276469\n",
       "45~49세     2049305\n",
       "50~54세     2137415\n",
       "55~59세     1607239\n",
       "60~64세     1183175\n",
       "65~69세     1013779\n",
       "70~74세      923935\n",
       "75~79세      692946\n",
       "80~84세      422951\n",
       "85~89세      204984\n",
       "90~94세       71890\n",
       "95~99세       18878\n",
       "100세 이상       8944\n",
       "Name: 전국  , dtype: object"
      ]
     },
     "execution_count": 31,
     "metadata": {},
     "output_type": "execute_result"
    }
   ],
   "source": [
    "df_w.columns=df_m.columns\n",
    "df_w.iloc[0] = df_w.iloc[0].str.replace(',','').astype(int)\n",
    "df_w.iloc[0]"
   ]
  },
  {
   "attachments": {},
   "cell_type": "markdown",
   "metadata": {},
   "source": [
    "## 데이터 시각화\n"
   ]
  },
  {
   "cell_type": "code",
   "execution_count": 32,
   "metadata": {},
   "outputs": [],
   "source": [
    "import matplotlib.pyplot as plt\n",
    "import matplotlib\n",
    "# matplotlib.rcParams['font.family'] = 'Malgun Gothic' # Windows \n",
    "matplotlib.rcParams['font.family'] = 'AppleGothic' # Mac\n",
    "matplotlib.rcParams['font.size'] = 15\n",
    "matplotlib.rcParams['axes.unicode_minus'] = False # 한글폰트 사용시 마이너스 깨짐 방지"
   ]
  },
  {
   "cell_type": "code",
   "execution_count": 35,
   "metadata": {},
   "outputs": [
    {
     "data": {
      "text/plain": [
       "<BarContainer object of 21 artists>"
      ]
     },
     "execution_count": 35,
     "metadata": {},
     "output_type": "execute_result"
    },
    {
     "data": {
      "image/png": "[encoded data removed]",
      "text/plain": [
       "<Figure size 720x504 with 1 Axes>"
      ]
     },
     "metadata": {
      "needs_background": "light"
     },
     "output_type": "display_data"
    }
   ],
   "source": [
    "plt.figure(figsize=(10,7))\n",
    "plt.barh(df_m.columns,df_m.iloc[0] // 1000)"
   ]
  }
 ],
 "metadata": {
  "kernelspec": {
   "display_name": "Python 3.9.12 ('base')",
   "language": "python",
   "name": "python3"
  },
  "language_info": {
   "codemirror_mode": {
    "name": "ipython",
    "version": 3
   },
   "file_extension": ".py",
   "mimetype": "text/x-python",
   "name": "python",
   "nbconvert_exporter": "python",
   "pygments_lexer": "ipython3",
   "version": "3.9.12"
  },
  "orig_nbformat": 4,
  "vscode": {
   "interpreter": {
    "hash": "f0cf861344ab177f52f43b92f692110577588f1516d2c3160706f6a74fc8d002"
   }
  }
 },
 "nbformat": 4,
 "nbformat_minor": 2
}
