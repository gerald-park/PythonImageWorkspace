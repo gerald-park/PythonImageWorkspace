{
 "cells": [
  {
   "cell_type": "markdown",
   "id": "aa3dcf13",
   "metadata": {},
   "source": [
    "# 2. 동영상출력\n",
    "## 동영상 파일 출력 "
   ]
  },
  {
   "cell_type": "code",
   "execution_count": 8,
   "id": "ce49bf7a",
   "metadata": {},
   "outputs": [
    {
     "name": "stdout",
     "output_type": "stream",
     "text": [
      "사용자입력에 의해 종료합니다.\n"
     ]
    }
   ],
   "source": [
    "import cv2 \n",
    "cap = cv2.VideoCapture('video.mp4')\n",
    "\n",
    "while cap.isOpened(): # 동영상이 올바로 열렸는지\n",
    "    ret, frame = cap.read() # ret : 성공여부, frame : 받아온 이미지 \n",
    "    if not ret:\n",
    "        print('더 이상 가져올 프레임이 없어요')\n",
    "        break\n",
    "    cv2.imshow('video',frame)\n",
    "    \n",
    "    if cv2.waitKey(1) == ord('q'):\n",
    "        print('사용자입력에 의해 종료합니다.')\n",
    "        break\n",
    "        \n",
    "cap.release() # 자원 해재\n",
    "cv2.destroyAllWindows()"
   ]
  },
  {
   "cell_type": "markdown",
   "id": "8270aca1",
   "metadata": {},
   "source": [
    "## 카메라 출력"
   ]
  },
  {
   "cell_type": "code",
   "execution_count": 14,
   "id": "cdfec743",
   "metadata": {},
   "outputs": [],
   "source": [
    "import cv2\n",
    "cap = cv2.VideoCapture(0) # 0번째 카메라 장치 (device ID )\n",
    "if not cap.isOpened(): # 카메라가 잘열리지 않은경우\n",
    "    exit() # 프로그램 종료 \n",
    "    \n",
    "while True:\n",
    "    ret,frame = cap.read()\n",
    "    if not ret:\n",
    "        print('더 이상 가져올 프레임이 없어요')\n",
    "        break\n",
    "    cv2.imshow('camera',frame)\n",
    "    \n",
    "    if cv2.waitKey(25) == ord('q'):\n",
    "        print('사용자입력에 의해 종료합니다.')\n",
    "    break\n",
    "    \n",
    "cap.release() # 자원 해재\n",
    "cv2.destroyAllWindows()"
   ]
  }
 ],
 "metadata": {
  "kernelspec": {
   "display_name": "Python 3 (ipykernel)",
   "language": "python",
   "name": "python3"
  },
  "language_info": {
   "codemirror_mode": {
    "name": "ipython",
    "version": 3
   },
   "file_extension": ".py",
   "mimetype": "text/x-python",
   "name": "python",
   "nbconvert_exporter": "python",
   "pygments_lexer": "ipython3",
   "version": "3.9.12"
  }
 },
 "nbformat": 4,
 "nbformat_minor": 5
}
