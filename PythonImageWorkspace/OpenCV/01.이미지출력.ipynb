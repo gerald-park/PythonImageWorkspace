{
 "cells": [
  {
   "attachments": {},
   "cell_type": "markdown",
   "id": "63cd46cc",
   "metadata": {},
   "source": [
    "# 마크다운 연습\n",
    "## 두번째\n",
    "### 세번째 \n",
    "> pip install opencv-python\n",
    "\n",
    "**굵게**\n",
    "_이탤릭_\n",
    "~취소선~\n",
    "\n",
    "```\n",
    "<div>\n",
    " <p>Hello, LYNMP!</p>\n",
    "</div>\n",
    "```\n",
    "\n",
    "> 첫번째 인용문입니다.\n",
    ">> 두번째 인용문입니다.\n",
    ">>> 세번째 인용문입니다.\n",
    "\n",
    "1. 첫번째 리스트 항목입니다.\n",
    "\n",
    "2. 두번째 리스트 항목입니다.\n",
    "   1) 두번째 리스트의 첫번째 소항목입니다.\n",
    "   2) 두번째 리스트의 두번째 소항목입니다.\n",
    "   \n",
    "* 리스트 1\n",
    "   - 리스트 2\n",
    "      + 리스트 3"
   ]
  },
  {
   "cell_type": "markdown",
   "id": "1f6364bd",
   "metadata": {},
   "source": [
    "# 환경 설정 \n",
    "Anaconda Prompt에서 다음 명령 수행\n",
    "> pip install opencv-python"
   ]
  },
  {
   "cell_type": "code",
   "execution_count": 2,
   "id": "c1594588",
   "metadata": {},
   "outputs": [
    {
     "data": {
      "text/plain": [
       "'4.6.0'"
      ]
     },
     "execution_count": 2,
     "metadata": {},
     "output_type": "execute_result"
    }
   ],
   "source": [
    "import cv2\n",
    "cv2.__version__"
   ]
  },
  {
   "cell_type": "markdown",
   "id": "5f7e5daf",
   "metadata": {},
   "source": [
    "# OpenCV (Computer Vision)\n",
    "다양한 영상 (이미지)/동영상 처리에 사용되는 오픈소스라이브러리"
   ]
  },
  {
   "cell_type": "markdown",
   "id": "b75a8003",
   "metadata": {},
   "source": [
    "## 1. 이미지 출력"
   ]
  },
  {
   "cell_type": "code",
   "execution_count": 11,
   "id": "c4f9309a",
   "metadata": {},
   "outputs": [
    {
     "name": "stdout",
     "output_type": "stream",
     "text": [
      "113\n"
     ]
    }
   ],
   "source": [
    "import cv2\n",
    "img = cv2.imread('img.jpg') # 해당경로의 파일읽어오기\n",
    "cv2.imshow('img', img) #IMG 라는 이름의 창에 img표시 \n",
    "key = cv2.waitKey(5000) #  지정된 시간동안 사용자 입력 대기, 0은 무한대기 ,ms 단위임 \n",
    "print(key)\n",
    "cv2.destroyAllWindows() # 모든 창 닫기 "
   ]
  },
  {
   "cell_type": "markdown",
   "id": "343e79b7",
   "metadata": {},
   "source": [
    "## 읽기 옵션\n",
    "1. cv2.IMREAD_COLOR : 컬러 이미지. 투명 영역은 무시(기본값)\n",
    "1. cv2.IMREAD_GRAYSCALE : 흑백 이미지 \n",
    "1. cv2.IMREAD_UNCHANGED : 투명영역까지 포함"
   ]
  },
  {
   "cell_type": "code",
   "execution_count": 13,
   "id": "42c17b68",
   "metadata": {},
   "outputs": [],
   "source": [
    "import cv2\n",
    "img_color = cv2.imread('img.jpg', cv2.IMREAD_COLOR)\n",
    "img_gray = cv2.imread('img.jpg', cv2.IMREAD_GRAYSCALE)\n",
    "img_unchanged = cv2.imread('img.jpg', cv2.IMREAD_UNCHANGED)\n",
    "cv2.imshow('img_coclor', img_color)\n",
    "cv2.imshow('img_gray', img_gray)\n",
    "cv2.imshow('img_unchanged', img_unchanged)\n",
    "\n",
    "cv2.waitKey(0)\n",
    "cv2.destroyAllWindows()"
   ]
  },
  {
   "cell_type": "markdown",
   "id": "26fd0f01",
   "metadata": {},
   "source": [
    "## Shape \n",
    "이미지의 height, width, channel 정보"
   ]
  },
  {
   "cell_type": "code",
   "execution_count": 14,
   "id": "7a611700",
   "metadata": {},
   "outputs": [
    {
     "data": {
      "text/plain": [
       "(390, 640, 3)"
      ]
     },
     "execution_count": 14,
     "metadata": {},
     "output_type": "execute_result"
    }
   ],
   "source": [
    "import cv2\n",
    "img = cv2.imread('img.jpg')\n",
    "img.shape # 세로, 가로, channel "
   ]
  }
 ],
 "metadata": {
  "kernelspec": {
   "display_name": "Python 3.7.4 64-bit",
   "language": "python",
   "name": "python3"
  },
  "language_info": {
   "codemirror_mode": {
    "name": "ipython",
    "version": 3
   },
   "file_extension": ".py",
   "mimetype": "text/x-python",
   "name": "python",
   "nbconvert_exporter": "python",
   "pygments_lexer": "ipython3",
   "version": "3.7.4"
  },
  "vscode": {
   "interpreter": {
    "hash": "5109d816b82be14675a6b11f8e0f0d2e80f029176ed3710d54e125caa8520dfd"
   }
  }
 },
 "nbformat": 4,
 "nbformat_minor": 5
}
