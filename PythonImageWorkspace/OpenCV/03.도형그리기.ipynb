{
 "cells": [
  {
   "cell_type": "markdown",
   "id": "d591b2e4",
   "metadata": {},
   "source": [
    "# 3. 도형그리기 \n",
    "빈 스키치북 만들기"
   ]
  },
  {
   "cell_type": "code",
   "execution_count": 1,
   "id": "ce966437",
   "metadata": {},
   "outputs": [
    {
     "name": "stdout",
     "output_type": "stream",
     "text": [
      "[[[255 255 255]\n",
      "  [255 255 255]\n",
      "  [255 255 255]\n",
      "  ...\n",
      "  [255 255 255]\n",
      "  [255 255 255]\n",
      "  [255 255 255]]\n",
      "\n",
      " [[255 255 255]\n",
      "  [255 255 255]\n",
      "  [255 255 255]\n",
      "  ...\n",
      "  [255 255 255]\n",
      "  [255 255 255]\n",
      "  [255 255 255]]\n",
      "\n",
      " [[255 255 255]\n",
      "  [255 255 255]\n",
      "  [255 255 255]\n",
      "  ...\n",
      "  [255 255 255]\n",
      "  [255 255 255]\n",
      "  [255 255 255]]\n",
      "\n",
      " ...\n",
      "\n",
      " [[255 255 255]\n",
      "  [255 255 255]\n",
      "  [255 255 255]\n",
      "  ...\n",
      "  [255 255 255]\n",
      "  [255 255 255]\n",
      "  [255 255 255]]\n",
      "\n",
      " [[255 255 255]\n",
      "  [255 255 255]\n",
      "  [255 255 255]\n",
      "  ...\n",
      "  [255 255 255]\n",
      "  [255 255 255]\n",
      "  [255 255 255]]\n",
      "\n",
      " [[255 255 255]\n",
      "  [255 255 255]\n",
      "  [255 255 255]\n",
      "  ...\n",
      "  [255 255 255]\n",
      "  [255 255 255]\n",
      "  [255 255 255]]]\n"
     ]
    }
   ],
   "source": [
    "import cv2\n",
    "import numpy as np\n",
    "\n",
    "# 세로 480x640,3channel 에 대항하는 스케치북 \n",
    "img = np.zeros((480,640,3),dtype=np.uint8)\n",
    "img[:] = (255,255,255)\n",
    "print(img)\n",
    "\n",
    "cv2.imshow('img',img)\n",
    "cv2.waitKey(0)\n",
    "cv2.destroyAllWindows()"
   ]
  },
  {
   "cell_type": "markdown",
   "id": "e3b62b32",
   "metadata": {},
   "source": [
    "## 일부영역 색칠"
   ]
  },
  {
   "cell_type": "code",
   "execution_count": 3,
   "id": "96d96c28",
   "metadata": {},
   "outputs": [
    {
     "name": "stdout",
     "output_type": "stream",
     "text": [
      "[[[0 0 0]\n",
      "  [0 0 0]\n",
      "  [0 0 0]\n",
      "  ...\n",
      "  [0 0 0]\n",
      "  [0 0 0]\n",
      "  [0 0 0]]\n",
      "\n",
      " [[0 0 0]\n",
      "  [0 0 0]\n",
      "  [0 0 0]\n",
      "  ...\n",
      "  [0 0 0]\n",
      "  [0 0 0]\n",
      "  [0 0 0]]\n",
      "\n",
      " [[0 0 0]\n",
      "  [0 0 0]\n",
      "  [0 0 0]\n",
      "  ...\n",
      "  [0 0 0]\n",
      "  [0 0 0]\n",
      "  [0 0 0]]\n",
      "\n",
      " ...\n",
      "\n",
      " [[0 0 0]\n",
      "  [0 0 0]\n",
      "  [0 0 0]\n",
      "  ...\n",
      "  [0 0 0]\n",
      "  [0 0 0]\n",
      "  [0 0 0]]\n",
      "\n",
      " [[0 0 0]\n",
      "  [0 0 0]\n",
      "  [0 0 0]\n",
      "  ...\n",
      "  [0 0 0]\n",
      "  [0 0 0]\n",
      "  [0 0 0]]\n",
      "\n",
      " [[0 0 0]\n",
      "  [0 0 0]\n",
      "  [0 0 0]\n",
      "  ...\n",
      "  [0 0 0]\n",
      "  [0 0 0]\n",
      "  [0 0 0]]]\n"
     ]
    }
   ],
   "source": [
    "import cv2\n",
    "import numpy as np\n",
    "\n",
    "img = np.zeros((480,640,3),dtype=np.uint8)\n",
    "img[100:200,200:300] = (255,255,255)\n",
    "#[세로영역,가로영역]\n",
    "print(img)\n",
    "\n",
    "cv2.imshow('img',img)\n",
    "cv2.waitKey(0)\n",
    "cv2.destroyAllWindows()"
   ]
  },
  {
   "cell_type": "markdown",
   "id": "eda8e02e",
   "metadata": {},
   "source": [
    "# 직선\n",
    "직선의 종류(line type)\n",
    "1. cv2.LINE_4 : 상하좌우 4 방향으로 연결된 선 \n",
    "2. cv2.LINE_8 : 대각선을 포함한 8방향으로 연결된선 (기본값)\n",
    "3. cv2.LINE_AA : 부드로운 선 (anti-aliasing)"
   ]
  },
  {
   "cell_type": "code",
   "execution_count": 6,
   "id": "bf8f2e97",
   "metadata": {},
   "outputs": [],
   "source": [
    "import cv2 \n",
    "import numpy as np\n",
    "\n",
    "img = np.zeros((480,640,3), dtype=np.uint8)\n",
    "\n",
    "COLOR = (0,255,255) # BGR\n",
    "THICKNESS = 3 #두께 \n",
    "\n",
    "cv2.line(img,(50,100),(400,50), COLOR, THICKNESS, cv2.LINE_8)\n",
    "cv2.line(img,(50,200),(400,150), COLOR, THICKNESS, cv2.LINE_8)\n",
    "cv2.line(img,(50,300),(400,250), COLOR, THICKNESS, cv2.LINE_8)\n",
    "# 그릴 위치, 시작점, 끝 점, 색깔, 두께, 선 종류\n",
    "\n",
    "cv2.imshow('img',img)\n",
    "cv2.waitKey(0)\n",
    "cv2.destroyAllWindows()\n"
   ]
  },
  {
   "cell_type": "markdown",
   "id": "00912943",
   "metadata": {},
   "source": [
    "# 원"
   ]
  },
  {
   "cell_type": "code",
   "execution_count": 12,
   "id": "fa88211a",
   "metadata": {},
   "outputs": [],
   "source": [
    "import cv2 \n",
    "import numpy as np\n",
    "\n",
    "img = np.zeros((480,640,3), dtype=np.uint8)\n",
    "\n",
    "COLOR = (255,255,0) # BGR\n",
    "RADIUS = 50 # 반지름 \n",
    "THICKNESS = 10 #두께 \n",
    "\n",
    "cv2.circle(img,(200,100), RADIUS, COLOR,THICKNESS, cv2.LINE_AA )# 속이 빈원\n",
    "cv2.circle(img,(500,100), RADIUS, COLOR,cv2.FILLED, cv2.LINE_AA )# 속이 빈원\n",
    "# 그릴 위치, 원의 중심점, 반지름, 색깔, 두께, 선 종류 \n",
    "cv2.imshow('img',img)\n",
    "cv2.waitKey(0)\n",
    "cv2.destroyAllWindows()\n"
   ]
  },
  {
   "cell_type": "markdown",
   "id": "64c38c6f",
   "metadata": {},
   "source": [
    "# 사각형"
   ]
  },
  {
   "cell_type": "code",
   "execution_count": 14,
   "id": "9fce5de3",
   "metadata": {},
   "outputs": [],
   "source": [
    "import cv2 \n",
    "import numpy as np\n",
    "\n",
    "img = np.zeros((480,640,3), dtype=np.uint8)\n",
    "\n",
    "COLOR = (0,255,0) # BGR\n",
    "THICKNESS = 3 #두께 \n",
    "\n",
    "cv2.rectangle(img, (100,100),(200,200), COLOR, THICKNESS)\n",
    "cv2.rectangle(img, (400,100),(200,300), COLOR, cv2.FILLED)\n",
    "\n",
    "cv2.imshow('img',img)\n",
    "cv2.waitKey(0)\n",
    "cv2.destroyAllWindows()\n"
   ]
  },
  {
   "cell_type": "markdown",
   "id": "b2ba2cc2",
   "metadata": {},
   "source": [
    "# 다각형"
   ]
  },
  {
   "cell_type": "code",
   "execution_count": 27,
   "id": "4da151a6",
   "metadata": {},
   "outputs": [],
   "source": [
    "import cv2 \n",
    "import numpy as np\n",
    "\n",
    "img = np.zeros((480,640,3), dtype=np.uint8)\n",
    "\n",
    "COLOR = (0,0,255) # BGR\n",
    "THICKNESS = 3 #두께 \n",
    "\n",
    "pts1 = np.array([[100,100],[200,100],[100,200]])\n",
    "pts2 = np.array([[200,100],[300,100],[300,200]])\n",
    "ptslist = [pts1,pts2]\n",
    "\n",
    "#cv2.polylines(img,[pts1], True, COLOR, THICKNESS, cv2.LINE_AA)\n",
    "#cv2.polylines(img,[pts2], True, COLOR, THICKNESS, cv2.LINE_AA)\n",
    "cv2.polylines(img, ptslist, True, COLOR, THICKNESS, cv2.LINE_AA)\n",
    "\n",
    "pts3 = np.array([[[100,300],[200,300],[100,400]],[[200,300],[300,300],[300,400]]])\n",
    "cv2.fillPoly(img, pts3,COLOR,cv2.LINE_AA)\n",
    "# 꽉찬 다각형, 그릴 좌표들,색깔, 선종류 \n",
    "\n",
    "cv2.imshow('img',img)\n",
    "cv2.waitKey(0)\n",
    "cv2.destroyAllWindows()\n"
   ]
  }
 ],
 "metadata": {
  "kernelspec": {
   "display_name": "Python 3 (ipykernel)",
   "language": "python",
   "name": "python3"
  },
  "language_info": {
   "codemirror_mode": {
    "name": "ipython",
    "version": 3
   },
   "file_extension": ".py",
   "mimetype": "text/x-python",
   "name": "python",
   "nbconvert_exporter": "python",
   "pygments_lexer": "ipython3",
   "version": "3.9.12"
  }
 },
 "nbformat": 4,
 "nbformat_minor": 5
}
