{
 "cells": [
  {
   "cell_type": "markdown",
   "id": "90a41783",
   "metadata": {},
   "source": [
    "# 4. 텍스트"
   ]
  },
  {
   "cell_type": "markdown",
   "id": "f8c985ba",
   "metadata": {},
   "source": [
    "## OpenCV에서 사용하는 글꼴 종류\n",
    "1. cv2.FONT_HERSHEY_SIMPLEX : 보통크기의 산세리프 글꼴\n",
    "2. cv2.FONT_HERSHEY_PLAIN : 작은 크기의 산세리프 글꼴\n",
    "3. cv2.FONT_HERSHEY_SCRIPT_SIMPLEX : 필기체 \n",
    "4. cv2.FONT_HERSHEY_SCRIPT_TRIPLEX : 보통크기의 산세리프 \n",
    "5. cv2.FONT_ITALIC : 기울임 "
   ]
  },
  {
   "cell_type": "code",
   "execution_count": 3,
   "id": "02800438",
   "metadata": {},
   "outputs": [
    {
     "ename": "SyntaxError",
     "evalue": "EOL while scanning string literal (360998985.py, line 14)",
     "output_type": "error",
     "traceback": [
      "\u001b[1;36m  Input \u001b[1;32mIn [3]\u001b[1;36m\u001b[0m\n\u001b[1;33m    cv2.putText(img, \"Nado Italic, (20,450),cv2.FONT_HERSHEY_TRIPLEX | cv2.FONT_ITALIC, SCALE ,COLOR ,THICKNESS)\u001b[0m\n\u001b[1;37m                                                                                                                ^\u001b[0m\n\u001b[1;31mSyntaxError\u001b[0m\u001b[1;31m:\u001b[0m EOL while scanning string literal\n"
     ]
    }
   ],
   "source": [
    "import numpy as np\n",
    "import cv2\n",
    "\n",
    "img = np.zeros((480,640,3), dtype=np.uint8)\n",
    "COLOR = (255,255,255) # 흰색 \n",
    "THICKNESS = 1 # 두께 \n",
    "SCALE = 2 # 크기\n",
    "\n",
    "cv2.putText(img, \"Nado Simplex\", (20,50),cv2.FONT_HERSHEY_SIMPLEX, SCALE ,COLOR ,THICKNESS)\n",
    "# 그릴 위치, 텍스트 내용, 시작위치, 폰트 종류, 크기, 색깔, 두깨 \n",
    "cv2.putText(img, \"Nado Plain\", (20,150),cv2.FONT_HERSHEY_PLAIN, SCALE ,COLOR ,THICKNESS)\n",
    "cv2.putText(img, \"Nado Script Simplex\", (20,250),cv2.FONT_HERSHEY_SCRIPT_SIMPLEX, SCALE ,COLOR ,THICKNESS)\n",
    "cv2.putText(img, \"Nado Simplex\", (20,350),cv2.FONT_HERSHEY_TRIPLEX, SCALE ,COLOR ,THICKNESS)\n",
    "cv2.putText(img, \"Nado Italic\", (20,450),cv2.FONT_HERSHEY_TRIPLEX | cv2.FONT_ITALIC, SCALE ,COLOR ,THICKNESS)\n",
    "\n",
    "cv2.imshow('img',img)\n",
    "cv2.waitKey(0)\n",
    "cv2.destroyAllWindows()"
   ]
  },
  {
   "cell_type": "markdown",
   "id": "cd384188",
   "metadata": {},
   "source": [
    "### 한글"
   ]
  },
  {
   "cell_type": "code",
   "execution_count": 3,
   "id": "b88dcfd5",
   "metadata": {},
   "outputs": [],
   "source": [
    "import numpy as np\n",
    "import cv2\n",
    "\n",
    "img = np.zeros((480,640,3), dtype=np.uint8)\n",
    "COLOR = (255,255,255) # 흰색 \n",
    "THICKNESS = 1 # 두께 \n",
    "SCALE = 2 # 크기\n",
    "\n",
    "cv2.putText(img, \"안녕하세요\", (20,50),cv2.FONT_HERSHEY_SIMPLEX, SCALE ,COLOR ,THICKNESS)\n",
    "\n",
    "cv2.imshow('img',img)\n",
    "cv2.waitKey(0)\n",
    "cv2.destroyAllWindows()"
   ]
  },
  {
   "cell_type": "markdown",
   "id": "46b2b13c",
   "metadata": {},
   "source": [
    "한글깨짐 해결 Pillow"
   ]
  },
  {
   "cell_type": "code",
   "execution_count": 10,
   "id": "43b15249",
   "metadata": {},
   "outputs": [
    {
     "ename": "AttributeError",
     "evalue": "text",
     "output_type": "error",
     "traceback": [
      "\u001b[1;31m---------------------------------------------------------------------------\u001b[0m",
      "\u001b[1;31mAttributeError\u001b[0m                            Traceback (most recent call last)",
      "Input \u001b[1;32mIn [10]\u001b[0m, in \u001b[0;36m<cell line: 20>\u001b[1;34m()\u001b[0m\n\u001b[0;32m     17\u001b[0m SCALE \u001b[38;5;241m=\u001b[39m \u001b[38;5;241m2\u001b[39m \u001b[38;5;66;03m# 크기\u001b[39;00m\n\u001b[0;32m     19\u001b[0m \u001b[38;5;66;03m#cv2.putText(img, \"안녕하세요\", (20,50),cv2.FONT_HERSHEY_SIMPLEX, SCALE ,COLOR ,THICKNESS)\u001b[39;00m\n\u001b[1;32m---> 20\u001b[0m img \u001b[38;5;241m=\u001b[39m \u001b[43mmyPutText\u001b[49m\u001b[43m(\u001b[49m\u001b[43mimg\u001b[49m\u001b[43m,\u001b[49m\u001b[38;5;124;43m\"\u001b[39;49m\u001b[38;5;124;43m안녕하세요\u001b[39;49m\u001b[38;5;124;43m\"\u001b[39;49m\u001b[43m,\u001b[49m\u001b[43m \u001b[49m\u001b[43m(\u001b[49m\u001b[38;5;241;43m20\u001b[39;49m\u001b[43m,\u001b[49m\u001b[38;5;241;43m50\u001b[39;49m\u001b[43m)\u001b[49m\u001b[43m,\u001b[49m\u001b[43m \u001b[49m\u001b[43mFONT_SIZE\u001b[49m\u001b[43m,\u001b[49m\u001b[43m \u001b[49m\u001b[43mCOLOR\u001b[49m\u001b[43m)\u001b[49m\n\u001b[0;32m     22\u001b[0m cv2\u001b[38;5;241m.\u001b[39mimshow(\u001b[38;5;124m'\u001b[39m\u001b[38;5;124mimg\u001b[39m\u001b[38;5;124m'\u001b[39m,img)\n\u001b[0;32m     23\u001b[0m cv2\u001b[38;5;241m.\u001b[39mwaitKey(\u001b[38;5;241m0\u001b[39m)\n",
      "Input \u001b[1;32mIn [10]\u001b[0m, in \u001b[0;36mmyPutText\u001b[1;34m(src, text, pos, font_size, font_color)\u001b[0m\n\u001b[0;32m      8\u001b[0m draw \u001b[38;5;241m=\u001b[39m ImageDraw\u001b[38;5;241m=\u001b[39m(img_pil)\n\u001b[0;32m      9\u001b[0m font \u001b[38;5;241m=\u001b[39m ImageFont\u001b[38;5;241m.\u001b[39mtruetype(\u001b[38;5;124m'\u001b[39m\u001b[38;5;124mfonts/gulim.ttc\u001b[39m\u001b[38;5;124m'\u001b[39m,font_size)\n\u001b[1;32m---> 10\u001b[0m \u001b[43mdraw\u001b[49m\u001b[38;5;241;43m.\u001b[39;49m\u001b[43mtext\u001b[49m(pos, text)\n\u001b[0;32m     11\u001b[0m \u001b[38;5;28;01mreturn\u001b[39;00m np\u001b[38;5;241m.\u001b[39marray(img_pil)\n",
      "File \u001b[1;32m~\\Anaconda3\\lib\\site-packages\\PIL\\Image.py:519\u001b[0m, in \u001b[0;36mImage.__getattr__\u001b[1;34m(self, name)\u001b[0m\n\u001b[0;32m    512\u001b[0m     warnings\u001b[38;5;241m.\u001b[39mwarn(\n\u001b[0;32m    513\u001b[0m         \u001b[38;5;124m\"\u001b[39m\u001b[38;5;124mImage categories are deprecated and will be removed in Pillow 10 \u001b[39m\u001b[38;5;124m\"\u001b[39m\n\u001b[0;32m    514\u001b[0m         \u001b[38;5;124m\"\u001b[39m\u001b[38;5;124m(2023-07-01). Use is_animated instead.\u001b[39m\u001b[38;5;124m\"\u001b[39m,\n\u001b[0;32m    515\u001b[0m         \u001b[38;5;167;01mDeprecationWarning\u001b[39;00m,\n\u001b[0;32m    516\u001b[0m         stacklevel\u001b[38;5;241m=\u001b[39m\u001b[38;5;241m2\u001b[39m,\n\u001b[0;32m    517\u001b[0m     )\n\u001b[0;32m    518\u001b[0m     \u001b[38;5;28;01mreturn\u001b[39;00m \u001b[38;5;28mself\u001b[39m\u001b[38;5;241m.\u001b[39m_category\n\u001b[1;32m--> 519\u001b[0m \u001b[38;5;28;01mraise\u001b[39;00m \u001b[38;5;167;01mAttributeError\u001b[39;00m(name)\n",
      "\u001b[1;31mAttributeError\u001b[0m: text"
     ]
    }
   ],
   "source": [
    "import numpy as np\n",
    "import cv2\n",
    "\n",
    "from PIL import ImageFont, ImageDraw, Image\n",
    "\n",
    "def myPutText(src, text, pos, font_size, font_color):\n",
    "    img_pil = Image.fromarray(src)\n",
    "    draw = ImageDraw=(img_pil)\n",
    "    font = ImageFont.truetype('fonts/gulim.ttc',font_size)\n",
    "    draw.text(pos, text, font=font, fill=font_color)\n",
    "    return np.array(img_pil)\n",
    "\n",
    "img = np.zeros((480,640,3), dtype=np.uint8)\n",
    "FONT_SIZE = 30\n",
    "COLOR = (255,255,255) # 흰색 \n",
    "THICKNESS = 1 # 두께 \n",
    "SCALE = 2 # 크기\n",
    "\n",
    "#cv2.putText(img, \"안녕하세요\", (20,50),cv2.FONT_HERSHEY_SIMPLEX, SCALE ,COLOR ,THICKNESS)\n",
    "img = myPutText(img,\"안녕하세요\", (20,50), FONT_SIZE, COLOR)\n",
    "\n",
    "cv2.imshow('img',img)\n",
    "cv2.waitKey(0)\n",
    "cv2.destroyAllWindows()"
   ]
  }
 ],
 "metadata": {
  "kernelspec": {
   "display_name": "Python 3 (ipykernel)",
   "language": "python",
   "name": "python3"
  },
  "language_info": {
   "codemirror_mode": {
    "name": "ipython",
    "version": 3
   },
   "file_extension": ".py",
   "mimetype": "text/x-python",
   "name": "python",
   "nbconvert_exporter": "python",
   "pygments_lexer": "ipython3",
   "version": "3.9.12"
  }
 },
 "nbformat": 4,
 "nbformat_minor": 5
}
