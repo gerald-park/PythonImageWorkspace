{
 "cells": [
  {
   "cell_type": "markdown",
   "id": "f2d945d4",
   "metadata": {},
   "source": [
    "# 6. 크기조정"
   ]
  },
  {
   "cell_type": "markdown",
   "id": "a0d42c59",
   "metadata": {},
   "source": [
    "### 이미지\n",
    "고정크기로 설정"
   ]
  },
  {
   "cell_type": "code",
   "execution_count": 1,
   "id": "a900ba9c",
   "metadata": {},
   "outputs": [],
   "source": [
    "def closeImg(cv2):\n",
    "    cv2.waitKey(0)\n",
    "    cv2.destroyAllWindows()"
   ]
  },
  {
   "cell_type": "code",
   "execution_count": null,
   "id": "8f721776",
   "metadata": {},
   "outputs": [],
   "source": [
    "import cv2\n",
    "img = cv2.imread('img.jpg')\n",
    "dst = cv2.resize(img, (600,500)) # 고정크기\n",
    "\n",
    "cv2.imshow('img', img)\n",
    "cv2.imshow('resize', dst)\n",
    "cv2.waitKey(0)\n",
    "cv2.destroyAllWindows()"
   ]
  },
  {
   "cell_type": "markdown",
   "id": "e5735630",
   "metadata": {},
   "source": [
    "비율로 설정"
   ]
  },
  {
   "cell_type": "code",
   "execution_count": 2,
   "id": "6d6ce318",
   "metadata": {},
   "outputs": [],
   "source": [
    "import cv2\n",
    "img = cv2.imread('img.jpg')\n",
    "dst = cv2.resize(img,None,fx=0.5, fy=0.5) # 고정크기\n",
    "\n",
    "cv2.imshow('img', img)\n",
    "cv2.imshow('resize', dst)\n",
    "closeImg(cv2)"
   ]
  },
  {
   "cell_type": "markdown",
   "id": "7707abbc",
   "metadata": {},
   "source": [
    "### 보간법 \n",
    "1. cv2.INTER_AREA : 크기 줄일때 \n",
    "2. cv2.INTER_CUBIC : 크기 늘릴때 (고품질,느림)\n",
    "3. cv2.INTER_LINEAR : 크기 늘릴때 (기본)\n"
   ]
  },
  {
   "cell_type": "code",
   "execution_count": 4,
   "id": "4f27bf12",
   "metadata": {},
   "outputs": [],
   "source": [
    "import cv2\n",
    "img = cv2.imread('img.jpg')\n",
    "dst = cv2.resize(img,None,fx=1.5, fy=1.5, interpolation=cv2.INTER_LINEAR) # 고정크기\n",
    "\n",
    "cv2.imshow('img', img)\n",
    "cv2.imshow('resize', dst)\n",
    "closeImg(cv2)"
   ]
  },
  {
   "cell_type": "markdown",
   "id": "6a24f74e",
   "metadata": {},
   "source": [
    "# 동영상\n",
    "고정크기로 설정"
   ]
  },
  {
   "cell_type": "code",
   "execution_count": 7,
   "id": "94d79304",
   "metadata": {},
   "outputs": [],
   "source": [
    "import cv2\n",
    "cap = cv2.VideoCapture('video.mp4')\n",
    "\n",
    "while cap.isOpened():\n",
    "    ret, frame = cap.read()\n",
    "    if not ret:\n",
    "        break\n",
    "    \n",
    "    frame_resized = cv2.resize(frame, None, fx=2, fy=2, interpolation=cv2.INTER_CUBIC)\n",
    "    cv2.imshow('video', frame_resized)\n",
    "    if cv2.waitKey(1)==ord('q'):\n",
    "        break\n",
    "\n",
    "cap.release()\n",
    "cv2.destroyAllWindows()"
   ]
  }
 ],
 "metadata": {
  "kernelspec": {
   "display_name": "Python 3 (ipykernel)",
   "language": "python",
   "name": "python3"
  },
  "language_info": {
   "codemirror_mode": {
    "name": "ipython",
    "version": 3
   },
   "file_extension": ".py",
   "mimetype": "text/x-python",
   "name": "python",
   "nbconvert_exporter": "python",
   "pygments_lexer": "ipython3",
   "version": "3.9.12"
  }
 },
 "nbformat": 4,
 "nbformat_minor": 5
}
