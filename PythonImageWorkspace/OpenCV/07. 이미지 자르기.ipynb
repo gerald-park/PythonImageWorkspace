{
 "cells": [
  {
   "cell_type": "markdown",
   "id": "7ca93a8a",
   "metadata": {},
   "source": [
    "### 07. 이미지 자르기\n",
    "영역을 잘라서 새로운 윈도우(창)에 표시"
   ]
  },
  {
   "cell_type": "code",
   "execution_count": 1,
   "id": "145b4b65",
   "metadata": {},
   "outputs": [],
   "source": [
    "import cv2\n",
    "img = cv2.imread('img.jpg')\n",
    "# img.shape #(390,640,3)\n",
    "\n",
    "# crop = img[세로범위, 가로범위]\n",
    "crop = img[100:200, 200:400]\n",
    "cv2.imshow('img', img)\n",
    "cv2.imshow('crop', crop)\n",
    "cv2.waitKey(0)\n",
    "cv2.destroyAllWindows()"
   ]
  },
  {
   "cell_type": "markdown",
   "id": "c7380130",
   "metadata": {},
   "source": [
    "영역을 잘라서 기존 윈도우에서 표시"
   ]
  },
  {
   "cell_type": "code",
   "execution_count": 4,
   "id": "0aec8c1e",
   "metadata": {},
   "outputs": [],
   "source": [
    "import cv2\n",
    "img = cv2.imread('img.jpg')\n",
    "\n",
    "crop = img[100:200, 200:400] # 세로 100,200, 가로 200,400\n",
    "img[100:200, 400:600] = crop # 이미지 합치기\n",
    "\n",
    "cv2.imshow('img', img)\n",
    "cv2.waitKey(0)\n",
    "cv2.destroyAllWindows()"
   ]
  }
 ],
 "metadata": {
  "kernelspec": {
   "display_name": "Python 3 (ipykernel)",
   "language": "python",
   "name": "python3"
  },
  "language_info": {
   "codemirror_mode": {
    "name": "ipython",
    "version": 3
   },
   "file_extension": ".py",
   "mimetype": "text/x-python",
   "name": "python",
   "nbconvert_exporter": "python",
   "pygments_lexer": "ipython3",
   "version": "3.9.12"
  }
 },
 "nbformat": 4,
 "nbformat_minor": 5
}
