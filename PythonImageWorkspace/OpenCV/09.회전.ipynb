{
 "cells": [
  {
   "cell_type": "markdown",
   "id": "01a9ee5b",
   "metadata": {},
   "source": [
    "# 9.이미지 회전"
   ]
  },
  {
   "cell_type": "code",
   "execution_count": 1,
   "id": "b7184ea6",
   "metadata": {},
   "outputs": [],
   "source": [
    "import cv2\n",
    "img = cv2.imread('img.jpg')\n",
    "\n",
    "rotate_90 = cv2.rotate(img, cv2.ROTATE_90_CLOCKWISE)\n",
    "\n",
    "cv2.imshow('img',img)\n",
    "cv2.imshow('rotate',rotate_90 )\n",
    "cv2.waitKey(0)\n",
    "cv2.destroyAllWindows()"
   ]
  },
  {
   "cell_type": "markdown",
   "id": "81f52b2f",
   "metadata": {},
   "source": [
    "### 180회전"
   ]
  },
  {
   "cell_type": "code",
   "execution_count": null,
   "id": "8605cd99",
   "metadata": {},
   "outputs": [],
   "source": [
    "import cv2\n",
    "img = cv2.imread('img.jpg')\n",
    "\n",
    "rotate = cv2.rotate(img, cv2.ROTATE_180)\n",
    "\n",
    "cv2.imshow('img',img)\n",
    "cv2.imshow('rotate',rotate)\n",
    "cv2.waitKey(0)\n",
    "cv2.destroyAllWindows()"
   ]
  },
  {
   "cell_type": "code",
   "execution_count": null,
   "id": "a4f4f97a",
   "metadata": {},
   "outputs": [],
   "source": [
    "import cv2\n",
    "img = cv2.imread('img.jpg')\n",
    "\n",
    "rotate = cv2.rotate(img, cv2.ROTATE_90_COUNTERCLOCKWISE)\n",
    "\n",
    "cv2.imshow('img',img)\n",
    "cv2.imshow('rotate',rotate)\n",
    "cv2.waitKey(0)\n",
    "cv2.destroyAllWindows()"
   ]
  },
  {
   "cell_type": "code",
   "execution_count": 3,
   "id": "a849a68b",
   "metadata": {},
   "outputs": [],
   "source": [
    "import cv2\n",
    "  \n",
    "# Reading the image\n",
    "image = cv2.imread('img.jpg')\n",
    "  \n",
    "# Extracting height and width from \n",
    "# image shape\n",
    "height, width = image.shape[:2]\n",
    "  \n",
    "# get the center coordinates of the\n",
    "# image to create the 2D rotation\n",
    "# matrix\n",
    "center = (width/2, height/2)\n",
    "  \n",
    "# using cv2.getRotationMatrix2D() \n",
    "# to get the rotation matrix\n",
    "rotate_matrix = cv2.getRotationMatrix2D(center=center, angle=45, scale=0.7)\n",
    "  \n",
    "# rotate the image using cv2.warpAffine \n",
    "# 90 degree anticlockwise\n",
    "rotated_image = cv2.warpAffine(\n",
    "    src=image, M=rotate_matrix, dsize=(width, height))\n",
    "  \n",
    "cv2.imshow(\"rotated image:\", rotated_image)\n",
    "cv2.imwrite('rotated_image.jpg', rotated_image)\n",
    "\n",
    "cv2.waitKey(0)\n",
    "cv2.destroyAllWindows()"
   ]
  }
 ],
 "metadata": {
  "kernelspec": {
   "display_name": "Python 3 (ipykernel)",
   "language": "python",
   "name": "python3"
  },
  "language_info": {
   "codemirror_mode": {
    "name": "ipython",
    "version": 3
   },
   "file_extension": ".py",
   "mimetype": "text/x-python",
   "name": "python",
   "nbconvert_exporter": "python",
   "pygments_lexer": "ipython3",
   "version": "3.9.12"
  }
 },
 "nbformat": 4,
 "nbformat_minor": 5
}
