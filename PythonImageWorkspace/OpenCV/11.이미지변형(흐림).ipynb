{
 "cells": [
  {
   "cell_type": "markdown",
   "id": "8a47529c",
   "metadata": {},
   "source": [
    "# 11. 이미지 변형(흐림)"
   ]
  },
  {
   "cell_type": "markdown",
   "id": "7674f126",
   "metadata": {},
   "source": [
    "가우시안 블러"
   ]
  },
  {
   "cell_type": "markdown",
   "id": "3c3ffaa1",
   "metadata": {},
   "source": [
    "### 커널사이즈 변화에 따른 흐림 "
   ]
  },
  {
   "cell_type": "code",
   "execution_count": 1,
   "id": "f19d9382",
   "metadata": {},
   "outputs": [],
   "source": [
    "import cv2 \n",
    "img = cv2.imread('img.jpg')\n",
    "\n",
    "#(3,3),(5,5),(7,7)\n",
    "kernel_3 = cv2.GaussianBlur(img, (3,3), 0)\n",
    "kernel_5 = cv2.GaussianBlur(img, (5,5), 0)\n",
    "kernel_7 = cv2.GaussianBlur(img, (7,7), 0)\n",
    "\n",
    "\n",
    "cv2.imshow('img', img)\n",
    "cv2.imshow('kernel_3', kernel_3)\n",
    "cv2.imshow('kernel_5', kernel_5)\n",
    "cv2.imshow('kernel_7', kernel_7)\n",
    "cv2.waitKey(0)\n",
    "cv2.destroyAllWindows()"
   ]
  },
  {
   "cell_type": "markdown",
   "id": "4d02752b",
   "metadata": {},
   "source": [
    "### 표준편차 변화에 따른 흐림"
   ]
  },
  {
   "cell_type": "code",
   "execution_count": 2,
   "id": "bf1a6463",
   "metadata": {},
   "outputs": [],
   "source": [
    "import cv2 \n",
    "img = cv2.imread('img.jpg')\n",
    "\n",
    "#(3,3),(5,5),(7,7)\n",
    "sigma_3 = cv2.GaussianBlur(img, (0,0), 1) # sigmaX - 가우시안 커널의 x 방향의 표준 편차\n",
    "sigma_5 = cv2.GaussianBlur(img, (0,0), 2)\n",
    "sigma_7 = cv2.GaussianBlur(img, (0,0), 3)\n",
    "\n",
    "\n",
    "cv2.imshow('img', img)\n",
    "cv2.imshow('sigma_3', sigma_3)\n",
    "cv2.imshow('sigma_5', sigma_5)\n",
    "cv2.imshow('sigma_7', sigma_7)\n",
    "cv2.waitKey(0)\n",
    "cv2.destroyAllWindows()"
   ]
  }
 ],
 "metadata": {
  "kernelspec": {
   "display_name": "Python 3 (ipykernel)",
   "language": "python",
   "name": "python3"
  },
  "language_info": {
   "codemirror_mode": {
    "name": "ipython",
    "version": 3
   },
   "file_extension": ".py",
   "mimetype": "text/x-python",
   "name": "python",
   "nbconvert_exporter": "python",
   "pygments_lexer": "ipython3",
   "version": "3.9.12"
  }
 },
 "nbformat": 4,
 "nbformat_minor": 5
}
