{
 "cells": [
  {
   "cell_type": "markdown",
   "id": "40118bff",
   "metadata": {},
   "source": [
    "# 12. 이미지 변형(원근)"
   ]
  },
  {
   "cell_type": "markdown",
   "id": "4f0c5df8",
   "metadata": {},
   "source": [
    "## 사다리꼴 이미지 펼침"
   ]
  },
  {
   "cell_type": "code",
   "execution_count": 2,
   "id": "432b0d6d",
   "metadata": {},
   "outputs": [],
   "source": [
    "import cv2 \n",
    "import numpy as np\n",
    "img = cv2.imread('newspaper.jpg')\n",
    "width, height = 640,240\n",
    "src = np.array([[783,543],[1497,543],[1673,890],[691,880]], dtype = np.float32)\n",
    "dst = np.array([[0,0],[width,0],[width,height],[0,height]], dtype = np.float32)\n",
    "# 좌상, 우상 , 우하, 좌하 ( 시계방향으로 4개 지점 정의)\n",
    "\n",
    "matrix = cv2.getPerspectiveTransform(src,dst); # matrix 얻어옴\n",
    "result = cv2.warpPerspective(img, matrix, (width,height))\n",
    "\n",
    "cv2.imshow('img', img)\n",
    "cv2.imshow('result', result)\n",
    "\n",
    "cv2.waitKey(0)\n",
    "cv2.destroyAllWindows()"
   ]
  },
  {
   "cell_type": "markdown",
   "id": "deec11b8",
   "metadata": {},
   "source": [
    "## 회전이미지 올바로 펼치기"
   ]
  },
  {
   "cell_type": "code",
   "execution_count": 3,
   "id": "52856deb",
   "metadata": {},
   "outputs": [],
   "source": [
    "import cv2 \n",
    "import numpy as np\n",
    "img = cv2.imread('poker.jpg')\n",
    "width, height = 530,710\n",
    "\n",
    "src = np.array([[702,143],[1133,413],[726,1007],[276,700]], dtype = np.float32)\n",
    "dst = np.array([[0,0],[width,0],[width,height],[0,height]], dtype = np.float32)\n",
    "# 좌상, 우상 , 우하, 좌하 ( 시계방향으로 4개 지점 정의)\n",
    "\n",
    "matrix = cv2.getPerspectiveTransform(src,dst); # matrix 얻어옴\n",
    "result = cv2.warpPerspective(img, matrix, (width,height))\n",
    "\n",
    "cv2.imshow('img', img)\n",
    "cv2.imshow('result', result)\n",
    "\n",
    "cv2.waitKey(0)\n",
    "cv2.destroyAllWindows()"
   ]
  },
  {
   "cell_type": "markdown",
   "id": "c965dacf",
   "metadata": {},
   "source": [
    "# 미니 프로젝트 : 반자동 문서 스캐너"
   ]
  },
  {
   "cell_type": "markdown",
   "id": "de2fd678",
   "metadata": {},
   "source": [
    "### 마우스 이벤트 등록"
   ]
  },
  {
   "cell_type": "code",
   "execution_count": 8,
   "id": "091887a3",
   "metadata": {},
   "outputs": [
    {
     "name": "stdout",
     "output_type": "stream",
     "text": [
      "LEFT MOUSE DOWN\n",
      "450 548\n",
      "LEFT MOUSE UP\n",
      "450 548\n",
      "LEFT MOUSE DOWN\n",
      "626 560\n",
      "LEFT MOUSE UP\n",
      "626 560\n",
      "LEFT MOUSE DOUBLE CLICK\n",
      "LEFT MOUSE UP\n",
      "626 560\n",
      "LEFT MOUSE DOWN\n",
      "407 575\n",
      "LEFT MOUSE UP\n",
      "407 575\n",
      "LEFT MOUSE DOUBLE CLICK\n",
      "LEFT MOUSE UP\n",
      "407 575\n",
      "LEFT MOUSE DOWN\n",
      "468 603\n",
      "LEFT MOUSE UP\n",
      "468 603\n",
      "LEFT MOUSE DOUBLE CLICK\n",
      "LEFT MOUSE UP\n",
      "468 603\n"
     ]
    }
   ],
   "source": [
    "import cv2\n",
    "\n",
    "def mouse_handler(event, x, y, flags, praram):\n",
    "    if event == cv2.EVENT_LBUTTONDOWN:\n",
    "        print('LEFT MOUSE DOWN')\n",
    "        print(x,y)\n",
    "    elif event == cv2.EVENT_LBUTTONUP:\n",
    "        print('LEFT MOUSE UP')\n",
    "        print(x,y)\n",
    "    elif event == cv2.EVENT_LBUTTONDBLCLK:\n",
    "        print('LEFT MOUSE DOUBLE CLICK')\n",
    "    elif event == cv2.EVENT_MOUSEMOVE:\n",
    "        pass\n",
    "\n",
    "img = cv2.imread('poker.jpg')\n",
    "\n",
    "cv2.namedWindow('img') # img란 이름의 윈도우를 먼저 만들어두는것, 여기에 마우스 이벤트를 처리하기 위한 핸들러 적용 \n",
    "cv2.setMouseCallback('img', mouse_handler)\n",
    "cv2.imshow('img',img)\n",
    "\n",
    "cv2.waitKey(0)\n",
    "cv2.destroyAllWindows()"
   ]
  },
  {
   "cell_type": "markdown",
   "id": "478177fd",
   "metadata": {},
   "source": [
    "### 프로젝트"
   ]
  },
  {
   "cell_type": "code",
   "execution_count": 22,
   "id": "301dd59b",
   "metadata": {},
   "outputs": [],
   "source": [
    "import cv2\n",
    "import numpy as np\n",
    "\n",
    "points = []\n",
    "src_img = cv2.imread('poker.jpg')\n",
    "\n",
    "COLOR = (255,0,255)\n",
    "THICKNESS = 3 \n",
    "\n",
    "drawing = False # 선을 그릴지 여부\n",
    "\n",
    "\n",
    "def mouse_handler(event, x, y, flags, praram):\n",
    "    global drawing\n",
    "    dst_img = src_img.copy() # 핸들러 탈때마다 새로 이미지 만들어서 표시 \n",
    "    if event == cv2.EVENT_LBUTTONDOWN:\n",
    "        drawing = True;\n",
    "        points.append((x, y))\n",
    "    \n",
    "    if drawing:\n",
    "        prev_point = None # 직선의 시작점\n",
    "        for point in points:\n",
    "            cv2.circle(dst_img, point, 15, COLOR, cv2.FILLED)\n",
    "            if prev_point:\n",
    "                cv2.line(dst_img, prev_point, point, COLOR, THICKNESS, cv2.LINE_AA)\n",
    "            prev_point = point\n",
    "            \n",
    "        next_point = (x,y)\n",
    "        if len(points) == 4:\n",
    "            show_result()\n",
    "            next_point = points[0] # 첫번째 점과 이음 \n",
    "    \n",
    "        cv2.line(dst_img, prev_point, next_point, COLOR, THICKNESS, cv2.LINE_AA)\n",
    "\n",
    "    cv2.imshow('img',dst_img)\n",
    "\n",
    "def show_result():\n",
    "    width, height = 530,710\n",
    "\n",
    "    src = np.float32(points)\n",
    "    dst = np.array([[0,0],[width,0],[width,height],[0,height]], dtype = np.float32)\n",
    "    # 좌상, 우상 , 우하, 좌하 ( 시계방향으로 4개 지점 정의)\n",
    "\n",
    "    matrix = cv2.getPerspectiveTransform(src,dst); # matrix 얻어옴\n",
    "    result = cv2.warpPerspective(img, matrix, (width,height))    \n",
    "    cv2.imshow('result',result)\n",
    "\n",
    "cv2.namedWindow('img') # img란 이름의 윈도우를 먼저 만들어두는것, 여기에 마우스 이벤트를 처리하기 위한 핸들러 적용 \n",
    "cv2.setMouseCallback('img', mouse_handler)\n",
    "\n",
    "cv2.waitKey(0)\n",
    "cv2.destroyAllWindows()"
   ]
  }
 ],
 "metadata": {
  "kernelspec": {
   "display_name": "Python 3 (ipykernel)",
   "language": "python",
   "name": "python3"
  },
  "language_info": {
   "codemirror_mode": {
    "name": "ipython",
    "version": 3
   },
   "file_extension": ".py",
   "mimetype": "text/x-python",
   "name": "python",
   "nbconvert_exporter": "python",
   "pygments_lexer": "ipython3",
   "version": "3.9.12"
  }
 },
 "nbformat": 4,
 "nbformat_minor": 5
}
