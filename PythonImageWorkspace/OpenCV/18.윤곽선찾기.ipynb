{
 "cells": [
  {
   "cell_type": "markdown",
   "id": "e2046d7a",
   "metadata": {},
   "source": [
    "18. 이미지 검출 (윤곽선)\n",
    "윤곽선 (CONTOUR) "
   ]
  },
  {
   "cell_type": "code",
   "execution_count": 1,
   "id": "ed7f4d54",
   "metadata": {},
   "outputs": [],
   "source": [
    "import cv2\n",
    "img = cv2.imread('card.png')\n",
    "target_img = img.copy()\n",
    "\n",
    "gray = cv2.cvtColor(img, cv2.COLOR_BGR2GRAY)\n",
    "ret, otsu = cv2.threshold(gray, -1, 255, cv2.THRESH_BINARY | cv2.THRESH_OTSU)\n",
    "\n",
    "contours, hierarchy = cv2.findContours(otsu, cv2.RETR_LIST, cv2.CHAIN_APPROX_NONE)\n",
    "# 윤곽 선 정보, 구조\n",
    "# 이미지, 윤곽선 찾는 모드, 찾는 근사치 방법 (method)\n",
    "\n",
    "COLOR = (0, 200, 0)\n",
    "THICKNESS = 2\n",
    "cv2.drawContours(target_img, contours, -1, COLOR, THICKNESS)\n",
    "# 대상이미지, 윤곽선 정보, 인덱스, (-1이면 전체), 색깔, 두께\n",
    "\n",
    "cv2.imshow('img', img)\n",
    "cv2.imshow('gray', gray)\n",
    "cv2.imshow('otsu', otsu)\n",
    "cv2.imshow('contour', target_img)\n",
    "\n",
    "\n",
    "cv2.waitKey(0)\n",
    "cv2.destroyAllWindows()"
   ]
  },
  {
   "cell_type": "markdown",
   "id": "e86d28c6",
   "metadata": {},
   "source": [
    "### 윤곽선 찾기 모드\n",
    "1. cv2.RETR_EXTERNAL : 가장 외곽의 윤곽선만 찾음 \n",
    "2. cv2.RETR_LIST : 모든  윤곽선만 찾음 (계층 정보 없음)\n",
    "3. cv2.RETR_TREE : 가장 외곽의 윤곽선만 찾음 (계층 정보를 트리구조로 생성)"
   ]
  },
  {
   "cell_type": "code",
   "execution_count": 2,
   "id": "c0257e25",
   "metadata": {},
   "outputs": [],
   "source": [
    "import cv2\n",
    "img = cv2.imread('card.png')\n",
    "target_img = img.copy()\n",
    "\n",
    "gray = cv2.cvtColor(img, cv2.COLOR_BGR2GRAY)\n",
    "ret, otsu = cv2.threshold(gray, -1, 255, cv2.THRESH_BINARY | cv2.THRESH_OTSU)\n",
    "\n",
    "contours, hierarchy = cv2.findContours(otsu, cv2.RETR_LIST, cv2.CHAIN_APPROX_NONE)\n",
    "# print(hierarchy)\n",
    "# print(f'총발견개수 : {len(contours)}')\n",
    "# 윤곽 선 정보, 구조\n",
    "# 이미지, 윤곽선 찾는 모드, 찾는 근사치 방법 (method)\n",
    "#  CHAIN_APPROX_MODE, CHAIN_APPROX_SIMPLE \n",
    "\n",
    "    \n",
    "\n",
    "COLOR = (0, 200, 0)\n",
    "THICKNESS = 2\n",
    "cv2.drawContours(target_img, contours, -1, COLOR, THICKNESS)\n",
    "# 대상이미지, 윤곽선 정보, 인덱스, (-1이면 전체), 색깔, 두께\n",
    "\n",
    "cv2.imshow('img', img)\n",
    "cv2.imshow('gray', gray)\n",
    "cv2.imshow('otsu', otsu)\n",
    "cv2.imshow('contour', target_img)\n",
    "\n",
    "\n",
    "cv2.waitKey(0)\n",
    "cv2.destroyAllWindows()"
   ]
  },
  {
   "cell_type": "markdown",
   "id": "0394841b",
   "metadata": {},
   "source": [
    "# 경계 사각형"
   ]
  },
  {
   "cell_type": "code",
   "execution_count": 3,
   "id": "903be4cf",
   "metadata": {},
   "outputs": [],
   "source": [
    "import cv2\n",
    "img = cv2.imread('card.png')\n",
    "target_img = img.copy()\n",
    "\n",
    "gray = cv2.cvtColor(img, cv2.COLOR_BGR2GRAY)\n",
    "ret, otsu = cv2.threshold(gray, -1, 255, cv2.THRESH_BINARY | cv2.THRESH_OTSU)\n",
    "\n",
    "contours, hierarchy = cv2.findContours(otsu, cv2.RETR_LIST, cv2.CHAIN_APPROX_NONE)\n",
    "# print(hierarchy)\n",
    "# print(f'총발견개수 : {len(contours)}')\n",
    "# 윤곽 선 정보, 구조\n",
    "# 이미지, 윤곽선 찾는 모드, 찾는 근사치 방법 (method)\n",
    "\n",
    "\n",
    "\n",
    "COLOR = (0, 200, 0)\n",
    "THICKNESS = 2\n",
    "for cnt in contours:\n",
    "    x,y,width,height = cv2.boundingRect(cnt)\n",
    "    cv2.rectangle(target_img,(x,y),(x+width,y+height),COLOR,THICKNESS)\n",
    "\n",
    "cv2.drawContours(target_img, contours, -1, COLOR, THICKNESS)\n",
    "# 대상이미지, 윤곽선 정보, 인덱스, (-1이면 전체), 색깔, 두께\n",
    "\n",
    "cv2.imshow('img', img)\n",
    "cv2.imshow('gray', gray)\n",
    "cv2.imshow('otsu', otsu)\n",
    "cv2.imshow('contour', target_img)\n",
    "\n",
    "cv2.waitKey(0)\n",
    "cv2.destroyAllWindows()"
   ]
  },
  {
   "cell_type": "markdown",
   "id": "8c9f1f14",
   "metadata": {},
   "source": [
    "# 면적 \n",
    "> contourArea()"
   ]
  },
  {
   "cell_type": "code",
   "execution_count": 4,
   "id": "5cbdddb5",
   "metadata": {},
   "outputs": [],
   "source": [
    "import cv2\n",
    "img = cv2.imread('card.png')\n",
    "target_img = img.copy()\n",
    "\n",
    "gray = cv2.cvtColor(img, cv2.COLOR_BGR2GRAY)\n",
    "ret, otsu = cv2.threshold(gray, -1, 255, cv2.THRESH_BINARY | cv2.THRESH_OTSU)\n",
    "\n",
    "contours, hierarchy = cv2.findContours(otsu, cv2.RETR_LIST, cv2.CHAIN_APPROX_NONE)\n",
    "\n",
    "COLOR = (0, 200, 0)\n",
    "THICKNESS = 2\n",
    "\n",
    "for cnt in contours:\n",
    "    if cv2.contourArea(cnt) > 25000:\n",
    "        x,y,width,height = cv2.boundingRect(cnt)\n",
    "        cv2.rectangle(target_img,(x, y),(x + width,y + height), COLOR, THICKNESS)\n",
    "\n",
    "# cv2.drawContours(target_img, contours, -1, COLOR, THICKNESS)\n",
    "\n",
    "cv2.imshow('img', img)\n",
    "cv2.imshow('contour', target_img)\n",
    "\n",
    "cv2.waitKey(0)\n",
    "cv2.destroyAllWindows()"
   ]
  },
  {
   "cell_type": "code",
   "execution_count": 5,
   "id": "780db498",
   "metadata": {},
   "outputs": [],
   "source": [
    "a = 2\n",
    "b = 3 "
   ]
  },
  {
   "cell_type": "code",
   "execution_count": 8,
   "id": "32ca9445",
   "metadata": {},
   "outputs": [
    {
     "name": "stdout",
     "output_type": "stream",
     "text": [
      "2\n",
      "3\n"
     ]
    }
   ],
   "source": [
    "print(a)\n",
    "print(b)"
   ]
  }
 ],
 "metadata": {
  "kernelspec": {
   "display_name": "Python 3 (ipykernel)",
   "language": "python",
   "name": "python3"
  },
  "language_info": {
   "codemirror_mode": {
    "name": "ipython",
    "version": 3
   },
   "file_extension": ".py",
   "mimetype": "text/x-python",
   "name": "python",
   "nbconvert_exporter": "python",
   "pygments_lexer": "ipython3",
   "version": "3.9.12"
  }
 },
 "nbformat": 4,
 "nbformat_minor": 5
}
