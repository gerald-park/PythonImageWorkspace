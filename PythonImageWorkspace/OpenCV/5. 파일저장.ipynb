{
 "cells": [
  {
   "cell_type": "markdown",
   "id": "a8cff2ff",
   "metadata": {},
   "source": [
    "# 5. 파일저장\n",
    "## 이미지 저장"
   ]
  },
  {
   "cell_type": "code",
   "execution_count": 1,
   "id": "b63217b0",
   "metadata": {
    "scrolled": false
   },
   "outputs": [
    {
     "name": "stdout",
     "output_type": "stream",
     "text": [
      "True\n"
     ]
    }
   ],
   "source": [
    "import cv2 \n",
    "img = cv2.imread('img.jpg', cv2.IMREAD_GRAYSCALE) \n",
    "cv2.imshow('img', img)\n",
    "cv2.waitKey(0)\n",
    "cv2.destroyAllWindows()\n",
    "\n",
    "result = cv2.imwrite('img_save.jpg', img)\n",
    "print(result)"
   ]
  },
  {
   "cell_type": "markdown",
   "id": "91b75079",
   "metadata": {},
   "source": [
    "### 저장 포맷 변경 (png)\n",
    "확장자만변경하면됨"
   ]
  },
  {
   "cell_type": "code",
   "execution_count": 4,
   "id": "8cdc7ccd",
   "metadata": {},
   "outputs": [
    {
     "name": "stdout",
     "output_type": "stream",
     "text": [
      "True\n"
     ]
    }
   ],
   "source": [
    "import cv2 \n",
    "img = cv2.imread('img.jpg', cv2.IMREAD_GRAYSCALE) \n",
    "cv2.imshow('img', img)\n",
    "cv2.waitKey(0)\n",
    "cv2.destroyAllWindows()\n",
    "\n",
    "result = cv2.imwrite('img_save.png', img) # png 형태로 저장\n",
    "print(result)"
   ]
  },
  {
   "cell_type": "markdown",
   "id": "aea282bf",
   "metadata": {},
   "source": [
    "## 동영상 저장 "
   ]
  },
  {
   "cell_type": "code",
   "execution_count": 7,
   "id": "222a9329",
   "metadata": {},
   "outputs": [],
   "source": [
    "import cv2 \n",
    "cap = cv2.VideoCapture('video.mp4')\n",
    "\n",
    "#코덱정의\n",
    "fourcc = cv2.VideoWriter_fourcc(*'DIVX')\n",
    "width = round(cap.get(cv2.CAP_PROP_FRAME_WIDTH))\n",
    "height = round(cap.get(cv2.CAP_PROP_FRAME_HEIGHT))\n",
    "fps = cap.get(cv2.CAP_PROP_FPS)\n",
    "\n",
    "out = cv2.VideoWriter('output.avi', fourcc, fps, (width, height))\n",
    "# 저장 파일명 ,코덱, FPS, 크기 (width, height)\n",
    "\n",
    "\n",
    "while cap.isOpened():\n",
    "    ret, frame = cap.read()\n",
    "    if not ret:\n",
    "        break\n",
    "        \n",
    "    out.write(frame) #영상데이터만 저장 소리는 안됨\n",
    "    cv2.imshow('video', frame)\n",
    "    if cv2.waitKey(1) == ord('q'):\n",
    "        break\n",
    "        \n",
    "out.release() #자원해제\n",
    "cap.release()\n",
    "cv2.destroyAllWindows()\n"
   ]
  },
  {
   "cell_type": "markdown",
   "id": "a2eb6f4c",
   "metadata": {},
   "source": [
    "* *을 붙이면 문자가 낱개로 뜯어져서 리스트에 저장됨"
   ]
  },
  {
   "cell_type": "code",
   "execution_count": 6,
   "id": "edaf609a",
   "metadata": {},
   "outputs": [
    {
     "name": "stdout",
     "output_type": "stream",
     "text": [
      "['DIVX']\n",
      "['D', 'I', 'V', 'X']\n"
     ]
    }
   ],
   "source": [
    "codec = 'DIVX'\n",
    "print([codec])\n",
    "print([*codec])"
   ]
  }
 ],
 "metadata": {
  "kernelspec": {
   "display_name": "Python 3 (ipykernel)",
   "language": "python",
   "name": "python3"
  },
  "language_info": {
   "codemirror_mode": {
    "name": "ipython",
    "version": 3
   },
   "file_extension": ".py",
   "mimetype": "text/x-python",
   "name": "python",
   "nbconvert_exporter": "python",
   "pygments_lexer": "ipython3",
   "version": "3.9.12"
  }
 },
 "nbformat": 4,
 "nbformat_minor": 5
}
