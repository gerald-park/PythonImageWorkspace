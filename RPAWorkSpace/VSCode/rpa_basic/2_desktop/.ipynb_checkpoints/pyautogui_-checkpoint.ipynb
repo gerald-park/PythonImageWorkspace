{
 "cells": [
  {
   "cell_type": "markdown",
   "id": "4a34c91e-9e64-4bfc-ae0a-04ae2b642c94",
   "metadata": {},
   "source": [
    "# 마우스 조작"
   ]
  },
  {
   "cell_type": "code",
   "execution_count": null,
   "id": "f8218984-0011-4ab2-9e78-862cc3736a6c",
   "metadata": {},
   "outputs": [],
   "source": [
    "import pyautogui\n",
    "pyautogui.FAILSAFE = False\n",
    "pyautogui.PAUSE = 1 # 모든 동작에 1초씩 sleep 적용\n",
    "pyautogui.mouseInfo()\n",
    "\n",
    "for i in range(5):\n",
    "    pyautogui.move(100, 100)"
   ]
  }
 ],
 "metadata": {
  "kernelspec": {
   "display_name": "Python 3 (ipykernel)",
   "language": "python",
   "name": "python3"
  },
  "language_info": {
   "codemirror_mode": {
    "name": "ipython",
    "version": 3
   },
   "file_extension": ".py",
   "mimetype": "text/x-python",
   "name": "python",
   "nbconvert_exporter": "python",
   "pygments_lexer": "ipython3",
   "version": "3.9.12"
  }
 },
 "nbformat": 4,
 "nbformat_minor": 5
}
