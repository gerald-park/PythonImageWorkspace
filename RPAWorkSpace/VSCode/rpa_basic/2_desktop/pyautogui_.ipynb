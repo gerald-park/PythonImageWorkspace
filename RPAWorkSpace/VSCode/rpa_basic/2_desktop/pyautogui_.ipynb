{
 "cells": [
  {
   "cell_type": "markdown",
   "id": "4a34c91e-9e64-4bfc-ae0a-04ae2b642c94",
   "metadata": {},
   "source": [
    "# 마우스 조작"
   ]
  },
  {
   "cell_type": "code",
   "execution_count": 10,
   "id": "f8218984-0011-4ab2-9e78-862cc3736a6c",
   "metadata": {},
   "outputs": [],
   "source": [
    "import pyautogui\n",
    "pyautogui.FAILSAFE = False\n",
    "pyautogui.PAUSE = 1 # 모든 동작에 1초씩 sleep 적용\n",
    "\n",
    "\n",
    "for i in range(5):\n",
    "    pyautogui.move(100, 100)\n",
    "    \n",
    "pyautogui.moveRel(0, 10)\n",
    "pyautogui.doubleClick()"
   ]
  },
  {
   "cell_type": "code",
   "execution_count": 11,
   "id": "77b06898-9e29-4bb6-a99f-dadaa1ea241d",
   "metadata": {},
   "outputs": [],
   "source": [
    "## 마우스 위치 정보및 각종 정보를 얻기"
   ]
  },
  {
   "cell_type": "code",
   "execution_count": 12,
   "id": "09b8d260-6993-4eb4-8760-5528bbc1ce8b",
   "metadata": {},
   "outputs": [],
   "source": [
    "pyautogui.mouseInfo()"
   ]
  },
  {
   "cell_type": "code",
   "execution_count": 13,
   "id": "bf7a4b45-fedb-4750-95f6-287d2026971f",
   "metadata": {},
   "outputs": [
    {
     "name": "stderr",
     "output_type": "stream",
     "text": [
      "2022-08-19 06:44:32,726 [DEBUG] 로그를 남겨보는 테스트를 진행합니다.\n"
     ]
    }
   ],
   "source": [
    "import logging\n",
    "from datetime import datetime\n",
    "# 시간 [로그레벨] 메시지 형태로 로그를 작성\n",
    "logFormatter = logging.Formatter(\"%(asctime)s [%(levelname)s] %(message)s\") \n",
    "logger = logging.getLogger()\n",
    "# 로그 레벨 설정\n",
    "logger.setLevel(logging.DEBUG)\n",
    "\n",
    "# 스트림 (터미널)\n",
    "streamHandler = logging.StreamHandler()\n",
    "streamHandler.setFormatter(logFormatter)\n",
    "logger.addHandler(streamHandler)\n",
    "\n",
    "# 파일\n",
    "filename = datetime.now().strftime(\"mylogfile_%Y%m%d%H%M%S.log\") # mylogfile_20201010141011.log\n",
    "fileHandler = logging.FileHandler(filename, encoding=\"utf-8\")\n",
    "fileHandler.setFormatter(logFormatter)\n",
    "logger.addHandler(fileHandler)\n",
    "\n",
    "logger.debug(\"로그를 남겨보는 테스트를 진행합니다.\")"
   ]
  },
  {
   "cell_type": "code",
   "execution_count": 15,
   "id": "b4ddcac3-ec4f-4632-8412-7acc43b0346c",
   "metadata": {},
   "outputs": [
    {
     "ename": "AttributeError",
     "evalue": "module 'pyautogui' has no attribute 'getActiveWindow'",
     "output_type": "error",
     "traceback": [
      "\u001b[0;31m---------------------------------------------------------------------------\u001b[0m",
      "\u001b[0;31mAttributeError\u001b[0m                            Traceback (most recent call last)",
      "Input \u001b[0;32mIn [16]\u001b[0m, in \u001b[0;36m<cell line: 9>\u001b[0;34m()\u001b[0m\n\u001b[1;32m      1\u001b[0m \u001b[38;5;28;01mimport\u001b[39;00m \u001b[38;5;21;01mpyautogui\u001b[39;00m\n\u001b[1;32m      3\u001b[0m \u001b[38;5;66;03m# fw = pyautogui.getActiveWindow() # 현재 활성화된 창 (VSCode)\u001b[39;00m\n\u001b[1;32m      4\u001b[0m \u001b[38;5;66;03m# print(fw.title) # 창의 제목 정보\u001b[39;00m\n\u001b[1;32m      5\u001b[0m \u001b[38;5;66;03m# print(fw.size) # 창의 크기 정보 (width, height)\u001b[39;00m\n\u001b[1;32m      6\u001b[0m \u001b[38;5;66;03m# print(fw.left, fw.top, fw.right, fw.bottom) # 창의 좌표 정보\u001b[39;00m\n\u001b[1;32m      7\u001b[0m \u001b[38;5;66;03m# pyautogui.click(fw.left + 25, fw.top + 20)\u001b[39;00m\n\u001b[0;32m----> 9\u001b[0m \u001b[38;5;28;01mfor\u001b[39;00m w \u001b[38;5;129;01min\u001b[39;00m \u001b[43mpyautogui\u001b[49m\u001b[38;5;241;43m.\u001b[39;49m\u001b[43mgetActiveWindow\u001b[49m():\n\u001b[1;32m     10\u001b[0m     \u001b[38;5;28mprint\u001b[39m(w) \u001b[38;5;66;03m# 모든 윈도우 가져오기\u001b[39;00m\n\u001b[1;32m     12\u001b[0m \u001b[38;5;66;03m# w = pyautogui.getWindowsWithTitle(\"제목 없음\")[0]\u001b[39;00m\n\u001b[1;32m     13\u001b[0m \u001b[38;5;66;03m# print(w)\u001b[39;00m\n",
      "\u001b[0;31mAttributeError\u001b[0m: module 'pyautogui' has no attribute 'getActiveWindow'"
     ]
    }
   ],
   "source": [
    "import pyautogui\n",
    "\n",
    "# fw = pyautogui.getActiveWindow() # 현재 활성화된 창 (VSCode)\n",
    "# print(fw.title) # 창의 제목 정보\n",
    "# print(fw.size) # 창의 크기 정보 (width, height)\n",
    "# print(fw.left, fw.top, fw.right, fw.bottom) # 창의 좌표 정보\n",
    "# pyautogui.click(fw.left + 25, fw.top + 20)\n",
    "\n",
    "for w in pyautogui.getActiveWindow():\n",
    "    print(w) # 모든 윈도우 가져오기\n",
    "\n",
    "# w = pyautogui.getWindowsWithTitle(\"제목 없음\")[0]\n",
    "# print(w)\n",
    "if w.isActive == False: # 현재 활성화가 되지 않았다면\n",
    "    w.activate() # 활성화 (맨 앞으로 가져오기)\n",
    "\n",
    "if w.isMaximized == False: # 현재 최대화가 되지 않았다면\n",
    "    w.maximize() # 최대화\n",
    "\n",
    "pyautogui.sleep(1)\n",
    "\n",
    "# if w.isMinimized == False : # 현재 최소화가 되지 않았다면\n",
    "#     w.minimize() # 최소화\n",
    "\n",
    "w.restore() # 화면 원복\n",
    "\n",
    "w.close() # 윈도우 닫기"
   ]
  }
 ],
 "metadata": {
  "kernelspec": {
   "display_name": "Python 3 (ipykernel)",
   "language": "python",
   "name": "python3"
  },
  "language_info": {
   "codemirror_mode": {
    "name": "ipython",
    "version": 3
   },
   "file_extension": ".py",
   "mimetype": "text/x-python",
   "name": "python",
   "nbconvert_exporter": "python",
   "pygments_lexer": "ipython3",
   "version": "3.9.12"
  }
 },
 "nbformat": 4,
 "nbformat_minor": 5
}
