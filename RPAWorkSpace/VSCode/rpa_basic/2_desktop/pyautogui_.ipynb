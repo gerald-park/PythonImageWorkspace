{
 "cells": [
  {
   "cell_type": "markdown",
   "id": "4a34c91e-9e64-4bfc-ae0a-04ae2b642c94",
   "metadata": {},
   "source": [
    "# 키보드 마우스 화면 조작하기\n",
    "pyautogui"
   ]
  },
  {
   "cell_type": "markdown",
   "id": "b962a367-e686-4a8c-9ff7-3b5e612bbd50",
   "metadata": {},
   "source": [
    "현재 화면 스크린 사이즈 알기"
   ]
  },
  {
   "cell_type": "code",
   "execution_count": 1,
   "id": "9f0a5f5a-30f8-4fff-801b-35eaa5197972",
   "metadata": {},
   "outputs": [
    {
     "name": "stdout",
     "output_type": "stream",
     "text": [
      "Size(width=1920, height=1080)\n"
     ]
    }
   ],
   "source": [
    "import pyautogui\n",
    "\n",
    "size = pyautogui.size() # 현재 화면의 스크린 사이즈를 가져옴\n",
    "print(size) # 가로, 세로 크기를 알 수 있음 "
   ]
  },
  {
   "cell_type": "markdown",
   "id": "70074a5b-c6a6-40a8-a112-5773e49c49aa",
   "metadata": {},
   "source": [
    "## 마우스 조작하기"
   ]
  },
  {
   "cell_type": "markdown",
   "id": "3e106910-eee9-4501-8e5e-d25a36d98e66",
   "metadata": {},
   "source": [
    "### 마우스 좌표 이동\n",
    "pyautogui.moveTo(x, y) # 지정한 위치(가로 x, 세로 y)로 마우스를 이동"
   ]
  },
  {
   "cell_type": "code",
   "execution_count": null,
   "id": "cfa4afd9-4baa-4c6f-b87c-5fdc2b621e86",
   "metadata": {},
   "outputs": [],
   "source": [
    "pyautogui.moveTo(500, 300)"
   ]
  },
  {
   "cell_type": "code",
   "execution_count": null,
   "id": "6475ab5d",
   "metadata": {},
   "outputs": [],
   "source": [
    "pyautogui.moveTo(100, 100, duration=1.0)\n",
    "pyautogui.moveTo(200, 200, duration=1.0)\n",
    "pyautogui.moveTo(300, 300, duration=1.0)"
   ]
  },
  {
   "cell_type": "markdown",
   "id": "0c288019",
   "metadata": {},
   "source": [
    "상대 좌표로 이동"
   ]
  },
  {
   "cell_type": "code",
   "execution_count": null,
   "id": "4d320f88-10e3-48d9-b17e-8d5950e92909",
   "metadata": {},
   "outputs": [],
   "source": [
    "pyautogui.move(100, 100, duration=0.25) # 100, 100 기준으로 +100, +100 -> 200, 200\n",
    "print(pyautogui.position()) # Point(x, y)\n",
    "pyautogui.move(100, 100, duration=0.25) # 200, 200 기준으로 -> 300, 300\n",
    "print(pyautogui.position()) # Point(x, y)"
   ]
  },
  {
   "cell_type": "code",
   "execution_count": null,
   "id": "bcaf2ffc",
   "metadata": {},
   "outputs": [],
   "source": [
    "p = pyautogui.position()\n",
    "print(p[0], p[1]) # x, y\n",
    "print(p.x, p.y) # x, y"
   ]
  },
  {
   "cell_type": "markdown",
   "id": "76bd5906",
   "metadata": {},
   "source": [
    "## 마우스 액션"
   ]
  },
  {
   "cell_type": "markdown",
   "id": "aa6b557e",
   "metadata": {},
   "source": [
    "마우스 클릭하기"
   ]
  },
  {
   "cell_type": "code",
   "execution_count": null,
   "id": "5301e4a7",
   "metadata": {},
   "outputs": [],
   "source": [
    "pyautogui.click(300, 500, duration=1) # 1초 동안 (64, 17) 좌표로 이동 후 마우스 클릭\n",
    "pyautogui.sleep(3) \n",
    "\n",
    "pyautogui.mouseDown()\n",
    "pyautogui.sleep(3) \n",
    "pyautogui.mouseUp()"
   ]
  },
  {
   "cell_type": "markdown",
   "id": "00f3dc5f",
   "metadata": {},
   "source": [
    "마우스 누르고 3초뒤에 떼기"
   ]
  },
  {
   "cell_type": "code",
   "execution_count": null,
   "id": "c67ed4dc",
   "metadata": {},
   "outputs": [],
   "source": [
    "pyautogui.mouseDown()\n",
    "pyautogui.sleep(3) \n",
    "pyautogui.mouseUp()"
   ]
  },
  {
   "cell_type": "code",
   "execution_count": null,
   "id": "fdaa8d08",
   "metadata": {},
   "outputs": [],
   "source": [
    "pyautogui.sleep(3) # 3초 대기\n",
    "pyautogui.doubleClick()\n",
    "pyautogui.sleep(3) # 3초 대기\n",
    "pyautogui.click(clicks=500) # 500번 클릭하기 "
   ]
  },
  {
   "cell_type": "code",
   "execution_count": null,
   "id": "555f2bc2",
   "metadata": {},
   "outputs": [],
   "source": [
    "pyautogui.sleep(3) # 3초 대기\n",
    "pyautogui.moveTo(200, 200)\n",
    "pyautogui.mouseDown() # 마우스 버튼 누른 상태\n",
    "pyautogui.moveTo(300, 300)\n",
    "pyautogui.mouseUp() # 마우스 버튼 뗀 상태"
   ]
  },
  {
   "cell_type": "code",
   "execution_count": null,
   "id": "443a9848",
   "metadata": {},
   "outputs": [],
   "source": [
    "pyautogui.sleep(3) # 3초 대기\n",
    "pyautogui.rightClick()"
   ]
  },
  {
   "cell_type": "code",
   "execution_count": null,
   "id": "93ce4537",
   "metadata": {},
   "outputs": [],
   "source": [
    "pyautogui.drag(100, 0, button = 'left') # 현재 위치 기준으로 x 100 만큼, y 0 만큼 드래그"
   ]
  },
  {
   "cell_type": "code",
   "execution_count": null,
   "id": "b481706c",
   "metadata": {},
   "outputs": [],
   "source": [
    "print(pyautogui.position())\n",
    "pyautogui.moveTo(1114, 349)\n",
    "\n",
    "pyautogui.drag(100, 0, button = 'left', duration=0.25) # 너무 빠른 동작으로 drag 수행이 안될때는 duration 값 설정\n",
    "pyautogui.dragTo(1514, 349,button = 'right', duration=0.25) # 절대 좌표 기준으로 x 1514, y 349 로 드래그\n",
    "\n"
   ]
  },
  {
   "cell_type": "code",
   "execution_count": null,
   "id": "908dc24b",
   "metadata": {},
   "outputs": [],
   "source": [
    "pyautogui.scroll(300) # 양수이면 위 방향으로, 음수이면 아래 방향으로 300만큼 스크롤."
   ]
  },
  {
   "cell_type": "markdown",
   "id": "e15f62a4",
   "metadata": {},
   "source": [
    "## 스크린샷 찍기"
   ]
  },
  {
   "cell_type": "code",
   "execution_count": null,
   "id": "a5c9fb98",
   "metadata": {},
   "outputs": [],
   "source": [
    "img = pyautogui.screenshot()\n",
    "img.save(\"screenshot.png\") # 파일로 저장"
   ]
  },
  {
   "cell_type": "code",
   "execution_count": null,
   "id": "a1ad878d",
   "metadata": {
    "scrolled": false
   },
   "outputs": [],
   "source": [
    "pyautogui.mouseInfo()"
   ]
  },
  {
   "cell_type": "markdown",
   "id": "9d85709e",
   "metadata": {},
   "source": [
    "# 28,18 34,167,242 #22A7F2"
   ]
  },
  {
   "cell_type": "code",
   "execution_count": null,
   "id": "5fea1929",
   "metadata": {},
   "outputs": [],
   "source": [
    "pixel = pyautogui.pixel(28, 18)\n",
    "print(pixel)"
   ]
  },
  {
   "cell_type": "code",
   "execution_count": null,
   "id": "66848d7a",
   "metadata": {},
   "outputs": [],
   "source": [
    "print(pyautogui.pixelMatchesColor(28, 18, (34,167,242)))\n",
    "print(pyautogui.pixelMatchesColor(28, 18, pixel))\n",
    "print(pyautogui.pixelMatchesColor(28, 18, (34,167,243)))"
   ]
  },
  {
   "cell_type": "markdown",
   "id": "81d418d8",
   "metadata": {},
   "source": [
    "# 이미지 인식"
   ]
  },
  {
   "cell_type": "code",
   "execution_count": null,
   "id": "08fe8cc6",
   "metadata": {},
   "outputs": [],
   "source": [
    "file_menu = pyautogui.locateOnScreen(\"file_menu.png\")\n",
    "print(file_menu)\n",
    "pyautogui.click(file_menu)\n",
    "pyautogui.click()"
   ]
  },
  {
   "cell_type": "code",
   "execution_count": null,
   "id": "1be5e229",
   "metadata": {},
   "outputs": [],
   "source": [
    "shape_menu = pyautogui.locateOnScreen(\"shape_menu.png\", grayscale=False, confidence=1.0)\n",
    "print(shape_menu)\n",
    "pyautogui.click(shape_menu)\n",
    "pyautogui.click()"
   ]
  },
  {
   "cell_type": "code",
   "execution_count": null,
   "id": "57d25c3f",
   "metadata": {},
   "outputs": [],
   "source": [
    "\n",
    "# trash_icon = pyautogui.locateOnScreen(\"trash_icon.png\")\n",
    "# pyautogui.moveTo(trash_icon)\n",
    "\n",
    "# screen = pyautogui.locateOnScreen(\"screenshot.png\")\n",
    "# print(screen)\n",
    "\n",
    "# for i in pyautogui.locateAllOnScreen(\"checkbox.png\"):\n",
    "#     print(i)\n",
    "#     pyautogui.click(i, duration=0.25)\n",
    "\n",
    "# checkbox = pyautogui.locateOnScreen(\"checkbox.png\")\n",
    "# pyautogui.click(checkbox)\n",
    "\n",
    "# trash_icon = pyautogui.locateOnScreen(\"trash_icon.png\")\n",
    "# pyautogui.moveTo(trash_icon)\n",
    "\n",
    "# 속도 개선\n",
    "# 1. GrayScale\n",
    "# trash_icon = pyautogui.locateOnScreen(\"trash_icon.png\", grayscale=True)\n",
    "# pyautogui.moveTo(trash_icon)\n",
    "\n",
    "# 2. 범위 지정\n",
    "# trash_icon = pyautogui.locateOnScreen(\"trash_icon.png\", region=(1488, 623, 1881 - 1488, 137))\n",
    "# pyautogui.moveTo(trash_icon)\n",
    "\n",
    "# 3. 정확도 조정\n",
    "# run_btn = pyautogui.locateOnScreen(\"run_btn.png\", confidence=0.9) # 90%\n",
    "# pyautogui.moveTo(run_btn)\n",
    "\n",
    "\n",
    "# 자동화 대상이 바로 보여지지 않는 경우\n",
    "# 1. 계속 기다리기\n",
    "#file_menu_notepad = pyautogui.locateOnScreen(\"file_menu_notepad.png\")\n",
    "# if file_menu_notepad:\n",
    "#     pyautogui.click(file_menu_notepad)\n",
    "# else:\n",
    "#     print(\"발견 실패\")\n",
    "# while file_menu_notepad is None:\n",
    "#     file_menu_notepad = pyautogui.locateOnScreen(\"file_menu_notepad.png\")\n",
    "#     print(\"발견 실패\")\n",
    "#pyautogui.click(file_menu_notepad)\n"
   ]
  },
  {
   "cell_type": "markdown",
   "id": "7df0d061",
   "metadata": {},
   "source": [
    "# 일정 시간동안 기다리기 (TimeOut)"
   ]
  },
  {
   "cell_type": "code",
   "execution_count": null,
   "id": "50bb4270",
   "metadata": {},
   "outputs": [],
   "source": [
    "\n",
    "import time\n",
    "import sys\n",
    "\n",
    "timeout = 10 # 10초 대기\n",
    "# start = time.time() # 시작 시간 설정\n",
    "# file_menu_notepad = None\n",
    "# while file_menu_notepad is None:\n",
    "#     file_menu_notepad = pyautogui.locateOnScreen(\"file_menu_notepad.png\")\n",
    "#     end = time.time() # 종료 시간 설정\n",
    "#     if end - start > timeout: # 지정한 10초를 초과하면\n",
    "#         print(\"시간 종료\")\n",
    "#         sys.exit()\n",
    "\n",
    "def find_target(img_file, timeout=30):\n",
    "    start = time.time()\n",
    "    target = None\n",
    "    while target is None:\n",
    "        target = pyautogui.locateOnScreen(img_file)\n",
    "        end = time.time()\n",
    "        if end - start > timeout:\n",
    "            break\n",
    "    return target\n",
    "\n",
    "def my_click(img_file, timeout=30):\n",
    "    target = find_target(img_file, timeout)\n",
    "    if target:\n",
    "        pyautogui.doubleClick(target)\n",
    "        print('target is clicked')\n",
    "    else:\n",
    "        print(f\"[Timeout {timeout}s] Target not found ({img_file}). Terminate program.\")\n",
    "        sys.exit()\n",
    "\n",
    "#pyautogui.click(file_menu_notepad)\n",
    "\n",
    "my_click(\"file_menu.png\", 10)\n"
   ]
  },
  {
   "cell_type": "markdown",
   "id": "79873dc5",
   "metadata": {},
   "source": [
    "# 윈도우 컨트롤\n",
    "창 정보,위치, 활성화, 최대/최소화 제어"
   ]
  },
  {
   "cell_type": "code",
   "execution_count": 4,
   "id": "8dac3319",
   "metadata": {},
   "outputs": [
    {
     "name": "stdout",
     "output_type": "stream",
     "text": [
      "pyautogui_ - Jupyter Notebook 외 페이지 3개 - 회사 - Microsoft​ Edge\n",
      "Size(width=974, height=1047)\n",
      "953 0 1927 1047\n"
     ]
    }
   ],
   "source": [
    "fw = pyautogui.getActiveWindow() # 현재 활성화된 창 (VSCode)\n",
    "print(fw.title) # 창의 제목 정보\n",
    "print(fw.size) # 창의 크기 정보 (width, height)\n",
    "print(fw.left, fw.top, fw.right, fw.bottom) # 창의 좌표 정보\n",
    "pyautogui.click(fw.left + 25, fw.top + 20)\n"
   ]
  },
  {
   "cell_type": "code",
   "execution_count": null,
   "id": "1fb5d911",
   "metadata": {
    "scrolled": true
   },
   "outputs": [],
   "source": [
    "for w in pyautogui.getAllWindows():\n",
    "    print(w) # 모든 윈도우 가져오기"
   ]
  },
  {
   "cell_type": "code",
   "execution_count": 5,
   "id": "014f0394",
   "metadata": {},
   "outputs": [
    {
     "name": "stdout",
     "output_type": "stream",
     "text": [
      "<Win32Window left=\"439\", top=\"141\", width=\"891\", height=\"397\", title=\"제목 없음 - Windows 메모장\">\n"
     ]
    }
   ],
   "source": [
    "w = pyautogui.getWindowsWithTitle(\"제목 없음\")[0]\n",
    "print(w)\n",
    "if w.isActive == False: # 현재 활성화가 되지 않았다면\n",
    "    w.activate() # 활성화 (맨 앞으로 가져오기)\n",
    "\n",
    "if w.isMaximized == False: # 현재 최대화가 되지 않았다면\n",
    "    w.maximize() # 최대화\n",
    "else :\n",
    "    w.minimize() # 아니면 최소화 "
   ]
  },
  {
   "cell_type": "code",
   "execution_count": null,
   "id": "a7a6dcc0",
   "metadata": {},
   "outputs": [],
   "source": [
    "w.restore() # 화면 원복"
   ]
  },
  {
   "cell_type": "code",
   "execution_count": null,
   "id": "7365e07c",
   "metadata": {},
   "outputs": [],
   "source": [
    "w.close() # 윈도우 닫기"
   ]
  },
  {
   "cell_type": "markdown",
   "id": "e3b832f3",
   "metadata": {},
   "source": [
    "# 키보드 컨트롤\n",
    "특정키 입력및 키보드 출력, 조합키등"
   ]
  },
  {
   "cell_type": "code",
   "execution_count": 9,
   "id": "2fd8bf4c",
   "metadata": {},
   "outputs": [],
   "source": [
    "import pyautogui"
   ]
  },
  {
   "cell_type": "code",
   "execution_count": 24,
   "id": "4d80253a",
   "metadata": {},
   "outputs": [],
   "source": [
    "w = pyautogui.getWindowsWithTitle(\"제목 없음\")[0] # 메모장 1개 띄운 상태에서 가져옴\n",
    "w.activate()\n",
    "\n",
    "pyautogui.write(\"NadoCoding\", interval=0.25)\n",
    "pyautogui.write(\"나도코딩\")"
   ]
  },
  {
   "cell_type": "code",
   "execution_count": 26,
   "id": "2c6fb46c",
   "metadata": {},
   "outputs": [],
   "source": [
    "w = pyautogui.getWindowsWithTitle(\"제목 없음\")[0] # 메모장 1개 띄운 상태에서 가져옴\n",
    "w.activate()\n",
    "pyautogui.write(\"30th years\\n\")\n",
    "pyautogui.write(\"Edwards\\n\", interval=0.25)\n"
   ]
  },
  {
   "cell_type": "code",
   "execution_count": 27,
   "id": "4f5d7667",
   "metadata": {},
   "outputs": [],
   "source": [
    "import pyperclip\n",
    "w = pyautogui.getWindowsWithTitle(\"제목 없음\")[0] # 메모장 1개 띄운 상태에서 가져옴\n",
    "w.activate\n",
    "\n",
    "pyperclip.copy(\"나도코딩\") # \"나도코딩\" 글자를 클립보드에 저장\n",
    "pyautogui.hotkey(\"ctrl\", \"v\") # 클립보드에 있는 내용을 붙여넣기"
   ]
  },
  {
   "cell_type": "code",
   "execution_count": null,
   "id": "e76f2ac8",
   "metadata": {},
   "outputs": [],
   "source": [
    "# pyautogui.write([\"t\",\"e\",\"s\",\"t\",\"left\",\"left\",\"right\",\"l\",\"a\",\"enter\"], interval=0.25)\n",
    "# t e s t 순서대로 적고 왼쪽 방향키 2번, 오른쪽 방향키 2번, l a 순서대로 적고 enter 입력\n",
    "\n",
    "# 특수 문자\n",
    "# shift 4 -> $\n",
    "# pyautogui.keyDown(\"shift\") # shift 키를 누른 상태에서\n",
    "# pyautogui.press(\"4\") # 숫자 4를 입력하고\n",
    "# pyautogui.keyUp(\"shift\") # shift 키를 뗀다\n",
    "\n",
    "# 조합키 (Hot Key)\n",
    "# pyautogui.keyDown(\"ctrl\")\n",
    "# pyautogui.keyDown(\"a\")\n",
    "# pyautogui.keyUp(\"a\") # press(\"a\")\n",
    "# pyautogui.keyUp(\"ctrl\") # Ctrl + A\n",
    "\n",
    "# 간편한 조합키\n",
    "#pyautogui.hotkey(\"ctrl\", \"alt\", \"shift\", \"a\")\n",
    "# Ctrl 누르고 > Alt 누르고 > Shift 누르고 > A 누르고 > A 떼고 > Shift 떼고 > Alt 떼고 > Ctrl 떼고\n",
    "# pyautogui.hotkey(\"ctrl\", \"a\")\n",
    "\n",
    "import pyperclip\n",
    "# pyperclip.copy(\"나도코딩\") # \"나도코딩\" 글자를 클립보드에 저장\n",
    "# pyautogui.hotkey(\"ctrl\", \"v\") # 클립보드에 있는 내용을 붙여넣기\n",
    "\n",
    "def my_write(text):\n",
    "    pyperclip.copy(text)\n",
    "    pyautogui.hotkey(\"ctrl\", \"v\")\n",
    "\n",
    "my_write(\"나도코딩\")\n",
    "\n",
    "# 자동화 프로그램 종료\n",
    "# win : ctrl + alt + del\n",
    "# mac : cmd + shift + option + q"
   ]
  }
 ],
 "metadata": {
  "kernelspec": {
   "display_name": "Python 3 (ipykernel)",
   "language": "python",
   "name": "python3"
  },
  "language_info": {
   "codemirror_mode": {
    "name": "ipython",
    "version": 3
   },
   "file_extension": ".py",
   "mimetype": "text/x-python",
   "name": "python",
   "nbconvert_exporter": "python",
   "pygments_lexer": "ipython3",
   "version": "3.9.12"
  }
 },
 "nbformat": 4,
 "nbformat_minor": 5
}
