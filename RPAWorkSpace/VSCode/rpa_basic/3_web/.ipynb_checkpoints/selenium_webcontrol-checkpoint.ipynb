{
 "cells": [
  {
   "cell_type": "markdown",
   "id": "c1faa663",
   "metadata": {},
   "source": [
    "# 원격으로 크롬 실행하기"
   ]
  },
  {
   "cell_type": "code",
   "execution_count": 10,
   "id": "a09ff7ce",
   "metadata": {},
   "outputs": [
    {
     "name": "stderr",
     "output_type": "stream",
     "text": [
      "C:\\Users\\ParkGY\\AppData\\Local\\Temp\\ipykernel_36172\\69547628.py:5: DeprecationWarning: executable_path has been deprecated, please pass in a Service object\n",
      "  browser = webdriver.Chrome('./chromedriver.exe')\n"
     ]
    }
   ],
   "source": [
    "from selenium import webdriver\n",
    "from selenium.webdriver.common.by import By\n",
    "from selenium.webdriver.common.keys import Keys\n",
    "\n",
    "browser = webdriver.Chrome('./chromedriver.exe')\n",
    "#browser = webdriver.Chrome()\n"
   ]
  },
  {
   "cell_type": "markdown",
   "id": "7fe82481",
   "metadata": {},
   "source": [
    "## 네이버로 이동하기"
   ]
  },
  {
   "cell_type": "code",
   "execution_count": 11,
   "id": "241d6a15",
   "metadata": {},
   "outputs": [],
   "source": [
    "browser.get('http://naver.com')"
   ]
  },
  {
   "cell_type": "markdown",
   "id": "57aa9f99",
   "metadata": {},
   "source": [
    "### element 찾기 fine_element(by,text)\n",
    "- By.ID\t태그의 id값으로 추출\n",
    "- By.NAME\t태그의 name값으로 추출\n",
    "- By.XPATH\t태그의 경로로 추출\n",
    "- By.LINK_TEXT\t링크 텍스트값으로 추출\n",
    "- By.PARTIAL_LINK_TEXT\t링크 텍스트의 자식 텍스트 값을 추출\n",
    "- By.TAG_NAME\t태그 이름으로 추출\n",
    "- By.CLASS_NAME\t태그의 클래스명으로 추출\n",
    "- By.CSS_SELECTOR\tcss선택자로 추출"
   ]
  },
  {
   "cell_type": "markdown",
   "id": "3155b5d5",
   "metadata": {},
   "source": [
    "### 네이버 카페 메뉴 찾아서 이동하기"
   ]
  },
  {
   "cell_type": "code",
   "execution_count": 12,
   "id": "9e928d86",
   "metadata": {},
   "outputs": [
    {
     "name": "stdout",
     "output_type": "stream",
     "text": [
      "https://section.cafe.naver.com/\n"
     ]
    }
   ],
   "source": [
    "elem = browser.find_element(By.LINK_TEXT,'카페')\n",
    "print(elem.get_attribute('href'))\n",
    "elem.click()"
   ]
  },
  {
   "cell_type": "code",
   "execution_count": 13,
   "id": "8d73cf2a",
   "metadata": {},
   "outputs": [],
   "source": [
    "browser.back()"
   ]
  },
  {
   "cell_type": "code",
   "execution_count": 14,
   "id": "3055d25b",
   "metadata": {},
   "outputs": [],
   "source": [
    "browser.forward()"
   ]
  },
  {
   "cell_type": "code",
   "execution_count": null,
   "id": "94a4df44",
   "metadata": {},
   "outputs": [],
   "source": [
    "browser.refresh()"
   ]
  },
  {
   "cell_type": "markdown",
   "id": "ca44bdbf",
   "metadata": {},
   "source": [
    "## 검색창 입력하기"
   ]
  },
  {
   "cell_type": "code",
   "execution_count": null,
   "id": "1cb8274d",
   "metadata": {},
   "outputs": [],
   "source": [
    "elem = browser.find_element(By.ID,'query')\n",
    "elem.send_keys('나도코딩')\n",
    "# from selenium.webdriver.common.keys import Keys\n",
    "elem.send_keys(Keys.ENTER)"
   ]
  },
  {
   "cell_type": "code",
   "execution_count": null,
   "id": "0fcf46ac",
   "metadata": {
    "scrolled": false
   },
   "outputs": [],
   "source": [
    "elem = browser.find_element(By.TAG_NAME,'a')\n",
    "elem.get_attribute('href')"
   ]
  },
  {
   "cell_type": "markdown",
   "id": "eabfca4e",
   "metadata": {},
   "source": [
    "### 다음에서 검색창을 찾고 검색어 입력뒤에 엔터키 전송"
   ]
  },
  {
   "cell_type": "code",
   "execution_count": null,
   "id": "fffda07a",
   "metadata": {},
   "outputs": [],
   "source": [
    "# 다음으로 이동\n",
    "browser.get('http://daum.net')\n",
    "\n",
    "# 검색창 찾기\n",
    "elem = browser.find_element(By.NAME,'q')\n",
    "elem.send_keys('나도코딩')\n",
    "elem.send_keys(Keys.ENTER)"
   ]
  },
  {
   "cell_type": "markdown",
   "id": "dcb87e44",
   "metadata": {},
   "source": [
    "### 브라우저 화면 스크린샷 찍기"
   ]
  },
  {
   "cell_type": "code",
   "execution_count": null,
   "id": "8f89434b",
   "metadata": {
    "scrolled": true
   },
   "outputs": [],
   "source": [
    "browser.save_screenshot('daum.png')"
   ]
  },
  {
   "cell_type": "markdown",
   "id": "bab49c9d",
   "metadata": {},
   "source": [
    "### 페이지 소스 보기"
   ]
  },
  {
   "cell_type": "code",
   "execution_count": null,
   "id": "a9170228",
   "metadata": {},
   "outputs": [],
   "source": [
    "browser.page_source"
   ]
  },
  {
   "cell_type": "code",
   "execution_count": null,
   "id": "e5616c10",
   "metadata": {},
   "outputs": [],
   "source": [
    "# 브라우저 종료\n",
    "browser.close() # 현재 탭 닫기\n",
    "browser.quit() # 브라우저 종료하기"
   ]
  }
 ],
 "metadata": {
  "kernelspec": {
   "display_name": "Python 3 (ipykernel)",
   "language": "python",
   "name": "python3"
  },
  "language_info": {
   "codemirror_mode": {
    "name": "ipython",
    "version": 3
   },
   "file_extension": ".py",
   "mimetype": "text/x-python",
   "name": "python",
   "nbconvert_exporter": "python",
   "pygments_lexer": "ipython3",
   "version": "3.9.12"
  }
 },
 "nbformat": 4,
 "nbformat_minor": 5
}
