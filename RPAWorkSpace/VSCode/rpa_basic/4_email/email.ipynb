{
 "cells": [
  {
   "cell_type": "code",
   "execution_count": 3,
   "id": "d7db425e",
   "metadata": {},
   "outputs": [],
   "source": [
    "import smtplib\n",
    "from account import *\n",
    "from email.message import EmailMessage\n",
    "\n",
    "msg = EmailMessage()\n",
    "msg[\"Subject\"] = \"테스트 메일입니다\" # 제목\n",
    "msg[\"From\"] = EMAIL_ADDRESS # 보내는 사람\n",
    "msg[\"To\"] = \"pjy8412@gmail.com\" # 받는 사람\n",
    "\n",
    "# 참조\n",
    "msg[\"Cc\"] = \"pjy8412@gmail.com\"\n",
    "\n",
    "msg.set_content(\"테스트 본문입니다\") # 본문\n",
    "\n",
    "with smtplib.SMTP(\"smtp.gmail.com\", 587) as smtp:\n",
    "    smtp.ehlo()\n",
    "    smtp.starttls()\n",
    "    smtp.login(EMAIL_ADDRESS, EMAIL_PASSWORD)\n",
    "    smtp.send_message(msg)"
   ]
  }
 ],
 "metadata": {
  "kernelspec": {
   "display_name": "Python 3 (ipykernel)",
   "language": "python",
   "name": "python3"
  },
  "language_info": {
   "codemirror_mode": {
    "name": "ipython",
    "version": 3
   },
   "file_extension": ".py",
   "mimetype": "text/x-python",
   "name": "python",
   "nbconvert_exporter": "python",
   "pygments_lexer": "ipython3",
   "version": "3.9.12"
  }
 },
 "nbformat": 4,
 "nbformat_minor": 5
}
